{
 "cells": [
  {
   "cell_type": "code",
   "execution_count": 1,
   "metadata": {
    "collapsed": false,
    "deletable": true,
    "editable": true,
    "scrolled": true
   },
   "outputs": [],
   "source": [
    "import os\n",
    "import numpy as np\n",
    "import matplotlib\n",
    "from matplotlib import pyplot as plt\n",
    "from matplotlib import ticker, cm\n",
    "import pandas as pd\n",
    "from scipy.interpolate import interp1d\n",
    "from scipy.optimize import leastsq, root, brentq, fsolve\n",
    "import tqdm\n",
    "\n",
    "import multiprocessing\n",
    "from functools import partial\n",
    "\n",
    "import pycbc.waveform\n",
    "import cosmolopy.distance as cd\n",
    "\n",
    "from gwaxion import physics\n",
    "\n",
    "mplparams = {\n",
    "    'text.usetex': True,  # use LaTeX for all text\n",
    "    'axes.linewidth': 1,  # set axes linewidths to 0.5\n",
    "    'axes.grid': False,  # add a grid\n",
    "    'axes.labelweight': 'normal',\n",
    "    'font.family': 'serif',\n",
    "    'font.size': 24,\n",
    "    'font.serif': 'Computer Modern Roman'\n",
    "}\n",
    "matplotlib.rcParams.update(mplparams)\n",
    "\n",
    "cosmo = {'omega_M_0':0.308, 'omega_lambda_0':0.692, 'omega_k_0':0.0, 'h':0.678}"
   ]
  },
  {
   "cell_type": "markdown",
   "metadata": {
    "deletable": true,
    "editable": true
   },
   "source": [
    "# Horizon\n",
    "\n",
    "To find the horizon we want to set $\\rho = 1$, where\n",
    "\\begin{equation*}\n",
    "\\rho \\equiv \\frac{h_\\oplus}{h_{\\rm th}(f_\\oplus)} = \\left( \\frac{h_0}{h_{95}} d_0\\, {\\rm ASD}_{95} \\right) \\frac{1}{d_z\\, {\\rm ASD}[f_0\\left(1+z\\right)^{-1}]}\\, ,\n",
    "\\end{equation*}\n",
    "and $h_\\oplus$ and $f_\\oplus$ are the GW amplitude and frequency measured at Earth, namely\n",
    "\\begin{align}\n",
    "h_\\oplus &= h_0 \\frac{d_0}{d_z}\\, ,\\\\\n",
    "f_\\oplus &= f_0 \\left(1+z\\right)^{-1}\\, ,\n",
    "\\end{align}\n",
    "with $f_0$ the source-frame GW frequency and $h_0$ the strain at luminosity distance $d_0$.\n",
    "\n",
    "The denominator in the second factor above can be interpolated for $f_0$ and $z$."
   ]
  },
  {
   "cell_type": "code",
   "execution_count": 2,
   "metadata": {
    "collapsed": false,
    "deletable": true,
    "editable": true
   },
   "outputs": [],
   "source": [
    "def h95_viterbi(asd_f, T=None, ndet=1):\n",
    "    # From Lilli: 95% detection efficiency h0 is 4.7e-26 at 201.2 Hz and an ASD of 4E-24 Sqrt[Hz], for T=80 days\n",
    "    h95ref = 4.7E-26\n",
    "    f95ref = 201.2\n",
    "    asd95ref = 4E-24\n",
    "    Tref = 80*physics.DAYSID_SI\n",
    "    ndetref = 2\n",
    "    T = T if T is not None else Tref\n",
    "    return h95ref * (asd_f/asd95ref) * (Tref/T)**0.25 * (ndetref/float(ndet))**0.5\n",
    "\n",
    "def euclidean_horizon(h0, f=None, asd_interp=None, dref=5, T=None):\n",
    "    \"\"\" Computes horizon (Mpc) assuming no redshift.\"\"\"\n",
    "    asd = asd_interp(f)\n",
    "    h95 = h95_viterbi(asd, T=T)\n",
    "    return h0 * dref / h95\n",
    "\n",
    "def z_to_dl(z):\n",
    "    return cd.luminosity_distance(z, **cosmo)\n",
    "\n",
    "## find redshift for a given luminosity distance\n",
    "def dl_to_z(dl, z0=1):\n",
    "    return leastsq(lambda z: dl - cd.luminosity_distance(z, **cosmo), z0)[0]\n",
    "\n",
    "# ## estimate the horizon for recursive evaluation in the main code\n",
    "# def horizon_dist_eval(h_ratio, d0, z0):\n",
    "#     guess_dist = d0*h_ratio\n",
    "#     guess_redshift, res = leastsq(findzfromDL, z0, args=guess_dist)\n",
    "#     return guess_redshift[0], guess_dist\n",
    "\n"
   ]
  },
  {
   "cell_type": "code",
   "execution_count": 3,
   "metadata": {
    "collapsed": false,
    "deletable": true,
    "editable": true
   },
   "outputs": [],
   "source": [
    "# define h and z factors\n",
    "\n",
    "orientation_factor = 2.8  # factor to convert from avg. orientation to optimal orientation\n",
    "h95ref = 4.7E-26 / orientation_factor\n",
    "asd95ref = 4E-24\n",
    "tdriftref = 8*physics.DAYSID_SI\n",
    "\n",
    "log_d0 = np.log10(5)\n",
    "log_h95ref = np.log10(h95ref)\n",
    "log_asd95ref = np.log10(asd95ref)\n",
    "log_tdriftref = np.log10(tdriftref)\n",
    "\n",
    "def log_h_factor(h0, tdrift=tdriftref):\n",
    "    log_h0 = np.log10(h0)\n",
    "    log_tdrift = np.log10(tdrift)\n",
    "    return log_h0 + log_d0 + log_asd95ref - log_h95ref\n",
    "\n",
    "def log_z_factor(f0, z, asd_interp):\n",
    "    dz = cd.luminosity_distance(z, **cosmo)\n",
    "    fz = f0/(1. + z)\n",
    "    return np.log10(dz * asd_interp(fz))\n",
    "\n",
    "def log_tdrift_factor(tdrift_src, z):\n",
    "    # tdrift_src is the tdrift corresponding to fdot in the *source* frame\n",
    "    # to get the tdrift for fdot in the *detector* frame must redshift\n",
    "    log_tdrift_det = np.log10(tdrift_src * (1. + z))\n",
    "    return 0.25*(log_tdrift_det - log_tdriftref)\n",
    "\n",
    "# horizon-finding functions\n",
    "def compute_log_zH_brentq(h0, f0, asd_interp, tdrift=tdriftref, log_z_min=-10, log_z_max=2):\n",
    "    try:\n",
    "        def remainder(log_z):\n",
    "            z = 10**log_z\n",
    "            return log_h_factor(h0) + log_tdrift_factor(tdrift, z) - log_z_factor(f0, z, asd_interp)\n",
    "        log_zH = brentq(remainder, log_z_min, log_z_max)\n",
    "    except ValueError:\n",
    "        log_zH = np.nan\n",
    "    return log_zH\n",
    "            \n",
    "def compute_log_zH_leastsq(h0, f0, asd_interp, log_z_guess=0):\n",
    "    log_zH = leastsq(lambda log_z: log_h_factor(h0) - log_z_factor(f0, 10**log_z, asd_interp), log_z_guess)[0]\n",
    "    return log_zH"
   ]
  },
  {
   "cell_type": "code",
   "execution_count": 4,
   "metadata": {
    "collapsed": false,
    "deletable": true,
    "editable": true,
    "scrolled": true
   },
   "outputs": [
    {
     "name": "stdout",
     "output_type": "stream",
     "text": [
      "[2.26156457e-10]\n",
      "1.1e+00 pc\n"
     ]
    }
   ],
   "source": [
    "# find approx redshift for dL = 1 pc\n",
    "print dl_to_z(1E-6)\n",
    "print \"%.1e pc\" % (z_to_dl(2.5E-10)*1E6)"
   ]
  },
  {
   "cell_type": "markdown",
   "metadata": {
    "deletable": true,
    "editable": true
   },
   "source": [
    "Define functions to use with `multiprocessing`:"
   ]
  },
  {
   "cell_type": "code",
   "execution_count": 5,
   "metadata": {
    "collapsed": false,
    "deletable": true,
    "editable": true
   },
   "outputs": [],
   "source": [
    "reload(physics)\n",
    "from gwaxion.parallel import *"
   ]
  },
  {
   "cell_type": "markdown",
   "metadata": {
    "deletable": true,
    "editable": true
   },
   "source": [
    "## Source frame\n",
    "\n",
    "Load source-frame quantities from disk, or create if not found"
   ]
  },
  {
   "cell_type": "code",
   "execution_count": 6,
   "metadata": {
    "collapsed": false,
    "deletable": true,
    "editable": true
   },
   "outputs": [
    {
     "name": "stdout",
     "output_type": "stream",
     "text": [
      "Loading file: 'peak_DE.hdf5'\n",
      "200 200\n"
     ]
    }
   ],
   "source": [
    "dfpath = 'peak_DE.hdf5'\n",
    "# dfpath = 'peak_DE_both-times.hdf5'\n",
    "rewrite = False\n",
    "\n",
    "NCPUS_0 = 8\n",
    "NCPUS_1 = 8\n",
    "\n",
    "if os.path.exists(dfpath) and not rewrite:\n",
    "    print \"Loading file: %r\" % dfpath\n",
    "    df_max = pd.read_hdf(dfpath, 'table', mode='r')\n",
    "        \n",
    "    n_mass = len(set(df_max['mbh']))\n",
    "    n_chi = len(set(df_max['chi']))\n",
    "\n",
    "    print n_mass, n_chi\n",
    "else:\n",
    "    print \"Finding peak numerically...\"\n",
    "    n_mass = 400\n",
    "    n_chi = 200\n",
    "    \n",
    "    mbhs_array = np.logspace(-1, 4, n_mass)\n",
    "    chis_array = np.linspace(1E-4, 1, n_chi, endpoint=False)\n",
    "\n",
    "    distance = 5E6 * physics.PC_SI\n",
    "\n",
    "    # create mbh_chi array\n",
    "    mbh_chis = []\n",
    "    for mbh in mbhs_array:\n",
    "        for chi in chis_array:\n",
    "            mbh_chis.append([mbh, chi])\n",
    "    \n",
    "    # run over Ms and chis\n",
    "    pool = MyPool(NCPUS_0)\n",
    "    rows = pool.map(partial(get_peak_row_time, distance=distance, ncpus=NCPUS_1), mbh_chis)\n",
    "    df_max = pd.DataFrame(rows)\n",
    "    df_max.to_hdf(dfpath, 'table', mode='w')\n",
    "    \n",
    "# condition data\n",
    "df_cond = df_max[(df_max['fgw']>=0.01) & (df_max['fgw']<=1E6) & (df_max['h0']>1E-40)].copy()"
   ]
  },
  {
   "cell_type": "code",
   "execution_count": 7,
   "metadata": {
    "collapsed": false,
    "deletable": true,
    "editable": true
   },
   "outputs": [],
   "source": [
    "# add a column with boson masses\n",
    "def get_boson(row):\n",
    "    return row['fgw']*np.pi*physics.HBAR_SI / physics.EV_SI\n",
    "#     alpha = physics.Alpha(m_bh=row['mbh'], alpha=row['alpha'])\n",
    "#     return alpha.m_b_ev\n",
    "\n",
    "df_cond['boson'] = df_cond.apply(lambda row: get_boson(row), axis=1)\n",
    "df_max['boson'] = df_cond['boson']"
   ]
  },
  {
   "cell_type": "code",
   "execution_count": 8,
   "metadata": {
    "collapsed": false,
    "deletable": true,
    "editable": true
   },
   "outputs": [],
   "source": [
    "# add a columns with alpha\n",
    "def get_alpha(row):\n",
    "    return physics.Alpha(m_bh=row['mbh'], m_b=row['boson'], ev=True, msun=True).alpha\n",
    "\n",
    "# add a columns with fdot and corresponding Tdrift\n",
    "def get_fdot(row):\n",
    "    return (3E-14)*(10. / row['mbh'])**2 * (row['alpha']/0.1)**19 * row['chi']**2\n",
    "\n",
    "def get_tdrift(row, delta_f=7.23):\n",
    "    # fdot* Tdrift = delta_f\n",
    "    # delta_f = 1/(2.*Tdrift)\n",
    "    # Tdrift = sqrt(2.*fdot)\n",
    "    return 1./np.sqrt(2.*row['fdot'])\n",
    "\n",
    "if 'alpha' not in df_cond.keys():\n",
    "    df_cond['alpha'] = df_cond.apply(lambda row: get_alpha(row), axis=1)\n",
    "    df_max['alpha'] = df_cond['alpha']\n",
    "\n",
    "df_cond['fdot'] = df_cond.apply(lambda row: get_fdot(row), axis=1)\n",
    "df_max['fdot'] = df_cond['fdot']\n",
    "\n",
    "df_cond['tdrift'] = df_cond.apply(lambda row: get_tdrift(row), axis=1)\n",
    "df_max['tdrift'] = df_cond['tdrift']"
   ]
  },
  {
   "cell_type": "code",
   "execution_count": 9,
   "metadata": {
    "collapsed": false,
    "deletable": true,
    "editable": true
   },
   "outputs": [
    {
     "data": {
      "text/plain": [
       "alpha     4.000000e-01\n",
       "chi       1.000000e+00\n",
       "fgw       2.509755e+04\n",
       "h0        6.499632e-26\n",
       "mbh       1.011638e+00\n",
       "boson     5.189756e-11\n",
       "fdot      8.057695e-01\n",
       "tdrift    7.877340e-01\n",
       "Name: 8199, dtype: float64"
      ]
     },
     "execution_count": 9,
     "metadata": {},
     "output_type": "execute_result"
    }
   ],
   "source": [
    "loc = df_cond['fdot'][df_cond['mbh']>1].idxmax()\n",
    "df_cond.loc[loc]"
   ]
  },
  {
   "cell_type": "markdown",
   "metadata": {
    "deletable": true,
    "editable": true
   },
   "source": [
    "Will have to add a contour to mark values of $\\dot f > 10^{-8}$."
   ]
  },
  {
   "cell_type": "markdown",
   "metadata": {
    "deletable": true,
    "editable": true
   },
   "source": [
    "# aLIGO design\n",
    "\n",
    "## PSD"
   ]
  },
  {
   "cell_type": "code",
   "execution_count": 10,
   "metadata": {
    "collapsed": false,
    "deletable": true,
    "editable": true
   },
   "outputs": [
    {
     "name": "stderr",
     "output_type": "stream",
     "text": [
      "/Users/maxisi/custompy/lib/python2.7/site-packages/matplotlib/font_manager.py:1331: UserWarning: findfont: Font family [u'serif'] not found. Falling back to DejaVu Sans\n",
      "  (prop.get_family(), self.defaultFamily[fontext]))\n"
     ]
    },
    {
     "data": {
      "image/png": "[encoded data removed]",
      "text/plain": [
       "<Figure size 432x288 with 1 Axes>"
      ]
     },
     "metadata": {},
     "output_type": "display_data"
    }
   ],
   "source": [
    "# use up to date aLIGO curve from T1800044\n",
    "vals = np.loadtxt('noise_curves_T1500293-v10/aLIGODesign_T1800044.txt')\n",
    "fs, asd_des_array = vals[:,0], vals[:,1]\n",
    "\n",
    "# create interpolant (in logspace)\n",
    "log_asd_des_interp = interp1d(np.log10(fs), np.log10(asd_des_array), fill_value='extrapolate')\n",
    "def asd_des_interp(f): lasd=log_asd_des_interp(np.log10(f)); return 10**lasd\n",
    "\n",
    "fmin, fmax = 0.1, 1E4 #freqs.min(), freqs.max()\n",
    "freqs = np.logspace(np.log10(fmin), np.log10(fmax), int(1E6))\n",
    "\n",
    "fig, ax = plt.subplots(1)\n",
    "ax.plot(freqs, asd_des_interp(freqs))\n",
    "ax.set_xscale('log')\n",
    "ax.set_yscale('log')\n",
    "ax.set_xlim(fmin, fmax)\n",
    "ax.set_xlabel(r'$f$ (Hz)')\n",
    "ax.set_ylabel(r'ASD')\n",
    "plt.show(fig)"
   ]
  },
  {
   "cell_type": "markdown",
   "metadata": {
    "deletable": true,
    "editable": true
   },
   "source": [
    "## Diagnose horizon finders"
   ]
  },
  {
   "cell_type": "code",
   "execution_count": 11,
   "metadata": {
    "collapsed": false,
    "deletable": true,
    "editable": true
   },
   "outputs": [
    {
     "name": "stdout",
     "output_type": "stream",
     "text": [
      "100 loops, best of 3: 5.72 ms per loop\n",
      "[17.3105999]\n",
      "100 loops, best of 3: 4.24 ms per loop\n",
      "[17.3105999]\n",
      "100 loops, best of 3: 4.33 ms per loop\n",
      "[17.3105999]\n"
     ]
    }
   ],
   "source": [
    "# test horizon finders\n",
    "\n",
    "%timeit log_zH_leastsq = compute_log_zH_leastsq(5E-26, 200, asd_des_interp)\n",
    "log_zH_leastsq = compute_log_zH_leastsq(5E-26, 200, asd_des_interp)\n",
    "print z_to_dl(10**log_zH_leastsq)\n",
    "\n",
    "%timeit log_zH_brentq = compute_log_zH_brentq(5E-26, 200, asd_des_interp)\n",
    "log_zH_brentq = compute_log_zH_brentq(5E-26, 200, asd_des_interp)\n",
    "print z_to_dl(10**log_zH_leastsq)\n",
    "\n",
    "%timeit log_zH_brentq = compute_log_zH_brentq(5E-26, 200, asd_des_interp, log_z_min=-9, log_z_max=0)\n",
    "log_zH_brentq = compute_log_zH_brentq(5E-26, 200, asd_des_interp)\n",
    "print z_to_dl(10**log_zH_leastsq)\n"
   ]
  },
  {
   "cell_type": "code",
   "execution_count": 12,
   "metadata": {
    "collapsed": false,
    "deletable": true,
    "editable": true
   },
   "outputs": [
    {
     "name": "stderr",
     "output_type": "stream",
     "text": [
      "100%|██████████| 2500/2500 [00:12<00:00, 196.00it/s]\n"
     ]
    }
   ],
   "source": [
    "h0_array = np.logspace(-27, -22, 50)\n",
    "f0_array = np.logspace(np.log10(30), 4, 50)\n",
    "\n",
    "# log(r) = log(h-factor) - log(z-factor) ==> want lobbg(h-factor) - log(z-factor) == 0\n",
    "h0s, f0s, log_zHs = [], [], []\n",
    "with tqdm.tqdm(range(len(h0_array)*len(f0_array))) as pbar:\n",
    "    for h0 in h0_array:\n",
    "        for f0 in f0_array:\n",
    "            log_zHs.append(compute_log_zH_brentq(h0, f0, asd_des_interp))\n",
    "            h0s.append(h0)\n",
    "            f0s.append(f0)\n",
    "            pbar.update()\n",
    "            \n",
    "h0s = np.array(h0s)\n",
    "f0s = np.array(f0s)\n",
    "log_zHs = np.array(log_zHs)"
   ]
  },
  {
   "cell_type": "code",
   "execution_count": 13,
   "metadata": {
    "collapsed": false,
    "deletable": true,
    "editable": true,
    "scrolled": false
   },
   "outputs": [
    {
     "data": {
      "image/png": "[encoded data removed]",
      "text/plain": [
       "<Figure size 432x288 with 2 Axes>"
      ]
     },
     "metadata": {},
     "output_type": "display_data"
    }
   ],
   "source": [
    "# diagnose interpolant data\n",
    "\n",
    "fig, ax = plt.subplots(1)\n",
    "cm = ax.scatter(f0s, h0s, c=log_zHs, cmap='magma')\n",
    "\n",
    "# add colorbar\n",
    "cb = plt.colorbar(cm, label=r'$\\log z$-horizon')\n",
    "cb.ax.tick_params(labelsize=18) \n",
    "\n",
    "plt.xlabel(r'$f_0$')\n",
    "plt.ylabel(r'$h_0$')\n",
    "ax.patch.set_facecolor(\"grey\")\n",
    "\n",
    "plt.xscale('log')\n",
    "plt.yscale('log')\n",
    "\n",
    "plt.xlim(30, 1E4)\n",
    "plt.ylim(1E-27, 1E-22)\n",
    "\n",
    "plt.show()\n",
    "plt.close()"
   ]
  },
  {
   "cell_type": "markdown",
   "metadata": {
    "deletable": true,
    "editable": true
   },
   "source": [
    "## Range"
   ]
  },
  {
   "cell_type": "code",
   "execution_count": 14,
   "metadata": {
    "collapsed": false,
    "deletable": true,
    "editable": true
   },
   "outputs": [
    {
     "name": "stderr",
     "output_type": "stream",
     "text": [
      "100%|██████████| 32000/32000 [03:22<00:00, 157.73it/s]\n"
     ]
    }
   ],
   "source": [
    "# log(r) = log(h-factor) - log(z-factor) ==> want lobbg(h-factor) - log(z-factor) == 0\n",
    "\n",
    "log_zHs_des = []\n",
    "with tqdm.tqdm(range(len(df_cond))) as pbar:\n",
    "    for h0, f0, tdrift in zip(df_cond['h0'], df_cond['fgw'], df_cond['tdrift']):\n",
    "        log_zHs_des.append(compute_log_zH_brentq(h0, f0, asd_des_interp, tdrift=tdrift))\n",
    "        pbar.update()        \n",
    "log_zHs_des = np.array(log_zHs_des)"
   ]
  },
  {
   "cell_type": "code",
   "execution_count": 15,
   "metadata": {
    "collapsed": false,
    "deletable": true,
    "editable": true
   },
   "outputs": [
    {
     "data": {
      "text/plain": [
       "-0.7454868395409081"
      ]
     },
     "execution_count": 15,
     "metadata": {},
     "output_type": "execute_result"
    }
   ],
   "source": [
    "np.nanmax(log_zHs_des)"
   ]
  },
  {
   "cell_type": "code",
   "execution_count": 16,
   "metadata": {
    "collapsed": false,
    "deletable": true,
    "editable": true
   },
   "outputs": [],
   "source": [
    "df_cond['log_zH_des'] = log_zHs_des\n",
    "fname, ext = os.path.splitext(dfpath)\n",
    "# df_cond.to_hdf('%s_design%s' % (fname, ext), 'table', mode='w')\n",
    "df_max['log_zH_des'] = df_cond['log_zH_des']"
   ]
  },
  {
   "cell_type": "code",
   "execution_count": 17,
   "metadata": {
    "collapsed": false,
    "deletable": true,
    "editable": true
   },
   "outputs": [
    {
     "data": {
      "text/plain": [
       "<module 'gwaxion.utilities' from '/Users/maxisi/custompy/lib/python2.7/site-packages/gwaxion/utilities.pyc'>"
      ]
     },
     "execution_count": 17,
     "metadata": {},
     "output_type": "execute_result"
    }
   ],
   "source": [
    "from gwaxion import utilities\n",
    "reload(utilities)"
   ]
  },
  {
   "cell_type": "code",
   "execution_count": 18,
   "metadata": {
    "collapsed": false,
    "deletable": true,
    "editable": true
   },
   "outputs": [
    {
     "name": "stdout",
     "output_type": "stream",
     "text": [
      "6.39958207112366e-22\n",
      "253896.33872294426\n",
      "14700422638799.225 0.07786718186642878\n"
     ]
    }
   ],
   "source": [
    "print df_cond['h0'].max()\n",
    "print df_cond['fgw'].max()\n",
    "print df_cond['tdrift'].max(), df_cond['tdrift'].min()"
   ]
  },
  {
   "cell_type": "code",
   "execution_count": 19,
   "metadata": {
    "collapsed": false,
    "deletable": true,
    "editable": true,
    "scrolled": true
   },
   "outputs": [
    {
     "name": "stderr",
     "output_type": "stream",
     "text": [
      "/Users/maxisi/custompy/lib/python2.7/site-packages/scipy/integrate/quadpack.py:385: IntegrationWarning: The integral is probably divergent, or slowly convergent.\n",
      "  warnings.warn(msg, IntegrationWarning)\n"
     ]
    },
    {
     "data": {
      "image/png": "[encoded data removed]",
      "text/plain": [
       "<Figure size 792x576 with 2 Axes>"
      ]
     },
     "metadata": {},
     "output_type": "display_data"
    }
   ],
   "source": [
    "# contours\n",
    "\n",
    "X = np.array(df_max['mbh']).reshape(n_chi, n_mass)\n",
    "Y = np.array(df_max['chi']).reshape(n_chi, n_mass)\n",
    "logzs = np.ma.masked_array(df_max['log_zH_des'], mask=((df_max['fgw']<0.01) | (df_max['fgw']>1E6) | (df_max['h0']<1E-40)))\n",
    "Z = z_to_dl(10**logzs).reshape(n_chi, n_mass)\n",
    "#np.ma.set_fill_value(Z, 0)Z = z_to_dl(10**logzs)\n",
    "\n",
    "fig, ax = plt.subplots(1, figsize=(11,8))\n",
    "# ax2 = ax.twiny()\n",
    "\n",
    "zmin, zmax = 1E-6, 1E4\n",
    "norm = matplotlib.colors.LogNorm(vmin=zmin, vmax=zmax)\n",
    "\n",
    "## smooth the contours\n",
    "Z_denoised = utilities.smooth_data(Z, vmin=zmin)\n",
    "\n",
    "cm = ax.contourf(X, Y, Z_denoised, cmap='magma', locator=ticker.LogLocator(numticks=48,base=10), norm=norm)\n",
    "\n",
    "## let's add boson mass contours\n",
    "Z = utilities.smooth_data(np.array(df_max['boson']).reshape(n_chi, n_mass), sigma=3)\n",
    "Z = np.ma.masked_array(Z, mask=((Y<0.15)))\n",
    "cs = ax.contour(X, Y, Z, colors='white', locator=ticker.LogLocator(numticks=48,base=10), alpha=0.8)\n",
    "fmt = lambda v: r\"$10^{%i}$\" % np.log10(v)\n",
    "locs = None#[(2E3, 0.5), (2E2, 0.5), (2E1, 0.5), (2E0, 0.5)]\n",
    "plt.clabel(cs, cs.levels[1:], inline=1, fmt=fmt, fontsize=20, use_clabeltext=True, manual=locs)\n",
    "\n",
    "\n",
    "## let's add fdot_det contours\n",
    "fdot_det = df_max['fdot']*(1. + 10**logzs)**(-2)\n",
    "Z = utilities.smooth_data(np.array(fdot_det).reshape(n_chi, n_mass), sigma=3)\n",
    "Z = np.ma.masked_array(Z, mask=((Y<0.15)))\n",
    "cs = ax.contour(X, Y, Z, colors=('gray',), levels=(1E-8, 10,), alpha=0.2)\n",
    "ax.contourf(X, Y, Z, colors='none', levels=[1E-8, 1], alpha=0.1)\n",
    "# fmt = lambda v: r\"$\\dot f = 10^{%i}$ Hz/s\" % np.log10(v)\n",
    "# locs = [(10, 0.75)]\n",
    "# plt.clabel(cs, inline=1, fmt=fmt, fontsize=18)#, manual=locs)\n",
    "\n",
    "ax.annotate(r\"$\\dot f > 10^{-8}$ Hz/s\", xy=(0.15, 0.75), xycoords=\"axes fraction\", \n",
    "            ha='left', va='bottom', fontsize=18, color='0.4', rotation=23)\n",
    "\n",
    "\n",
    "# plot vertical line at 60 Msun\n",
    "ax.axvline(60, c='w', ls=':', lw=2)\n",
    "ax.axhline(0.7, c='w', ls=':', lw=2)\n",
    "\n",
    "# add colorbar\n",
    "cb = plt.colorbar(cm, label=r'Horizon (Mpc)', norm=norm)\n",
    "cb.ax.tick_params(labelsize=18) \n",
    "\n",
    "ax.set_xlabel(r'$M_i$')\n",
    "ax.set_ylabel(r'$\\chi_i$')\n",
    "ax.patch.set_facecolor(\"black\")\n",
    "\n",
    "ax.set_xscale('log')\n",
    "\n",
    "ax.set_xlim(1, 1E4)\n",
    "ax.set_ylim(0, 1)\n",
    "\n",
    "#fig.savefig('cont_chi_mbh_range_design_DE_tdrift.pdf', bbox_inches='tight', dpi=400)\n",
    "\n",
    "plt.show()\n",
    "plt.close()"
   ]
  },
  {
   "cell_type": "code",
   "execution_count": 20,
   "metadata": {
    "collapsed": false,
    "deletable": true,
    "editable": true
   },
   "outputs": [],
   "source": [
    "# # hexbin\n",
    "\n",
    "# x = df_cond['mbh']\n",
    "# y = df_cond['chi']\n",
    "# C = z_to_dl(10**df_cond['log_zH_des'])#*1E3\n",
    "\n",
    "# fig, ax = plt.subplots(1, figsize=(11,8))\n",
    "# norm = matplotlib.colors.LogNorm(vmin=1E-6, vmax=C.max())\n",
    "# cm = ax.hexbin(x, y, C=C, cmap='magma', norm=norm, xscale='log')\n",
    "# cm.set_rasterized(True)\n",
    "\n",
    "# #cs = ax.contour(X, Y, Z_denoised, colors='white', locator=ticker.LogLocator(numticks=48,base=10), alpha=0.5)\n",
    "\n",
    "# levels = np.arange(-4, 4, 1)\n",
    "# strs = [r'$10^{%i}$' % i for i in levels]\n",
    "# cs = ax.contour(X, Y, Z_denoised, colors='0.5', linewidths=(2,), levels=10.**levels, alpha=0.5)\n",
    "# fmt = {l: s for l, s in zip(cs.levels, strs)}\n",
    "# plt.clabel(cs, cs.levels[::1], inline=True, fmt=fmt, fontsize=22)\n",
    "\n",
    "# # plot vertical line at 60 Msun\n",
    "# ax.axvline(60, c='w', ls=':', lw=2)\n",
    "# ax.axhline(0.7, c='w', ls=':', lw=2)\n",
    "\n",
    "# # add colorbar\n",
    "# cb = plt.colorbar(cm, label=r'Horizon (Mpc)', norm=norm)\n",
    "# cb.ax.tick_params(labelsize=18) \n",
    "\n",
    "# plt.xlabel(r'$M$')\n",
    "# plt.ylabel(r'$\\chi$')\n",
    "# ax.patch.set_facecolor(\"black\")\n",
    "\n",
    "# plt.xscale('log')\n",
    "\n",
    "# ax.set_xlim(1, 1E4)\n",
    "# plt.ylim(0, 1)\n",
    "\n",
    "# fig.savefig('cmap_chi_mbh_range_design_DE.pdf', bbox_inches='tight', dpi=400)\n",
    "\n",
    "# plt.show()\n",
    "# plt.close()"
   ]
  },
  {
   "cell_type": "code",
   "execution_count": 21,
   "metadata": {
    "collapsed": false,
    "deletable": true,
    "editable": true
   },
   "outputs": [
    {
     "name": "stdout",
     "output_type": "stream",
     "text": [
      "Maximum horizon: 897.3 Mpc (z=1.8e-01)\n",
      "GW150914 horizon (8 days): 11.8 Mpc (z=2.7e-03)\n",
      "GW150914 horizon: 17.3 Mpc (z=3.9e-03)\n"
     ]
    }
   ],
   "source": [
    "z_max = 10**df_cond['log_zH_des'].max()\n",
    "print \"Maximum horizon: %.1f Mpc (z=%.1e)\" % (z_to_dl(z_max), z_max)\n",
    "# GW150914\n",
    "fdot = get_fdot({'mbh': 60, 'chi': 0.7, 'alpha': 0.178})\n",
    "tdrift = get_tdrift({'fdot': fdot})\n",
    "test_z = 10**compute_log_zH_brentq(5E-26, 200, asd_des_interp, tdrift=tdrift)\n",
    "print \"GW150914 horizon (8 days): %.1f Mpc (z=%.1e)\" % (z_to_dl(test_z), test_z)\n",
    "test_z = 10**compute_log_zH_leastsq(5E-26, 200, asd_des_interp)\n",
    "print \"GW150914 horizon: %.1f Mpc (z=%.1e)\" % (z_to_dl(test_z), test_z)"
   ]
  },
  {
   "cell_type": "code",
   "execution_count": 24,
   "metadata": {
    "collapsed": false,
    "deletable": true,
    "editable": true
   },
   "outputs": [
    {
     "name": "stdout",
     "output_type": "stream",
     "text": [
      "Computing examples...\n",
      "   alpha   chi          fgw            h0  mbh           tgw         tinst  \\\n",
      "0   0.27  0.90  5767.275125  3.729573e-26    3  5.945493e+07  7.262850e+03   \n",
      "1   0.27  0.90  1730.175867  1.237378e-25   10  1.989240e+08  2.420950e+04   \n",
      "2   0.18  0.70   193.115249  5.203663e-26   60  2.296562e+11  3.337609e+06   \n",
      "3   0.27  0.90   288.362653  7.424534e-25   60  1.193509e+09  1.452570e+05   \n",
      "4   0.24  0.85    77.026606  1.254600e-24  200  1.613135e+10  1.049308e+06   \n",
      "5   0.27  0.90    43.254384  4.947744e-24  400  7.959222e+09  9.683799e+05   \n",
      "\n",
      "             mu          fdot         tdrift    zH_des       H_des  \n",
      "0  1.192577e-11  4.239116e-05     108.604385  0.000040    0.175054  \n",
      "1  3.577716e-12  3.815204e-06     362.014617  0.000573    2.536933  \n",
      "2  3.993302e-13  2.891961e-11  131488.807504  0.002675   11.853465  \n",
      "3  5.962860e-13  1.059779e-07    2172.087700  0.014055   62.813444  \n",
      "4  1.592782e-13  9.076381e-10   23470.840844  0.031087  140.706455  \n",
      "5  8.944288e-14  2.384503e-09   14480.584665  0.066380  308.136609  \n"
     ]
    }
   ],
   "source": [
    "print \"Computing examples...\"\n",
    "name = 'des'\n",
    "asd_interp = asd_des_interp\n",
    "# EXAMPLES\n",
    "distance = 5E6*physics.PC_SI\n",
    "mbh_chis = [(3, 0.9), (10, 0.9), (60, 0.7), (60, 0.9), (200, 0.85), (400, 0.9)]\n",
    "df = pd.DataFrame([get_peak_row_time(mbh_chi, distance=distance) for mbh_chi in mbh_chis])\n",
    "df['mu'] = df.apply(lambda row: get_boson(row), axis=1)\n",
    "df['fdot'] = df.apply(lambda row: get_fdot(row), axis=1)\n",
    "df['tdrift'] = df.apply(lambda row: get_tdrift(row), axis=1)\n",
    "log_zHs = []\n",
    "for h0, f0, tdrift in zip(df['h0'], df['fgw'], df['tdrift']):\n",
    "    log_zHs.append(compute_log_zH_brentq(h0, f0, asd_interp, tdrift=tdrift))\n",
    "log_zHs = np.array(log_zHs)\n",
    "df['zH_%s' % name] = 10**log_zHs\n",
    "df['H_%s' % name] = z_to_dl(10**log_zHs)\n",
    "print df\n"
   ]
  },
  {
   "cell_type": "code",
   "execution_count": 25,
   "metadata": {
    "collapsed": false,
    "deletable": true,
    "editable": true
   },
   "outputs": [
    {
     "data": {
      "text/plain": [
       "0     0.084291\n",
       "1     0.280970\n",
       "2    38.735499\n",
       "3     1.685818\n",
       "4    12.178021\n",
       "5    11.238788\n",
       "Name: tinst, dtype: float64"
      ]
     },
     "execution_count": 25,
     "metadata": {},
     "output_type": "execute_result"
    }
   ],
   "source": [
    "df['tinst'] / physics.DAYSID_SI"
   ]
  },
  {
   "cell_type": "code",
   "execution_count": 26,
   "metadata": {
    "collapsed": false,
    "deletable": true,
    "editable": true
   },
   "outputs": [
    {
     "data": {
      "text/plain": [
       "0       1.883980\n",
       "1       6.303410\n",
       "2    7277.239111\n",
       "3      37.819372\n",
       "4     511.162795\n",
       "5     252.208123\n",
       "Name: tgw, dtype: float64"
      ]
     },
     "execution_count": 26,
     "metadata": {},
     "output_type": "execute_result"
    }
   ],
   "source": [
    "df['tgw'] / physics.YRSID_SI"
   ]
  },
  {
   "cell_type": "code",
   "execution_count": 27,
   "metadata": {
    "collapsed": false,
    "deletable": true,
    "editable": true
   },
   "outputs": [
    {
     "name": "stdout",
     "output_type": "stream",
     "text": [
      "\n",
      " Furthest horizon: 897.3 Mpc (z=1.80e-01)\n",
      "              mbh  chi  alpha         boson            h0        fgw  \\\n",
      "29999  554.266452  1.0    0.4  9.472256e-14  3.560950e-23  45.807628   \n",
      "\n",
      "           fdot  tinst  \n",
      "29999  0.000003    NaN  \n"
     ]
    },
    {
     "name": "stderr",
     "output_type": "stream",
     "text": [
      "/Users/maxisi/custompy/lib/python2.7/site-packages/pandas/core/series.py:851: FutureWarning: \n",
      "Passing list-likes to .loc or [] with any missing label will raise\n",
      "KeyError in the future, you can use .reindex() as an alternative.\n",
      "\n",
      "See the documentation here:\n",
      "https://pandas.pydata.org/pandas-docs/stable/indexing.html#deprecate-loc-reindex-listlike\n",
      "  return self.loc[key]\n"
     ]
    }
   ],
   "source": [
    "max_loc = df_cond['log_zH_%s' % name].idxmax()\n",
    "max_z = 10**df_cond['log_zH_%s' % name].max()\n",
    "print \"\\n Furthest horizon: %.1f Mpc (z=%.2e)\" % (z_to_dl(max_z), max_z)\n",
    "print pd.DataFrame([df_cond.loc[max_loc][['mbh', 'chi', 'alpha', 'boson', 'h0', 'fgw', 'fdot', 'tinst']]])\n"
   ]
  },
  {
   "cell_type": "markdown",
   "metadata": {
    "deletable": true,
    "editable": true
   },
   "source": [
    "Technically, we should have also redshifted the frequency derivative: $\\dot f_{\\rm det} = \\dot f_{\\rm src} (1+z)^{-2}$.\n",
    "How big is this effect?"
   ]
  },
  {
   "cell_type": "code",
   "execution_count": 28,
   "metadata": {
    "collapsed": false,
    "deletable": true,
    "editable": true
   },
   "outputs": [
    {
     "data": {
      "text/plain": [
       "array([1.36853444])"
      ]
     },
     "execution_count": 28,
     "metadata": {},
     "output_type": "execute_result"
    }
   ],
   "source": [
    "dl_to_z(1E4)"
   ]
  },
  {
   "cell_type": "markdown",
   "metadata": {
    "deletable": true,
    "editable": true
   },
   "source": [
    "# Voyager"
   ]
  },
  {
   "cell_type": "code",
   "execution_count": 29,
   "metadata": {
    "collapsed": false,
    "deletable": true,
    "editable": true
   },
   "outputs": [
    {
     "name": "stdout",
     "output_type": "stream",
     "text": [
      "Voyager band:\n",
      "6.0116914 5000.0\n"
     ]
    },
    {
     "data": {
      "image/png": "[encoded data removed]",
      "text/plain": [
       "<Figure size 432x288 with 1 Axes>"
      ]
     },
     "metadata": {},
     "output_type": "display_data"
    }
   ],
   "source": [
    "# load Voyager ASD\n",
    "vals = np.loadtxt('noise_curves_T1500293-v10/voyager.txt')\n",
    "fs, asd_voy_array = vals[:,0], vals[:,1]\n",
    "\n",
    "# this curve has an artificial turn around 5.02 Hz so discard those points before extrapolation\n",
    "f_cut = 6\n",
    "asd_voy_array = asd_voy_array[fs>f_cut]\n",
    "fs = fs[fs>f_cut]\n",
    "\n",
    "print \"Voyager band:\"\n",
    "print fs.min(), fs.max()\n",
    "\n",
    "# create interpolant (in logspace)\n",
    "log_asd_voy_interp = interp1d(np.log10(fs), np.log10(asd_voy_array), fill_value='extrapolate')\n",
    "def asd_voy_interp(f): lasd=log_asd_voy_interp(np.log10(f)); return 10**lasd\n",
    "\n",
    "fmin, fmax = 1E-2, 1E4 #freqs.min(), freqs.max()\n",
    "freqs = np.logspace(np.log10(fmin), np.log10(fmax), int(1E6))\n",
    "\n",
    "fig, ax = plt.subplots(1)\n",
    "ax.plot(fs, asd_voy_array, lw=4, color='orange')\n",
    "ax.plot(freqs, asd_voy_interp(freqs))\n",
    "ax.set_xscale('log')\n",
    "ax.set_yscale('log')\n",
    "ax.set_xlim(fmin*0.5, fmax)\n",
    "ax.set_xlabel(r'$f$ (Hz)')\n",
    "ax.set_ylabel(r'ASD')\n",
    "plt.show(fig)\n"
   ]
  },
  {
   "cell_type": "code",
   "execution_count": 30,
   "metadata": {
    "collapsed": false,
    "deletable": true,
    "editable": true
   },
   "outputs": [
    {
     "name": "stderr",
     "output_type": "stream",
     "text": [
      "100%|██████████| 32000/32000 [03:23<00:00, 157.10it/s]\n"
     ]
    }
   ],
   "source": [
    "# log(r) = log(h-factor) - log(z-factor) ==> want lobbg(h-factor) - log(z-factor) == 0\n",
    "log_zHs_voy = []\n",
    "with tqdm.tqdm(range(len(df_cond))) as pbar:\n",
    "    for h0, f0, tdrift in zip(df_cond['h0'], df_cond['fgw'], df_cond['tdrift']):\n",
    "        log_zHs_voy.append(compute_log_zH_brentq(h0, f0, asd_voy_interp, tdrift=tdrift))\n",
    "        pbar.update()        \n",
    "log_zHs_voy = np.array(log_zHs_voy)"
   ]
  },
  {
   "cell_type": "code",
   "execution_count": 31,
   "metadata": {
    "collapsed": false,
    "deletable": true,
    "editable": true
   },
   "outputs": [],
   "source": [
    "df_cond['log_zH_voy'] = log_zHs_voy\n",
    "# df_cond.to_hdf('new_peak_horizon_voy.hdf5', 'table', mode='w')\n",
    "df_max['log_zH_voy'] = df_cond['log_zH_voy']"
   ]
  },
  {
   "cell_type": "code",
   "execution_count": 32,
   "metadata": {
    "collapsed": false,
    "deletable": true,
    "editable": true
   },
   "outputs": [
    {
     "ename": "AttributeError",
     "evalue": "'Series' object has no attribute 'reshape'",
     "output_type": "error",
     "traceback": [
      "\u001b[0;31m--------------------\u001b[0m",
      "\u001b[0;31mAttributeError\u001b[0mTraceback (most recent call last)",
      "\u001b[0;32m<ipython-input-32-023c10a9318d>\u001b[0m in \u001b[0;36m<module>\u001b[0;34m()\u001b[0m\n\u001b[0;32m----> 1\u001b[0;31m \u001b[0mX\u001b[0m \u001b[0;34m=\u001b[0m \u001b[0mdf_max\u001b[0m\u001b[0;34m[\u001b[0m\u001b[0;34m'mbh'\u001b[0m\u001b[0;34m]\u001b[0m\u001b[0;34m.\u001b[0m\u001b[0mreshape\u001b[0m\u001b[0;34m(\u001b[0m\u001b[0mn_chi\u001b[0m\u001b[0;34m,\u001b[0m \u001b[0mn_mass\u001b[0m\u001b[0;34m)\u001b[0m\u001b[0;34m\u001b[0m\u001b[0m\n\u001b[0m\u001b[1;32m      2\u001b[0m \u001b[0mY\u001b[0m \u001b[0;34m=\u001b[0m \u001b[0mdf_max\u001b[0m\u001b[0;34m[\u001b[0m\u001b[0;34m'chi'\u001b[0m\u001b[0;34m]\u001b[0m\u001b[0;34m.\u001b[0m\u001b[0mreshape\u001b[0m\u001b[0;34m(\u001b[0m\u001b[0mn_chi\u001b[0m\u001b[0;34m,\u001b[0m \u001b[0mn_mass\u001b[0m\u001b[0;34m)\u001b[0m\u001b[0;34m\u001b[0m\u001b[0m\n\u001b[1;32m      3\u001b[0m \u001b[0mlogzs\u001b[0m \u001b[0;34m=\u001b[0m \u001b[0mnp\u001b[0m\u001b[0;34m.\u001b[0m\u001b[0mma\u001b[0m\u001b[0;34m.\u001b[0m\u001b[0mmasked_array\u001b[0m\u001b[0;34m(\u001b[0m\u001b[0mdf_max\u001b[0m\u001b[0;34m[\u001b[0m\u001b[0;34m'log_zH_voy'\u001b[0m\u001b[0;34m]\u001b[0m\u001b[0;34m,\u001b[0m \u001b[0mmask\u001b[0m\u001b[0;34m=\u001b[0m\u001b[0;34m(\u001b[0m\u001b[0;34m(\u001b[0m\u001b[0mdf_max\u001b[0m\u001b[0;34m[\u001b[0m\u001b[0;34m'fgw'\u001b[0m\u001b[0;34m]\u001b[0m\u001b[0;34m<\u001b[0m\u001b[0;36m0.01\u001b[0m\u001b[0;34m)\u001b[0m \u001b[0;34m|\u001b[0m \u001b[0;34m(\u001b[0m\u001b[0mdf_max\u001b[0m\u001b[0;34m[\u001b[0m\u001b[0;34m'fgw'\u001b[0m\u001b[0;34m]\u001b[0m\u001b[0;34m>\u001b[0m\u001b[0;36m1E6\u001b[0m\u001b[0;34m)\u001b[0m \u001b[0;34m|\u001b[0m \u001b[0;34m(\u001b[0m\u001b[0mdf_max\u001b[0m\u001b[0;34m[\u001b[0m\u001b[0;34m'h0'\u001b[0m\u001b[0;34m]\u001b[0m\u001b[0;34m<\u001b[0m\u001b[0;36m1E-40\u001b[0m\u001b[0;34m)\u001b[0m\u001b[0;34m)\u001b[0m\u001b[0;34m)\u001b[0m\u001b[0;34m\u001b[0m\u001b[0m\n\u001b[1;32m      4\u001b[0m \u001b[0mZ\u001b[0m \u001b[0;34m=\u001b[0m \u001b[0mz_to_dl\u001b[0m\u001b[0;34m(\u001b[0m\u001b[0;36m10\u001b[0m\u001b[0;34m**\u001b[0m\u001b[0mlogzs\u001b[0m\u001b[0;34m)\u001b[0m\u001b[0;34m.\u001b[0m\u001b[0mreshape\u001b[0m\u001b[0;34m(\u001b[0m\u001b[0mn_chi\u001b[0m\u001b[0;34m,\u001b[0m \u001b[0mn_mass\u001b[0m\u001b[0;34m)\u001b[0m\u001b[0;34m\u001b[0m\u001b[0m\n\u001b[1;32m      5\u001b[0m \u001b[0;31m## smooth the contours\u001b[0m\u001b[0;34m\u001b[0m\u001b[0;34m\u001b[0m\u001b[0m\n",
      "\u001b[0;32m/Users/maxisi/custompy/lib/python2.7/site-packages/pandas/core/generic.pyc\u001b[0m in \u001b[0;36m__getattr__\u001b[0;34m(self, name)\u001b[0m\n\u001b[1;32m   4374\u001b[0m             \u001b[0;32mif\u001b[0m \u001b[0mself\u001b[0m\u001b[0;34m.\u001b[0m\u001b[0m_info_axis\u001b[0m\u001b[0;34m.\u001b[0m\u001b[0m_can_hold_identifiers_and_holds_name\u001b[0m\u001b[0;34m(\u001b[0m\u001b[0mname\u001b[0m\u001b[0;34m)\u001b[0m\u001b[0;34m:\u001b[0m\u001b[0;34m\u001b[0m\u001b[0m\n\u001b[1;32m   4375\u001b[0m                 \u001b[0;32mreturn\u001b[0m \u001b[0mself\u001b[0m\u001b[0;34m[\u001b[0m\u001b[0mname\u001b[0m\u001b[0;34m]\u001b[0m\u001b[0;34m\u001b[0m\u001b[0m\n\u001b[0;32m-> 4376\u001b[0;31m             \u001b[0;32mreturn\u001b[0m \u001b[0mobject\u001b[0m\u001b[0;34m.\u001b[0m\u001b[0m__getattribute__\u001b[0m\u001b[0;34m(\u001b[0m\u001b[0mself\u001b[0m\u001b[0;34m,\u001b[0m \u001b[0mname\u001b[0m\u001b[0;34m)\u001b[0m\u001b[0;34m\u001b[0m\u001b[0m\n\u001b[0m\u001b[1;32m   4377\u001b[0m \u001b[0;34m\u001b[0m\u001b[0m\n\u001b[1;32m   4378\u001b[0m     \u001b[0;32mdef\u001b[0m \u001b[0m__setattr__\u001b[0m\u001b[0;34m(\u001b[0m\u001b[0mself\u001b[0m\u001b[0;34m,\u001b[0m \u001b[0mname\u001b[0m\u001b[0;34m,\u001b[0m \u001b[0mvalue\u001b[0m\u001b[0;34m)\u001b[0m\u001b[0;34m:\u001b[0m\u001b[0;34m\u001b[0m\u001b[0m\n",
      "\u001b[0;31mAttributeError\u001b[0m: 'Series' object has no attribute 'reshape'"
     ]
    }
   ],
   "source": [
    "X = df_max['mbh'].reshape(n_chi, n_mass)\n",
    "Y = df_max['chi'].reshape(n_chi, n_mass)\n",
    "logzs = np.ma.masked_array(df_max['log_zH_voy'], mask=((df_max['fgw']<0.01) | (df_max['fgw']>1E6) | (df_max['h0']<1E-40)))\n",
    "Z = z_to_dl(10**logzs).reshape(n_chi, n_mass)\n",
    "## smooth the contours\n",
    "Z = utilities.smooth_data(Z, vmin=zmin)\n",
    "\n",
    "x = df_cond['mbh']\n",
    "y = df_cond['chi']\n",
    "C = z_to_dl(10**df_cond['log_zH_voy'])\n",
    "\n",
    "# contours\n",
    "\n",
    "fig, ax = plt.subplots(1, figsize=(11,8))\n",
    "\n",
    "zmin, zmax = 1E-6, 1E4\n",
    "norm = matplotlib.colors.LogNorm(vmin=zmin, vmax=zmax)\n",
    "\n",
    "cm = ax.contourf(X, Y, Z, cmap='magma', locator=ticker.LogLocator(numticks=48,base=10), norm=norm)\n",
    "#cm.set_rasterized(True)\n",
    "\n",
    "## let's add boson mass contours\n",
    "Z = utilities.smooth_data(df_max['boson'].reshape(n_chi, n_mass), sigma=3)\n",
    "Z = np.ma.masked_array(Z, mask=(Y<0.15) | (Z<5E-15))\n",
    "cs = ax.contour(X, Y, Z, colors='white', locator=ticker.LogLocator(numticks=48,base=10), alpha=0.7)\n",
    "fmt = lambda v: r\"$10^{%i}$\" % np.log10(v)\n",
    "locs = None#[(2E3, 0.5), (2E2, 0.5), (2E1, 0.5), (2E0, 0.5)]\n",
    "plt.clabel(cs, inline=1, fmt=fmt, fontsize=16, use_clabeltext=True, manual=locs)\n",
    "\n",
    "# plot vertical line at 60 Msun\n",
    "ax.axvline(60, c='w', ls=':', lw=2)\n",
    "ax.axhline(0.7, c='w', ls=':', lw=2)\n",
    "\n",
    "# add colorbar\n",
    "#m = plt.cm.ScalarMappable(cmap='magma')\n",
    "#m.set_array(Z_denoised)\n",
    "#m.set_clim(1e-6, 1e3)\n",
    "cb = plt.colorbar(cm, label=r'Horizon (Mpc)', extend='both')\n",
    "cb.ax.tick_params(labelsize=18) \n",
    "\n",
    "ax.set_xlabel(r'$M_i$')\n",
    "ax.set_ylabel(r'$\\chi_i$')\n",
    "ax.patch.set_facecolor(\"black\")\n",
    "\n",
    "plt.xscale('log')\n",
    "\n",
    "ax.set_xlim(1, 1E4)\n",
    "ax.set_ylim(0, 1)\n",
    "\n",
    "fig.savefig('cont_chi_mbh_range_voyager_DE_tdrift.pdf', bbox_inches='tight', dpi=400)\n",
    "\n",
    "plt.show()\n",
    "plt.close()"
   ]
  },
  {
   "cell_type": "code",
   "execution_count": null,
   "metadata": {
    "collapsed": false,
    "deletable": true,
    "editable": true
   },
   "outputs": [],
   "source": [
    "C.max()"
   ]
  },
  {
   "cell_type": "code",
   "execution_count": null,
   "metadata": {
    "collapsed": false,
    "deletable": true,
    "editable": true,
    "scrolled": true
   },
   "outputs": [],
   "source": [
    "# # plot\n",
    "# fig, ax = plt.subplots(1, figsize=(11,8))\n",
    "# cmin, cmax = 1E-6, np.nanmax(C)  # np.nanmin(C), np.nanmax(C)\n",
    "# norm = matplotlib.colors.LogNorm(vmin=cmin, vmax=cmax)\n",
    "# cm = ax.hexbin(x, y, C=C, cmap='magma', norm=norm, xscale='log')\n",
    "# cm.set_rasterized(True)\n",
    "\n",
    "# levels = np.arange(-4, 4, 1)\n",
    "# strs = [r'$10^{%i}$' % i for i in levels]\n",
    "# cs = ax.contour(X, Y, Z, colors='0.5', linewidths=(2,), levels=10.**levels, alpha=0.5)\n",
    "# fmt = {l: s for l, s in zip(cs.levels, strs)}\n",
    "# plt.clabel(cs, cs.levels[::1], inline=True, fmt=fmt, fontsize=22)\n",
    "\n",
    "# # plot vertical line at 60 Msun\n",
    "# ax.axvline(60, c='w', ls=':', lw=2)\n",
    "# ax.axhline(0.7, c='w', ls=':', lw=2)\n",
    "\n",
    "# # add colorbar\n",
    "# cb = plt.colorbar(cm, label=r'Horizon (Mpc)', norm=norm)\n",
    "# cb.ax.tick_params(labelsize=18) \n",
    "\n",
    "# plt.xlabel(r'$M$')\n",
    "# plt.ylabel(r'$\\chi$')\n",
    "# ax.patch.set_facecolor(\"black\")\n",
    "\n",
    "# plt.xscale('log')\n",
    "\n",
    "# ax.set_xlim(1, 1E4)\n",
    "# plt.ylim(0, 1)\n",
    "\n",
    "# fig.savefig('cmap_chi_mbh_range_voyager_DE.pdf', bbox_inches='tight', dpi=400)\n",
    "\n",
    "# plt.show()\n",
    "# plt.close()"
   ]
  },
  {
   "cell_type": "code",
   "execution_count": null,
   "metadata": {
    "collapsed": false,
    "deletable": true,
    "editable": true
   },
   "outputs": [],
   "source": [
    "print \"Maximum redshift: %.2e\" % (10**df_cond['log_zH_voy'].max())\n",
    "test_z = 10**compute_log_zH_brentq(4E-26, 200, asd_voy_interp)\n",
    "print \"GW150914 horizon: %.1f Mpc (z=%.1e)\" % (z_to_dl(test_z), test_z)\n",
    "test_z = 10**compute_log_zH_leastsq(4E-26, 200, asd_voy_interp)\n",
    "print \"GW150914 horizon: %.1f Mpc (z=%.1e)\" % (z_to_dl(test_z), test_z)"
   ]
  },
  {
   "cell_type": "markdown",
   "metadata": {
    "deletable": true,
    "editable": true
   },
   "source": [
    "# Cosmic Explorer"
   ]
  },
  {
   "cell_type": "code",
   "execution_count": 33,
   "metadata": {
    "collapsed": false,
    "deletable": true,
    "editable": true
   },
   "outputs": [
    {
     "name": "stdout",
     "output_type": "stream",
     "text": [
      "CE band:\n",
      "5.0 5000.0\n"
     ]
    },
    {
     "data": {
      "image/png": "[encoded data removed]",
      "text/plain": [
       "<Figure size 432x288 with 1 Axes>"
      ]
     },
     "metadata": {},
     "output_type": "display_data"
    }
   ],
   "source": [
    "# load Voyager ASD\n",
    "vals = np.loadtxt('noise_curves_T1500293-v10/ce.txt')\n",
    "fs, asd_ce_array = vals[:,0], vals[:,1]\n",
    "\n",
    "print \"CE band:\"\n",
    "print fs.min(), fs.max()\n",
    "\n",
    "# create interpolant (in logspace)\n",
    "log_asd_ce_interp = interp1d(np.log10(fs), np.log10(asd_ce_array), fill_value='extrapolate')\n",
    "def asd_ce_interp(f): lasd=log_asd_ce_interp(np.log10(f)); return 10**lasd\n",
    "\n",
    "fmin, fmax = 1E-2, 1E5 #freqs.min(), freqs.max()\n",
    "freqs = np.logspace(np.log10(fmin), np.log10(fmax), int(1E6))\n",
    "\n",
    "fig, ax = plt.subplots(1)\n",
    "ax.plot(fs, asd_ce_array, lw=4, color='orange')\n",
    "ax.plot(freqs, asd_ce_interp(freqs))\n",
    "ax.set_xscale('log')\n",
    "ax.set_yscale('log')\n",
    "ax.set_xlim(fmin, fmax)\n",
    "ax.set_xlabel(r'$f$ (Hz)')\n",
    "ax.set_ylabel(r'ASD')\n",
    "plt.show(fig)"
   ]
  },
  {
   "cell_type": "code",
   "execution_count": null,
   "metadata": {
    "collapsed": false,
    "deletable": true,
    "editable": true
   },
   "outputs": [],
   "source": [
    "# log(r) = log(h-factor) - log(z-factor) ==> want lobbg(h-factor) - log(z-factor) == 0\n",
    "log_zHs_ce = []\n",
    "with tqdm.tqdm(range(len(df_cond))) as pbar:\n",
    "    for h0, f0 in zip(df_cond['h0'], df_cond['fgw']):\n",
    "        log_zHs_ce.append(compute_log_zH_brentq(h0, f0, asd_ce_interp))\n",
    "        pbar.update()        \n",
    "log_zHs_ce = np.array(log_zHs_ce)"
   ]
  },
  {
   "cell_type": "code",
   "execution_count": null,
   "metadata": {
    "collapsed": false,
    "deletable": true,
    "editable": true
   },
   "outputs": [],
   "source": [
    "df_cond['log_zH_ce'] = log_zHs_ce\n",
    "df_max['log_zH_ce'] = df_cond['log_zH_ce']"
   ]
  },
  {
   "cell_type": "code",
   "execution_count": null,
   "metadata": {
    "collapsed": false,
    "deletable": true,
    "editable": true
   },
   "outputs": [],
   "source": [
    "X = df_max['mbh'].reshape(n_chi, n_mass)\n",
    "Y = df_max['chi'].reshape(n_chi, n_mass)\n",
    "logzs = np.ma.masked_array(df_max['log_zH_ce'], mask=((df_max['fgw']<0.01) | (df_max['fgw']>1E6) | (df_max['h0']<1E-40)))\n",
    "Z = z_to_dl(10**logzs).reshape(n_chi, n_mass)\n",
    "## smooth the contours\n",
    "Z = utilities.smooth_data(Z, vmin=zmin)\n",
    "\n",
    "x = df_cond['mbh']\n",
    "y = df_cond['chi']\n",
    "C = z_to_dl(10**df_cond['log_zH_ce'])\n",
    "\n",
    "# contours\n",
    "\n",
    "fig, ax = plt.subplots(1, figsize=(11,8))\n",
    "\n",
    "zmin, zmax = 1E-6, 1E5\n",
    "norm = matplotlib.colors.LogNorm(vmin=zmin, vmax=zmax)\n",
    "\n",
    "cm = ax.contourf(X, Y, Z, cmap='magma', locator=ticker.LogLocator(numticks=48,base=10), norm=norm)\n",
    "\n",
    "## let's add boson mass contours\n",
    "Z = utilities.smooth_data(df_max['boson'].reshape(n_chi, n_mass), sigma=3)\n",
    "Z = np.ma.masked_array(Z, mask=((Y<0.15) | (Z<5E-15)))\n",
    "cs = ax.contour(X, Y, Z, colors='white', locator=ticker.LogLocator(numticks=48,base=10), alpha=0.7)\n",
    "fmt = lambda v: r\"$10^{%i}$\" % np.log10(v)\n",
    "locs = None#[(2E3, 0.5), (2E2, 0.5), (2E1, 0.5), (2E0, 0.5)]\n",
    "plt.clabel(cs, inline=1, fmt=fmt, fontsize=16, use_clabeltext=True, manual=locs)\n",
    "\n",
    "# plot vertical line at 60 Msun\n",
    "ax.axvline(60, c='w', ls=':', lw=2)\n",
    "ax.axhline(0.7, c='w', ls=':', lw=2)\n",
    "\n",
    "# add colorbar\n",
    "#m = plt.cm.ScalarMappable(cmap='magma')\n",
    "#m.set_array(Z_denoised)\n",
    "#m.set_clim(1e-6, 1e3)\n",
    "cb = plt.colorbar(cm, label=r'Horizon (Mpc)', extend='both')\n",
    "cb.ax.tick_params(labelsize=18) \n",
    "\n",
    "plt.xlabel(r'$M_i$')\n",
    "plt.ylabel(r'$\\chi_i$')\n",
    "ax.patch.set_facecolor(\"black\")\n",
    "\n",
    "ax.set_xscale('log')\n",
    "\n",
    "ax.set_xlim(1, 1E4)\n",
    "ax.set_ylim(0, 1)\n",
    "\n",
    "fig.savefig('cont_chi_mbh_range_ce_DE.pdf', bbox_inches='tight', dpi=400)\n",
    "\n",
    "plt.show()\n",
    "plt.close()"
   ]
  },
  {
   "cell_type": "code",
   "execution_count": null,
   "metadata": {
    "collapsed": false,
    "deletable": true,
    "editable": true
   },
   "outputs": [],
   "source": [
    "C.max()"
   ]
  },
  {
   "cell_type": "code",
   "execution_count": null,
   "metadata": {
    "collapsed": false,
    "deletable": true,
    "editable": true,
    "scrolled": true
   },
   "outputs": [],
   "source": [
    "# # plot\n",
    "# fig, ax = plt.subplots(1, figsize=(11,8))\n",
    "# cmin, cmax = 1E-6, np.nanmax(C)  # np.nanmin(C), np.nanmax(C)\n",
    "# norm = matplotlib.colors.LogNorm(vmin=cmin, vmax=cmax)\n",
    "# cm = ax.hexbin(x, y, C=C, cmap='magma', norm=norm, xscale='log')\n",
    "# cm.set_rasterized(True)\n",
    "\n",
    "# levels = np.arange(-4, 4, 1)\n",
    "# strs = [r'$10^{%i}$' % i for i in levels]\n",
    "# cs = ax.contour(X, Y, Z, colors='0.5', linewidths=(2,), levels=10.**levels, alpha=0.5)\n",
    "# fmt = {l: s for l, s in zip(cs.levels, strs)}\n",
    "# plt.clabel(cs, cs.levels[::1], inline=True, fmt=fmt, fontsize=22)\n",
    "\n",
    "# # plot vertical line at 60 Msun\n",
    "# ax.axvline(60, c='w', ls=':', lw=2)\n",
    "# ax.axhline(0.7, c='w', ls=':', lw=2)\n",
    "\n",
    "# # add colorbar\n",
    "# cb = plt.colorbar(cm, label=r'Horizon (Mpc)', norm=norm)\n",
    "# cb.ax.tick_params(labelsize=18) \n",
    "\n",
    "# plt.xlabel(r'$M$')\n",
    "# plt.ylabel(r'$\\chi$')\n",
    "# ax.patch.set_facecolor(\"black\")\n",
    "\n",
    "# plt.xscale('log')\n",
    "\n",
    "# ax.set_xlim(1, 1E4)\n",
    "# plt.ylim(0, 1)\n",
    "\n",
    "# fig.savefig('cmap_chi_mbh_range_ce_DE.pdf', bbox_inches='tight', dpi=400)\n",
    "\n",
    "# plt.show()\n",
    "# plt.close()"
   ]
  },
  {
   "cell_type": "code",
   "execution_count": null,
   "metadata": {
    "collapsed": false,
    "deletable": true,
    "editable": true
   },
   "outputs": [],
   "source": [
    "print \"Maximum redshift: %.2e\" % (10**df_cond['log_zH_ce'].max())\n",
    "test_z = 10**compute_log_zH_brentq(4E-26, 200, asd_ce_interp)\n",
    "print \"GW150914 horizon: %.1f Mpc (z=%.1e)\" % (z_to_dl(test_z), test_z)\n",
    "test_z = 10**compute_log_zH_leastsq(4E-26, 200, asd_ce_interp)\n",
    "print \"GW150914 horizon: %.1f Mpc (z=%.1e)\" % (z_to_dl(test_z), test_z)"
   ]
  },
  {
   "cell_type": "markdown",
   "metadata": {
    "deletable": true,
    "editable": true
   },
   "source": [
    "# Einstein Telescope"
   ]
  },
  {
   "cell_type": "code",
   "execution_count": 34,
   "metadata": {
    "collapsed": false,
    "deletable": true,
    "editable": true
   },
   "outputs": [
    {
     "name": "stdout",
     "output_type": "stream",
     "text": [
      "ET band:\n",
      "1.5045009 10000.0\n"
     ]
    },
    {
     "data": {
      "image/png": "[encoded data removed]",
      "text/plain": [
       "<Figure size 432x288 with 1 Axes>"
      ]
     },
     "metadata": {},
     "output_type": "display_data"
    }
   ],
   "source": [
    "# load Voyager ASD\n",
    "vals = np.loadtxt('noise_curves_T1500293-v10/et_d.txt')\n",
    "fs, asd_et_array = vals[:,0], vals[:,1]\n",
    "\n",
    "# this curve has an artificial turn around 1.01 Hz so discard those points before extrapolation\n",
    "f_cut = 1.5\n",
    "asd_et_array = asd_et_array[fs>f_cut]\n",
    "fs = fs[fs>f_cut]\n",
    "\n",
    "print \"ET band:\"\n",
    "print fs.min(), fs.max()\n",
    "\n",
    "# create interpolant (in logspace)\n",
    "log_asd_et_interp = interp1d(np.log10(fs), np.log10(asd_et_array), fill_value='extrapolate')\n",
    "def asd_et_interp(f): lasd=log_asd_et_interp(np.log10(f)); return 10**lasd\n",
    "\n",
    "fmin, fmax = 1E-2, 1E5 #freqs.min(), freqs.max()\n",
    "freqs = np.logspace(np.log10(fmin), np.log10(fmax), int(1E6))\n",
    "\n",
    "fig, ax = plt.subplots(1)\n",
    "ax.plot(fs, asd_et_array, lw=4, color='orange')\n",
    "ax.plot(freqs, asd_et_interp(freqs))\n",
    "ax.set_xscale('log')\n",
    "ax.set_yscale('log')\n",
    "ax.set_xlim(fmin, fmax)\n",
    "ax.set_xlabel(r'$f$ (Hz)')\n",
    "ax.set_ylabel(r'ASD')\n",
    "plt.show(fig)"
   ]
  },
  {
   "cell_type": "code",
   "execution_count": null,
   "metadata": {
    "collapsed": false,
    "deletable": true,
    "editable": true
   },
   "outputs": [],
   "source": [
    "# log(r) = log(h-factor) - log(z-factor) ==> want lobbg(h-factor) - log(z-factor) == 0\n",
    "log_zHs_et = []\n",
    "with tqdm.tqdm(range(len(df_cond))) as pbar:\n",
    "    for h0, f0 in zip(df_cond['h0'], df_cond['fgw']):\n",
    "        log_zHs_et.append(compute_log_zH_brentq(h0, f0, asd_et_interp))\n",
    "        pbar.update()        \n",
    "log_zHs_et = np.array(log_zHs_et)"
   ]
  },
  {
   "cell_type": "code",
   "execution_count": null,
   "metadata": {
    "collapsed": false,
    "deletable": true,
    "editable": true
   },
   "outputs": [],
   "source": [
    "df_cond['log_zH_et'] = log_zHs_et\n",
    "df_max['log_zH_et'] = df_cond['log_zH_et']"
   ]
  },
  {
   "cell_type": "code",
   "execution_count": null,
   "metadata": {
    "collapsed": false,
    "deletable": true,
    "editable": true
   },
   "outputs": [],
   "source": [
    "X = df_max['mbh'].reshape(n_chi, n_mass)\n",
    "Y = df_max['chi'].reshape(n_chi, n_mass)\n",
    "logzs = np.ma.masked_array(df_max['log_zH_et'], mask=((df_max['fgw']<0.01) | (df_max['fgw']>1E6) | (df_max['h0']<1E-40)))\n",
    "Z = z_to_dl(10**logzs).reshape(n_chi, n_mass)\n",
    "## smooth the contours\n",
    "Z = utilities.smooth_data(Z, vmin=zmin)\n",
    "\n",
    "x = df_cond['mbh']\n",
    "y = df_cond['chi']\n",
    "C = z_to_dl(10**df_cond['log_zH_et'])\n",
    "# contours\n",
    "\n",
    "fig, ax = plt.subplots(1, figsize=(11,8))\n",
    "\n",
    "zmin, zmax = 1E-6, 1E5\n",
    "norm = matplotlib.colors.LogNorm(vmin=zmin, vmax=zmax)\n",
    "\n",
    "cm = ax.contourf(X, Y, Z, cmap='magma', locator=ticker.LogLocator(numticks=48,base=10), norm=norm)\n",
    "\n",
    "## let's add boson mass contours\n",
    "Z = utilities.smooth_data(df_max['boson'].reshape(n_chi, n_mass), sigma=3)\n",
    "Z = np.ma.masked_array(Z, mask=((Y<0.15)))\n",
    "cs = ax.contour(X, Y, Z, colors='white', locator=ticker.LogLocator(numticks=48,base=10), alpha=0.7)\n",
    "fmt = lambda v: r\"$10^{%i}$\" % np.log10(v)\n",
    "locs = None#[(2E3, 0.5), (2E2, 0.5), (2E1, 0.5), (2E0, 0.5)]\n",
    "plt.clabel(cs, cs.levels[1:], inline=1, fmt=fmt, fontsize=16, use_clabeltext=True, manual=locs)\n",
    "\n",
    "# plot vertical line at 60 Msun\n",
    "ax.axvline(60, c='w', ls=':', lw=2)\n",
    "ax.axhline(0.7, c='w', ls=':', lw=2)\n",
    "\n",
    "# add colorbar\n",
    "#m = plt.cm.ScalarMappable(cmap='magma')\n",
    "#m.set_array(Z_denoised)\n",
    "#m.set_clim(1e-6, 1e3)\n",
    "cb = plt.colorbar(cm, label=r'Horizon (Mpc)', extend='both')\n",
    "cb.ax.tick_params(labelsize=18) \n",
    "\n",
    "ax.set_xlabel(r'$M_i$')\n",
    "ax.set_ylabel(r'$\\chi_i$')\n",
    "ax.patch.set_facecolor(\"black\")\n",
    "\n",
    "ax.set_xscale('log')\n",
    "\n",
    "ax.set_xlim(1, 1E4)\n",
    "ax.set_ylim(0, 1)\n",
    "\n",
    "fig.savefig('cont_chi_mbh_range_et_DE.pdf', bbox_inches='tight', dpi=400)\n",
    "\n",
    "plt.show()\n",
    "plt.close()"
   ]
  },
  {
   "cell_type": "code",
   "execution_count": null,
   "metadata": {
    "collapsed": false,
    "deletable": true,
    "editable": true
   },
   "outputs": [],
   "source": [
    "C.max()"
   ]
  },
  {
   "cell_type": "code",
   "execution_count": null,
   "metadata": {
    "collapsed": false,
    "deletable": true,
    "editable": true
   },
   "outputs": [],
   "source": [
    "max_z = 10**df_cond['log_zH_et'].max()\n",
    "print \"Maximum redshift: %.2e Mpc (z=%.1e)\" % (z_to_dl(max_z), max_z)\n",
    "test_z = 10**compute_log_zH_brentq(4E-26, 200, asd_et_interp)\n",
    "print \"GW150914 horizon: %.1f Mpc (z=%.1e)\" % (z_to_dl(test_z), test_z)\n",
    "test_z = 10**compute_log_zH_leastsq(4E-26, 200, asd_et_interp)\n",
    "print \"GW150914 horizon: %.1f Mpc (z=%.1e)\" % (z_to_dl(test_z), test_z)"
   ]
  },
  {
   "cell_type": "markdown",
   "metadata": {
    "deletable": true,
    "editable": true
   },
   "source": [
    "# PSD and h95's"
   ]
  },
  {
   "cell_type": "code",
   "execution_count": 35,
   "metadata": {
    "collapsed": false,
    "deletable": true,
    "editable": true
   },
   "outputs": [
    {
     "data": {
      "image/png": "[encoded data removed]",
      "text/plain": [
       "<Figure size 792x576 with 1 Axes>"
      ]
     },
     "metadata": {},
     "output_type": "display_data"
    }
   ],
   "source": [
    "# use Voyager frequency array for the x-axis\n",
    "\n",
    "year = 365*physics.DAYSID_SI\n",
    "\n",
    "freqs = np.logspace(0, 4, int(1E5))\n",
    "\n",
    "fig, ax = plt.subplots(1, figsize=(11,8))\n",
    "# ax.plot(freqs, h95_viterbi(asd_des_interp(freqs), T=80*physics.DAYSID_SI, ndet=10), label=\"aLIGO design (80 days, 10)\", lw=3, c='cyan', ls='--')\n",
    "# ax.plot(freqs, h95_viterbi(asd_des_interp(freqs), T=80*physics.DAYSID_SI, ndet=2), label=\"aLIGO design (80 days)\", lw=3, c='gray', ls='--')\n",
    "ax.plot(freqs, h95_viterbi(asd_des_interp(freqs), T=year), label=\"aLIGO design (1 yr)\", lw=3, c='gray')\n",
    "ax.plot(freqs, h95_viterbi(asd_voy_interp(freqs), T=year), label=\"Voyager (1 yr)\", lw=3, c='orange')\n",
    "ax.plot(freqs, h95_viterbi(asd_ce_interp(freqs), T=year), label=\"Cosmic Explorer (1 yr)\", lw=3, c='indigo')\n",
    "ax.plot(freqs, h95_viterbi(asd_et_interp(freqs), T=year), label=\"Einstein Telescope (1 yr)\", lw=3, c='crimson')\n",
    "ax.set_xscale('log')\n",
    "ax.set_yscale('log')\n",
    "\n",
    "ax.set_xlim(5, freqs.max())\n",
    "ax.set_ylim(1E-27, 1E-22)\n",
    "\n",
    "ax.set_xlabel(r'$f_{\\rm GW}$ (Hz)')\n",
    "ax.set_ylabel(r'$h^{95\\%}_0$')\n",
    "\n",
    "ax.legend(loc='best', fontsize=22)\n",
    "ax.grid(True, ls=':')\n",
    "\n",
    "fig.savefig('plot_h095_fgw.pdf', bbox_inches='tight')\n",
    "\n",
    "plt.show(fig)\n",
    "plt.close()"
   ]
  },
  {
   "cell_type": "code",
   "execution_count": null,
   "metadata": {
    "collapsed": true,
    "deletable": true,
    "editable": true
   },
   "outputs": [],
   "source": []
  }
 ],
 "metadata": {
  "kernelspec": {
   "display_name": "Python 2",
   "language": "python",
   "name": "python2"
  },
  "language_info": {
   "codemirror_mode": {
    "name": "ipython",
    "version": 2
   },
   "file_extension": ".py",
   "mimetype": "text/x-python",
   "name": "python",
   "nbconvert_exporter": "python",
   "pygments_lexer": "ipython2",
   "version": "2.7.10"
  },
  "toc": {
   "base_numbering": 1,
   "nav_menu": {},
   "number_sections": true,
   "sideBar": true,
   "skip_h1_title": false,
   "title_cell": "Table of Contents",
   "title_sidebar": "Contents",
   "toc_cell": false,
   "toc_position": {},
   "toc_section_display": true,
   "toc_window_display": true
  }
 },
 "nbformat": 4,
 "nbformat_minor": 2
}
