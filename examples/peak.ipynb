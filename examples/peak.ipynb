{
 "cells": [
  {
   "cell_type": "code",
   "execution_count": 1,
   "metadata": {
    "collapsed": false,
    "deletable": true,
    "editable": true,
    "scrolled": true
   },
   "outputs": [],
   "source": [
    "import os, subprocess\n",
    "import numpy as np\n",
    "import matplotlib\n",
    "from matplotlib import pyplot as plt\n",
    "from matplotlib import ticker, cm\n",
    "import pandas as pd\n",
    "from scipy.interpolate import interp1d, interp2d\n",
    "from scipy.optimize import leastsq, root, brentq, fsolve\n",
    "import tqdm\n",
    "\n",
    "import multiprocessing\n",
    "from functools import partial\n",
    "\n",
    "import pycbc.waveform\n",
    "import cosmolopy.distance as cd\n",
    "\n",
    "from gwaxion import physics\n",
    "\n",
    "mplparams = {\n",
    "    'text.usetex': True,  # use LaTeX for all text\n",
    "    'axes.linewidth': 1,  # set axes linewidths to 0.5\n",
    "    'axes.grid': False,  # add a grid\n",
    "    'axes.labelweight': 'normal',\n",
    "    'font.family': 'serif',\n",
    "    'font.size': 24,\n",
    "    'font.serif': 'Computer Modern Roman'\n",
    "}\n",
    "matplotlib.rcParams.update(mplparams)\n",
    "\n",
    "cosmo = {'omega_M_0':0.308, 'omega_lambda_0':0.692, 'omega_k_0':0.0, 'h':0.678}"
   ]
  },
  {
   "cell_type": "code",
   "execution_count": 2,
   "metadata": {
    "collapsed": false,
    "deletable": true,
    "editable": true
   },
   "outputs": [],
   "source": [
    "reload(physics)\n",
    "from gwaxion.parallel import *"
   ]
  },
  {
   "cell_type": "markdown",
   "metadata": {
    "deletable": true,
    "editable": true
   },
   "source": [
    "## Source frame\n",
    "\n",
    "Load source-frame quantities from disk, or create if not found"
   ]
  },
  {
   "cell_type": "code",
   "execution_count": 5,
   "metadata": {
    "collapsed": false,
    "deletable": true,
    "editable": true
   },
   "outputs": [
    {
     "name": "stdout",
     "output_type": "stream",
     "text": [
      "Finding peak numerically...\n"
     ]
    },
    {
     "ename": "OSError",
     "evalue": "[Errno 24] Too many open files",
     "output_type": "error",
     "traceback": [
      "\u001b[0;31m--------------------\u001b[0m",
      "\u001b[0;31mOSError\u001b[0mTraceback (most recent call last)",
      "\u001b[0;32m<ipython-input-5-6a87b74b2524>\u001b[0m in \u001b[0;36m<module>\u001b[0;34m()\u001b[0m\n\u001b[1;32m     26\u001b[0m     \u001b[0;31m# run over Ms and chis\u001b[0m\u001b[0;34m\u001b[0m\u001b[0;34m\u001b[0m\u001b[0m\n\u001b[1;32m     27\u001b[0m     \u001b[0mpool\u001b[0m \u001b[0;34m=\u001b[0m \u001b[0mMyPool\u001b[0m\u001b[0;34m(\u001b[0m\u001b[0mNCPUS_0\u001b[0m\u001b[0;34m)\u001b[0m\u001b[0;34m\u001b[0m\u001b[0m\n\u001b[0;32m---> 28\u001b[0;31m     \u001b[0mrows\u001b[0m \u001b[0;34m=\u001b[0m \u001b[0mpool\u001b[0m\u001b[0;34m.\u001b[0m\u001b[0mmap\u001b[0m\u001b[0;34m(\u001b[0m\u001b[0mpartial\u001b[0m\u001b[0;34m(\u001b[0m\u001b[0mget_peak_row_time\u001b[0m\u001b[0;34m,\u001b[0m \u001b[0mdistance\u001b[0m\u001b[0;34m=\u001b[0m\u001b[0mdistance\u001b[0m\u001b[0;34m,\u001b[0m \u001b[0mncpus\u001b[0m\u001b[0;34m=\u001b[0m\u001b[0mNCPUS_1\u001b[0m\u001b[0;34m)\u001b[0m\u001b[0;34m,\u001b[0m \u001b[0mmbh_chis\u001b[0m\u001b[0;34m)\u001b[0m\u001b[0;34m\u001b[0m\u001b[0m\n\u001b[0m\u001b[1;32m     29\u001b[0m     \u001b[0mdf_max\u001b[0m \u001b[0;34m=\u001b[0m \u001b[0mpd\u001b[0m\u001b[0;34m.\u001b[0m\u001b[0mDataFrame\u001b[0m\u001b[0;34m(\u001b[0m\u001b[0mrows\u001b[0m\u001b[0;34m)\u001b[0m\u001b[0;34m\u001b[0m\u001b[0m\n\u001b[1;32m     30\u001b[0m     \u001b[0mdf_max\u001b[0m\u001b[0;34m.\u001b[0m\u001b[0mto_hdf\u001b[0m\u001b[0;34m(\u001b[0m\u001b[0mdfpath\u001b[0m\u001b[0;34m,\u001b[0m \u001b[0;34m'table'\u001b[0m\u001b[0;34m,\u001b[0m \u001b[0mmode\u001b[0m\u001b[0;34m=\u001b[0m\u001b[0;34m'w'\u001b[0m\u001b[0;34m)\u001b[0m\u001b[0;34m\u001b[0m\u001b[0m\n",
      "\u001b[0;32m/System/Library/Frameworks/Python.framework/Versions/2.7/lib/python2.7/multiprocessing/pool.pyc\u001b[0m in \u001b[0;36mmap\u001b[0;34m(self, func, iterable, chunksize)\u001b[0m\n\u001b[1;32m    249\u001b[0m         '''\n\u001b[1;32m    250\u001b[0m         \u001b[0;32massert\u001b[0m \u001b[0mself\u001b[0m\u001b[0;34m.\u001b[0m\u001b[0m_state\u001b[0m \u001b[0;34m==\u001b[0m \u001b[0mRUN\u001b[0m\u001b[0;34m\u001b[0m\u001b[0m\n\u001b[0;32m--> 251\u001b[0;31m         \u001b[0;32mreturn\u001b[0m \u001b[0mself\u001b[0m\u001b[0;34m.\u001b[0m\u001b[0mmap_async\u001b[0m\u001b[0;34m(\u001b[0m\u001b[0mfunc\u001b[0m\u001b[0;34m,\u001b[0m \u001b[0miterable\u001b[0m\u001b[0;34m,\u001b[0m \u001b[0mchunksize\u001b[0m\u001b[0;34m)\u001b[0m\u001b[0;34m.\u001b[0m\u001b[0mget\u001b[0m\u001b[0;34m(\u001b[0m\u001b[0;34m)\u001b[0m\u001b[0;34m\u001b[0m\u001b[0m\n\u001b[0m\u001b[1;32m    252\u001b[0m \u001b[0;34m\u001b[0m\u001b[0m\n\u001b[1;32m    253\u001b[0m     \u001b[0;32mdef\u001b[0m \u001b[0mimap\u001b[0m\u001b[0;34m(\u001b[0m\u001b[0mself\u001b[0m\u001b[0;34m,\u001b[0m \u001b[0mfunc\u001b[0m\u001b[0;34m,\u001b[0m \u001b[0miterable\u001b[0m\u001b[0;34m,\u001b[0m \u001b[0mchunksize\u001b[0m\u001b[0;34m=\u001b[0m\u001b[0;36m1\u001b[0m\u001b[0;34m)\u001b[0m\u001b[0;34m:\u001b[0m\u001b[0;34m\u001b[0m\u001b[0m\n",
      "\u001b[0;32m/System/Library/Frameworks/Python.framework/Versions/2.7/lib/python2.7/multiprocessing/pool.pyc\u001b[0m in \u001b[0;36mget\u001b[0;34m(self, timeout)\u001b[0m\n\u001b[1;32m    565\u001b[0m             \u001b[0;32mreturn\u001b[0m \u001b[0mself\u001b[0m\u001b[0;34m.\u001b[0m\u001b[0m_value\u001b[0m\u001b[0;34m\u001b[0m\u001b[0m\n\u001b[1;32m    566\u001b[0m         \u001b[0;32melse\u001b[0m\u001b[0;34m:\u001b[0m\u001b[0;34m\u001b[0m\u001b[0m\n\u001b[0;32m--> 567\u001b[0;31m             \u001b[0;32mraise\u001b[0m \u001b[0mself\u001b[0m\u001b[0;34m.\u001b[0m\u001b[0m_value\u001b[0m\u001b[0;34m\u001b[0m\u001b[0m\n\u001b[0m\u001b[1;32m    568\u001b[0m \u001b[0;34m\u001b[0m\u001b[0m\n\u001b[1;32m    569\u001b[0m     \u001b[0;32mdef\u001b[0m \u001b[0m_set\u001b[0m\u001b[0;34m(\u001b[0m\u001b[0mself\u001b[0m\u001b[0;34m,\u001b[0m \u001b[0mi\u001b[0m\u001b[0;34m,\u001b[0m \u001b[0mobj\u001b[0m\u001b[0;34m)\u001b[0m\u001b[0;34m:\u001b[0m\u001b[0;34m\u001b[0m\u001b[0m\n",
      "\u001b[0;31mOSError\u001b[0m: [Errno 24] Too many open files"
     ]
    }
   ],
   "source": [
    "dfpath = 'peak_w-times_DE.hdf5'\n",
    "rewrite = False\n",
    "\n",
    "NCPUS_0 = 4\n",
    "NCPUS_1 = 2\n",
    "\n",
    "if os.path.exists(dfpath) and not rewrite:\n",
    "    print \"Loading file: %r\" % dfpath\n",
    "    df_max = pd.read_hdf(dfpath, 'table', mode='r')\n",
    "else:\n",
    "    print \"Finding peak numerically...\"\n",
    "    n_mass = 200\n",
    "    n_chi = 200\n",
    "    \n",
    "    mbhs_array = np.logspace(-1, 4, n_mass)\n",
    "    chis_array = np.linspace(1E-4, 1, n_chi, endpoint=False)\n",
    "\n",
    "    distance = 5E6 * physics.PC_SI\n",
    "\n",
    "    # create mbh_chi array\n",
    "    mbh_chis = []\n",
    "    for mbh in mbhs_array:\n",
    "        for chi in chis_array:\n",
    "            mbh_chis.append([mbh, chi])\n",
    "    \n",
    "    # run over Ms and chis\n",
    "    pool = MyPool(NCPUS_0)\n",
    "    rows = pool.map(partial(get_peak_row_time, distance=distance, ncpus=NCPUS_1), mbh_chis)\n",
    "    df_max = pd.DataFrame(rows)\n",
    "    df_max.to_hdf(dfpath, 'table', mode='w')"
   ]
  },
  {
   "cell_type": "code",
   "execution_count": null,
   "metadata": {
    "collapsed": false,
    "deletable": true,
    "editable": true
   },
   "outputs": [],
   "source": [
    "# condition data\n",
    "df_cond = df_max[(df_max['fgw']>=0.01) & (df_max['fgw']<=1E6) & (df_max['h0']>1E-40)].copy()"
   ]
  },
  {
   "cell_type": "markdown",
   "metadata": {
    "deletable": true,
    "editable": true
   },
   "source": [
    "## Peak emission"
   ]
  },
  {
   "cell_type": "code",
   "execution_count": null,
   "metadata": {
    "collapsed": false,
    "deletable": true,
    "editable": true
   },
   "outputs": [],
   "source": [
    "# # colormap for peak h0 vs chi vs M\n",
    "\n",
    "# h0s = df_cond['h0']\n",
    "# hmax_ma = np.ma.masked_array(h0s, mask=(h0s<=0))\n",
    "\n",
    "# hmin, hmax = 1E-30, hmax_ma.max()\n",
    "# norm = matplotlib.colors.LogNorm(vmin=hmin, vmax=hmax)\n",
    "\n",
    "# fig, ax = plt.subplots(1, figsize=(11,8))\n",
    "\n",
    "# # plot colors\n",
    "# cm = ax.hexbin(df_cond['mbh'], df_cond['chi'], C=hmax_ma, cmap='magma', norm=norm,  xscale='log')\n",
    "# cm.set_rasterized(True)\n",
    "\n",
    "# # add H0 contour\n",
    "# h0s = df_max['h0']\n",
    "# hmax_ma = np.ma.masked_array(h0s, mask=((h0s<=1E-30) | (df_max['fgw']<0.01) | (df_max['fgw']>1E6)))\n",
    "\n",
    "# X = df_max['mbh'].reshape(n_chi, n_mass)\n",
    "# Y = df_max['chi'].reshape(n_chi, n_mass)\n",
    "# Z = hmax_ma.reshape(n_chi, n_mass)\n",
    "\n",
    "# cs = ax.contour(X, Y, Z, colors=('white',), linestyles=('--',), linewidths=(2,), levels=[5E-26,], alpha=0.5)\n",
    "# strs = [r'$5\\times10^{-26}$',]\n",
    "# fmt = {l: s for l, s in zip(cs.levels, strs)}\n",
    "# plt.clabel(cs, cs.levels[::1], inline=True, fmt=fmt, fontsize=20)\n",
    "\n",
    "# # add Tinst contour\n",
    "# Ts = df_max['tinst']\n",
    "# tinsts_ma = np.ma.masked_array(Ts, mask=((h0s<=1E-30) | (df_max['fgw']<0.01) | (df_max['fgw']>1E6)))\n",
    "\n",
    "# Z = tinsts_ma.reshape(n_chi, n_mass)\n",
    "\n",
    "# day = physics.DAYSID_SI\n",
    "# yr = physics.YRSID_SI\n",
    "# cs = ax.contour(X, Y, Z, colors=('gray',), linestyles=('-',), linewidths=(1,2), levels=[day, yr], alpha=0.6)\n",
    "\n",
    "# strs = ['1 day', r'1 year']\n",
    "# fmt = {l: s for l, s in zip(cs.levels, strs)}\n",
    "# plt.clabel(cs, cs.levels[::1], inline=True, fmt=fmt, fontsize=20)\n",
    "\n",
    "# # plot vertical line at 60 Msun\n",
    "# ax.axvline(60, c='w', ls=':', lw=2)\n",
    "# ax.axhline(0.7, c='w', ls=':', lw=2)\n",
    "\n",
    "# # add colorbar\n",
    "# #b_ticks = np.logspace(hmin, hmax, 7) # np.ceil(np.log10(h0s_ma[~np.isnan(h0s_ma)].max())), 7)\n",
    "# cb = plt.colorbar(cm, norm=norm, label=r'Peak $h_0$ (5 Mpc)')#, ticks=cb_ticks)\n",
    "# cb.ax.tick_params(labelsize=18) \n",
    "\n",
    "# plt.ylabel(r'$\\chi$')\n",
    "# plt.xlabel(r'$M$ $(M_\\odot)$')\n",
    "# ax.patch.set_facecolor(\"black\")\n",
    "\n",
    "# #plt.xlim(1, 1E4)\n",
    "# ax.set_xlim(1, 1E4)\n",
    "# plt.ylim(0, 1)\n",
    "\n",
    "# ax.tick_params(axis='both', color='0.4', which='both', width=2)\n",
    "# ax.tick_params(axis='both', length=10)\n",
    "\n",
    "# cm.set_rasterized(True)\n",
    "\n",
    "# plt.show()\n",
    "\n",
    "# fig.savefig('cmap_chi_mbh_h0_DE.pdf', bbox_inches='tight', dpi=400)\n",
    "\n",
    "# plt.close()"
   ]
  },
  {
   "cell_type": "code",
   "execution_count": null,
   "metadata": {
    "collapsed": false,
    "deletable": true,
    "editable": true
   },
   "outputs": [],
   "source": [
    "# contour plot for peak h0 vs chi vs M\n",
    "\n",
    "h0s = df_max['h0']\n",
    "hmax_ma = np.ma.masked_array(h0s, mask=((h0s<=1E-30) | (df_max['fgw']<0.01) | (df_max['fgw']>1E6)))\n",
    "\n",
    "hmin, hmax = 1E-30, 1E-21\n",
    "norm = matplotlib.colors.LogNorm(vmin=hmin, vmax=hmax)\n",
    "\n",
    "\n",
    "X = df_max['mbh'].reshape(n_chi, n_mass)\n",
    "Y = df_max['chi'].reshape(n_chi, n_mass)\n",
    "Z = hmax_ma.reshape(n_chi, n_mass)\n",
    "\n",
    "## smooth the contours\n",
    "from gwaxion import utilities\n",
    "reload(utilities)\n",
    "Z = utilities.smooth_data(Z, vmin=hmin)\n",
    "\n",
    "fig, ax = plt.subplots(1, figsize=(11,8))\n",
    "\n",
    "# plot contours\n",
    "ax.set_xscale('log')\n",
    "cm = ax.contourf(X, Y, Z, cmap='magma', locator=ticker.LogLocator(numticks=8,base=10), norm=norm)\n",
    "\n",
    "cs = ax.contour(X, Y, Z, colors=('white',), linestyles=('--',), linewidths=(2,), levels=[5E-26,], alpha=0.5)\n",
    "\n",
    "strs = [r'$5\\times10^{-26}$',]\n",
    "fmt = {l: s for l, s in zip(cs.levels, strs)}\n",
    "plt.clabel(cs, cs.levels[::1], inline=True, fmt=fmt, fontsize=20)\n",
    "\n",
    "# add Tinst contour\n",
    "Ts = df_max['tinst']\n",
    "tinsts_ma = np.ma.masked_array(Ts, mask=((h0s<=1E-30) | (df_max['fgw']<0.01) | (df_max['fgw']>1E6) | df_max['chi']<0.3))\n",
    "\n",
    "Z = tinsts_ma.reshape(n_chi, n_mass)\n",
    "Z = utilities.smooth_data(Z, vmin=physics.DAYSID_SI*0.5, vmax=physics.YRSID_SI*2)\n",
    "\n",
    "day = physics.DAYSID_SI\n",
    "yr = physics.YRSID_SI\n",
    "cs = ax.contour(X, Y, Z, colors=('gray',), linestyles=('-',), linewidths=(1,2), levels=[day, yr], alpha=0.6)\n",
    "\n",
    "strs = ['1 day', r'1 year']\n",
    "fmt = {l: s for l, s in zip(cs.levels, strs)}\n",
    "plt.clabel(cs, cs.levels[::1], inline=True, fmt=fmt, fontsize=20)\n",
    "\n",
    "# plot vertical line at 60 Msun\n",
    "ax.axvline(60, c='w', ls=':', lw=2)\n",
    "ax.axhline(0.7, c='w', ls=':', lw=2)\n",
    "\n",
    "# add colorbar\n",
    "#b_ticks = np.logspace(hmin, hmax, 7) # np.ceil(np.log10(h0s_ma[~np.isnan(h0s_ma)].max())), 7)\n",
    "cb = plt.colorbar(cm, norm=norm, label=r'Peak $h_0$ (5 Mpc)')#, ticks=cb_ticks)\n",
    "cb.ax.tick_params(labelsize=18) \n",
    "\n",
    "plt.ylabel(r'$\\chi_i$')\n",
    "plt.xlabel(r'$M_i$ $(M_\\odot)$')\n",
    "ax.patch.set_facecolor(\"black\")\n",
    "\n",
    "#plt.xlim(1, 1E4)\n",
    "ax.set_xlim(1, 1E4)\n",
    "plt.ylim(0, 1)\n",
    "\n",
    "ax.tick_params(axis='both', color='0.4', which='both', width=2)\n",
    "ax.tick_params(axis='both', length=10)\n",
    "\n",
    "fig.savefig('contour_chi_mbh_h0_DE.pdf', bbox_inches='tight', dpi=400)\n",
    "\n",
    "plt.show()\n",
    "plt.close()"
   ]
  },
  {
   "cell_type": "markdown",
   "metadata": {
    "deletable": true,
    "editable": true
   },
   "source": [
    "## Timescale"
   ]
  },
  {
   "cell_type": "markdown",
   "metadata": {
    "deletable": true,
    "editable": true
   },
   "source": [
    "## Instability"
   ]
  },
  {
   "cell_type": "code",
   "execution_count": null,
   "metadata": {
    "collapsed": false,
    "deletable": true,
    "editable": true
   },
   "outputs": [],
   "source": [
    "# colormap for peak h0 vs chi vs M\n",
    "\n",
    "tinsts = df_max['tinst'] / physics.YRSID_SI\n",
    "tinsts_ma = np.ma.masked_array(tinsts, mask=(h0s<=0))\n",
    "\n",
    "X = df_max['mbh'].reshape(n_chi, n_mass)\n",
    "Y = df_max['chi'].reshape(n_chi, n_mass)\n",
    "Z = tinsts_ma.reshape(n_chi, n_mass)\n",
    "\n",
    "tmin, tmax = 1E-6, 1E6#tinsts_ma.max()\n",
    "norm = matplotlib.colors.LogNorm(vmin=tmin, vmax=tmax)\n",
    "\n",
    "fig, ax = plt.subplots(1, figsize=(11,8))\n",
    "\n",
    "Z = utilities.smooth_data(Z, vmax=tmax)\n",
    "\n",
    "# plot contours\n",
    "# cm = ax.hexbin(df_cond['mbh'], df_cond['chi'], C=tinsts_ma, cmap='magma', norm=norm,  xscale='log')\n",
    "# cm.set_rasterized(True)\n",
    "cm = ax.contourf(X, Y, Z, cmap='magma', locator=ticker.LogLocator(numticks=28,base=10), norm=norm)\n",
    "\n",
    "# plot vertical line at 60 Msun\n",
    "ax.axvline(60, c='w', ls=':', lw=2)\n",
    "ax.axhline(0.7, c='w', ls=':', lw=2)\n",
    "\n",
    "# add colorbar\n",
    "#b_ticks = np.logspace(hmin, hmax, 7) # np.ceil(np.log10(h0s_ma[~np.isnan(h0s_ma)].max())), 7)\n",
    "cb = plt.colorbar(cm, norm=norm, label=r'$\\tau_{\\rm inst}$ at peak (yr)')#, ticks=cb_ticks)\n",
    "#cb.ax.tick_params(labelsize=18) \n",
    "\n",
    "plt.ylabel(r'$\\chi$')\n",
    "plt.xlabel(r'$M$ $(M_\\odot)$')\n",
    "ax.patch.set_facecolor(\"#FCFEBD\")\n",
    "\n",
    "#plt.xlim(1, 1E4)\n",
    "ax.set_xlim(1, 1E4)\n",
    "ax.set_ylim(0, 1)\n",
    "ax.set_xscale('log')\n",
    "\n",
    "ax.tick_params(axis='both', color='0.4', which='both', width=2)\n",
    "ax.tick_params(axis='both', length=10)\n",
    "\n",
    "\n",
    "fig.savefig('cmap_chi_mbh_tinst_DE.png', bbox_inches='tight', dpi=400)\n",
    "\n",
    "plt.show()\n",
    "plt.close()"
   ]
  },
  {
   "cell_type": "markdown",
   "metadata": {
    "deletable": true,
    "editable": true
   },
   "source": [
    "## Radiation"
   ]
  },
  {
   "cell_type": "code",
   "execution_count": null,
   "metadata": {
    "collapsed": false,
    "deletable": true,
    "editable": true
   },
   "outputs": [],
   "source": [
    "# colormap for peak h0 vs chi vs M\n",
    "\n",
    "tgws = df_max['tgws'] / physics.YRSID_SI\n",
    "tgws_ma = np.ma.masked_array(tgws, mask=(h0s<=0))\n",
    "\n",
    "X = df_max['mbh'].reshape(n_chi, n_mass)\n",
    "Y = df_max['chi'].reshape(n_chi, n_mass)\n",
    "Z = tinsts_ma.reshape(n_chi, n_mass)\n",
    "\n",
    "tmin, tmax = 1E-6, 1E6#tinsts_ma.max()\n",
    "norm = matplotlib.colors.LogNorm(vmin=tmin, vmax=tmax)\n",
    "\n",
    "fig, ax = plt.subplots(1, figsize=(11,8))\n",
    "\n",
    "Z = utilities.smooth_data(Z, vmax=tmax)\n",
    "\n",
    "# plot contours\n",
    "# cm = ax.hexbin(df_cond['mbh'], df_cond['chi'], C=tinsts_ma, cmap='magma', norm=norm,  xscale='log')\n",
    "# cm.set_rasterized(True)\n",
    "cm = ax.contourf(X, Y, Z, cmap='magma', locator=ticker.LogLocator(numticks=28,base=10), norm=norm)\n",
    "\n",
    "# plot vertical line at 60 Msun\n",
    "ax.axvline(60, c='w', ls=':', lw=2)\n",
    "ax.axhline(0.7, c='w', ls=':', lw=2)\n",
    "\n",
    "# add colorbar\n",
    "#b_ticks = np.logspace(hmin, hmax, 7) # np.ceil(np.log10(h0s_ma[~np.isnan(h0s_ma)].max())), 7)\n",
    "cb = plt.colorbar(cm, norm=norm, label=r'$\\tau_{\\rm GW}$ at peak (yr)')#, ticks=cb_ticks)\n",
    "#cb.ax.tick_params(labelsize=18) \n",
    "\n",
    "plt.ylabel(r'$\\chi$')\n",
    "plt.xlabel(r'$M$ $(M_\\odot)$')\n",
    "ax.patch.set_facecolor(\"#FCFEBD\")\n",
    "\n",
    "#plt.xlim(1, 1E4)\n",
    "ax.set_xlim(1, 1E4)\n",
    "ax.set_ylim(0, 1)\n",
    "ax.set_xscale('log')\n",
    "\n",
    "ax.tick_params(axis='both', color='0.4', which='both', width=2)\n",
    "ax.tick_params(axis='both', length=10)\n",
    "\n",
    "\n",
    "fig.savefig('cmap_chi_mbh_tgw_DE.png', bbox_inches='tight', dpi=400)\n",
    "\n",
    "plt.show()\n",
    "plt.close()"
   ]
  },
  {
   "cell_type": "code",
   "execution_count": null,
   "metadata": {
    "collapsed": true,
    "deletable": true,
    "editable": true
   },
   "outputs": [],
   "source": []
  }
 ],
 "metadata": {
  "kernelspec": {
   "display_name": "Python 2",
   "language": "python",
   "name": "python2"
  },
  "language_info": {
   "codemirror_mode": {
    "name": "ipython",
    "version": 2
   },
   "file_extension": ".py",
   "mimetype": "text/x-python",
   "name": "python",
   "nbconvert_exporter": "python",
   "pygments_lexer": "ipython2",
   "version": "2.7.10"
  },
  "toc": {
   "base_numbering": 1,
   "nav_menu": {},
   "number_sections": true,
   "sideBar": true,
   "skip_h1_title": false,
   "title_cell": "Table of Contents",
   "title_sidebar": "Contents",
   "toc_cell": false,
   "toc_position": {},
   "toc_section_display": true,
   "toc_window_display": false
  }
 },
 "nbformat": 4,
 "nbformat_minor": 2
}
