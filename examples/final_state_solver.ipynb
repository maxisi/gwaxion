{
 "cells": [
  {
   "cell_type": "markdown",
   "metadata": {},
   "source": [
    "# Evolution equations\n",
    "\n",
    "Define dimensionless $(x, y, j^x, j^y, {\\cal P}, w, \\tau)$ quantities such that\n",
    "\\begin{align}\n",
    "M &= \\alpha x\\\\\n",
    "M_c &= \\alpha y \\\\\n",
    "J &= \\beta j^x\\\\\n",
    "J_c &= \\beta j^y\\\\\n",
    "P_{gw} &= \\gamma {\\cal P}\\\\\n",
    "\\omega &= w \\mu\\\\\n",
    "t &= \\epsilon \\tau\\, .\n",
    "\\end{align}\n",
    "We will make sure these are dimensionless by defining the dimensionful factors\n",
    "\\begin{align}\n",
    "\\alpha &= M_0 \\\\\n",
    "\\beta &= M_0 c^2 \\mu^{-1} \\\\\n",
    "\\gamma &= M_0 c^2 \\mu \\\\\n",
    "\\epsilon &= \\mu^{-1}\\, ,\n",
    "\\end{align}\n",
    "and letting $\\mu = \\hbar/(m_b c^2)$ by the Compton frequency associated with the boson rest mass, $m_b$.\n",
    "We will also let $M_0$ be the *initial* black-hole mass.\n",
    "Note that then we have:\n",
    "\\begin{align}\n",
    "a &= \\frac{c j_x \\epsilon}{x} \\\\\n",
    "\\chi &= \\frac{j_x}{x^2} \\frac{\\epsilon}{T_0}\\, ,\n",
    "\\end{align}\n",
    "where we have defined the time $T_0 = G M_0/c^3$. And also the SR condition is saturated when\n",
    "\\begin{equation}\n",
    "\\left( \\frac{2}{m} \\frac{T_0}{\\epsilon}\\right)^2 = \\frac{j_x}{x^2\\left(mx-j_x\\right)}\n",
    "\\end{equation}\n",
    "\n",
    "With the above notation, the BHB evolution equations become:\n",
    "\\begin{align}\n",
    "x' &= -2 w_I y\\\\\n",
    "x' + y' &= -{\\cal P}\\\\\n",
    "(j^x)' &= -2 m w_I w_R^{-1} y\\\\\n",
    "(j^x)' + (j^y)' &= -m w_R^{-1} {\\cal P}\n",
    "\\end{align}\n",
    "for $m$ the boson magnetic quantum number ($m=1$ for dominant scalar level), and where the prime denotes ${\\rm d}/{\\rm d}\\tau$.\n",
    "We may turn these into finite-difference equations to obtain:\n",
    "\\begin{align}\n",
    "x_{i+1} &= x_i -2 w^I_i y_i \\delta \\tau \\\\\n",
    "y_{i+1} &= y_i + 2 w^I_i y_i \\delta\\tau -{\\cal P}_i \\delta \\tau\\\\\n",
    "j^x_{i+1} &= j^x_i -2 m (w^I_i/ w^R_i) y_i \\delta \\tau\\\\\n",
    "j^y_{i+1} &= j^y_i + m \\left( 2 w^I_i y_i -  {\\cal P}_i\\right)\\delta \\tau / w^R_i\n",
    "\\end{align}\n",
    "Thes can be evolved from $(x_0, y_0, j^x_0, j^y_0)$ until the SR spin threshold is reached.\n",
    "The final state can then be converted into physical units using the scalings defined above."
   ]
  },
  {
   "cell_type": "code",
   "execution_count": 120,
   "metadata": {
    "collapsed": false
   },
   "outputs": [],
   "source": [
    "import numpy as np\n",
    "from matplotlib import pyplot as plt\n",
    "from gwaxion import physics"
   ]
  },
  {
   "cell_type": "code",
   "execution_count": 130,
   "metadata": {
    "collapsed": false
   },
   "outputs": [],
   "source": [
    "def get_sr_cond(x, jx, T0, epsilon, m=1):\n",
    "    return jx - x**2 * (m*x - jx) * 4*T0**2/(m*epsilon)**2\n",
    "\n",
    "\n",
    "# define the solver\n",
    "def evolve_bhb(bhb_0, y_0=1E-8, jy_0=1E-8, l=1, m=1, nr=0, dtau=None, max_steps=1E6, pgw=None, tolerance=1e-3):\n",
    "    if not bhb_0.is_superradiant(m):\n",
    "        raise ValueError(\"Initial BHB not superradiant for m = %i\" % m)\n",
    "    # initial mass\n",
    "    M0 = bhb_0.bh.mass\n",
    "    T0 = physics.G_SI*M0/physics.C_SI**3\n",
    "    # time step\n",
    "    epsilon = 1./bhb.boson.omega\n",
    "    # other dimensionfull constants\n",
    "    alpha = M0\n",
    "    beta = epsilon*M0*physics.C_SI**2\n",
    "    gamma = M0*physics.C_SI**2 / epsilon\n",
    "    dtau = dtau or bhb_0.cloud(l, m, nr).growth_time/10.\n",
    "\n",
    "    # GW power should be a function of current state\n",
    "    # during the growth state, we can simply ignore it\n",
    "    # if pgw is None:\n",
    "    #    def pgw(*args, **kwargs):\n",
    "    #         return 0.\n",
    "        \n",
    "    # initial state\n",
    "    x_0 = 1\n",
    "    jx_0 = bhb_0.bh.angular_momentum / beta  # same as alpha_0/2\n",
    "    n = l + nr + 1\n",
    "    wR_0 = bhb.level_omega_re(n) * epsilon\n",
    "    wI_0 = bhb.level_omega_im(l, m, nr) * epsilon\n",
    "    P_0 = 0  # pgw(bhb_0, y_0=1E-8, jy_0=1E-8, l=1, m=1, nr=0)\n",
    "      \n",
    "    # initialize arrays\n",
    "    xs = [x_0]\n",
    "    ys = [y_0]\n",
    "    jxs = [jx_0]\n",
    "    jys = [jy_0]\n",
    "    inv_wRs = [1./wR_0]\n",
    "    wIs = [wI_0]\n",
    "    Ps = [P_0]\n",
    "    \n",
    "    sr_conds = [get_sr_cond(x_0, jx_0, T0, epsilon, m=m)]\n",
    "    \n",
    "    # evolve\n",
    "    for i in range(int(max_steps)):\n",
    "        # update x & j\n",
    "        dx = - 2*wIs[i]*ys[i]*dtau\n",
    "        x_new = xs[i] + dx\n",
    "        y_new = ys[i] - dx - Ps[i]*dtau\n",
    "        # update jx & jy\n",
    "        djx = -2*m*wIs[i]*inv_wRs[i]*ys[i]*dtau\n",
    "        jx_new = jxs[i] + djx\n",
    "        jy_new = jys[i] - djx - m*inv_wRs[i]*Ps[i]*dtau\n",
    "        # update w's\n",
    "        bh = physics.BlackHole(x_new*alpha, j=jx_new*beta)\n",
    "        bhb_new = physics.BlackHoleBoson(bh, bhb_0.boson)\n",
    "        inv_wR_new = 1./ (bhb_new.level_omega_re(n) * epsilon)\n",
    "        wI_new = bhb_new.level_omega_im(l, m, nr) * epsilon\n",
    "        # append\n",
    "        xs.append(x_new)\n",
    "        ys.append(y_new)\n",
    "        jxs.append(jx_new)\n",
    "        jys.append(jy_new)\n",
    "        inv_wRs.append(inv_wR_new)\n",
    "        wIs.append(wI_new)\n",
    "        Ps.append(0)\n",
    "        # compute SR condition\n",
    "        sr_cond = get_sr_cond(x_new, jx_new, T0, epsilon, m=m)\n",
    "        sr_conds.append(sr_cond)\n",
    "        if (sr_conds[i] - sr_cond < tolerance*sr_cond) and (sr_cond < tolerance*sr_conds[0]):\n",
    "            break\n",
    "        #print x_new, jx_new, sr_cond, bhb_new.is_superradiant(m)\n",
    "    return bhb_new, tuple([np.array(l) for l in [xs, jxs, ys, jys, sr_conds]])"
   ]
  },
  {
   "cell_type": "code",
   "execution_count": 158,
   "metadata": {
    "collapsed": false
   },
   "outputs": [
    {
     "name": "stdout",
     "output_type": "stream",
     "text": [
      "588.9272390940417 0.6173169804002573\n",
      "588.9539011440366 0.6174058048410719\n"
     ]
    }
   ],
   "source": [
    "bhb = physics.BlackHoleBoson.from_parameters(m_bh=600, chi_bh=0.7, alpha=0.176, ev=True)\n",
    "\n",
    "bhb_new, (xs, jxs, ys, jys, sr_conds) = evolve_bhb(bhb, y_0=2)\n",
    "print bhb_new.bh.mass_msun, bhb_new.bh.chi\n",
    "\n",
    "bhb_new, (xs, jxs, ys, jys, sr_conds) = evolve_bhb(bhb, y_0=10)\n",
    "print bhb_new.bh.mass_msun, bhb_new.bh.chi"
   ]
  },
  {
   "cell_type": "code",
   "execution_count": 146,
   "metadata": {
    "collapsed": false
   },
   "outputs": [
    {
     "data": {
      "image/png": "[encoded data removed]",
      "text/plain": [
       "<Figure size 432x288 with 1 Axes>"
      ]
     },
     "metadata": {},
     "output_type": "display_data"
    }
   ],
   "source": [
    "plt.figure()\n",
    "plt.plot(sr_conds)\n",
    "#plt.yscale('log')\n",
    "plt.show()"
   ]
  },
  {
   "cell_type": "code",
   "execution_count": 141,
   "metadata": {
    "collapsed": false
   },
   "outputs": [
    {
     "data": {
      "image/png": "[encoded data removed]",
      "text/plain": [
       "<Figure size 432x288 with 1 Axes>"
      ]
     },
     "metadata": {},
     "output_type": "display_data"
    }
   ],
   "source": [
    "plt.figure()\n",
    "plt.plot(ys/xs)\n",
    "plt.show()"
   ]
  },
  {
   "cell_type": "code",
   "execution_count": 97,
   "metadata": {
    "collapsed": false
   },
   "outputs": [
    {
     "data": {
      "text/plain": [
       "4.454458956955306"
      ]
     },
     "execution_count": 97,
     "metadata": {},
     "output_type": "execute_result"
    }
   ],
   "source": [
    "epsilon = 1./bhb.boson.omega\n",
    "T0 = physics.G_SI*bhb.bh.mass/physics.C_SI**3\n",
    "\n",
    "epsilon/T0"
   ]
  },
  {
   "cell_type": "code",
   "execution_count": 9,
   "metadata": {
    "collapsed": false
   },
   "outputs": [
    {
     "data": {
      "text/plain": [
       "37586.92300815276"
      ]
     },
     "execution_count": 9,
     "metadata": {},
     "output_type": "execute_result"
    }
   ],
   "source": [
    "c = bhb.cloud(1,1,0)\n",
    "c.growth_time"
   ]
  }
 ],
 "metadata": {
  "kernelspec": {
   "display_name": "Python 2",
   "language": "python",
   "name": "python2"
  },
  "language_info": {
   "codemirror_mode": {
    "name": "ipython",
    "version": 2
   },
   "file_extension": ".py",
   "mimetype": "text/x-python",
   "name": "python",
   "nbconvert_exporter": "python",
   "pygments_lexer": "ipython2",
   "version": "2.7.10"
  }
 },
 "nbformat": 4,
 "nbformat_minor": 2
}
