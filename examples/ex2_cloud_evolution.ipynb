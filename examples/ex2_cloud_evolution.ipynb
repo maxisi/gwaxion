{
 "cells": [
  {
   "cell_type": "markdown",
   "metadata": {},
   "source": [
    "# Cloud evolution"
   ]
  },
  {
   "cell_type": "markdown",
   "metadata": {},
   "source": [
    "## Evolution equations\n",
    "\n",
    "The evolution of the cloud (boson mass $m_b = \\hbar /(\\mu c^2)$) is described within the quasiadiabatic approximation by a system of coupled differential equations (see e.g. [arXiv:1411.0686](http://stacks.iop.org/0264-9381/32/i=13/a=134001?key=crossref.8a4e2e36ca36fb28e1d0a6868573e646)).\n",
    "These determine the rate of change of the cloud's mass ($\\dot{M}_c= \\dot{E}_c/c^2$) and angular momentum ($\\dot{J}_c$) in terms of the power ($P_{gw}$) and angular momentum ($\\dot{J}_{gw} = P_{gw}/\\omega_R$) radiated in GWs  and the black-hole parameters ($M, J$), which is possibly affected by accretion ($\\dot{M}_{\\rm Acc}, \\dot{J}_{\\rm Acc}$).\n",
    "\n",
    "\\begin{align}\n",
    "\\dot{M}_c^{\\rm (sr)} &= 2 M_c \\omega_I\\\\\n",
    "\\dot{M} &= - \\dot{M}_c^{\\rm (sr)} + \\dot{M}_{\\rm Acc}\\\\\n",
    "\\dot{M} + \\dot{M}_c &= - P_{gw}/c^2 + \\dot{M}_{\\rm Acc} \\\\\n",
    "\\dot{J} &= - m c^2 \\dot{M}_c^{\\rm (sr)} / \\omega_R + \\dot{J}_{\\rm Acc}\\\\\n",
    "\\dot{J} + \\dot{J}_c &= - m P_{gw}/\\omega_R + \\dot{J}_{\\rm Acc}\\, ,\n",
    "\\end{align}\n",
    "\n",
    "where $\\dot{M}_c^{\\rm (sr)}$ is the change in the cloud mass due to superradiance only ($\\dot{M}_c = \\dot{M}_c^{\\rm (sr)} - P_{gw}/c^2$), and $\\omega = \\omega_R + i \\omega_I$ is the boson field frequency. In the case of no accretion, this simplifies to\n",
    "\n",
    "\\begin{align}\n",
    "\\dot{M} &= - 2 M_c \\omega_I\\\\\n",
    "\\dot{M} + \\dot{M}_c &= - P_{gw}/c^2 \\\\\n",
    "\\dot{J} &=- 2 m c^2 M_c \\omega_I / \\omega_R \\\\\n",
    "\\dot{J} + \\dot{J}_c &= - m P_{gw}/\\omega_R \\, .\n",
    "\\end{align}\n",
    "\n",
    "we can solve these equations numerically, starting from some initial parameters $(M_0, J_0, M_{c,0}, J_{c,0})$."
   ]
  },
  {
   "cell_type": "markdown",
   "metadata": {},
   "source": [
    "## Numerical setup\n",
    "\n",
    "Set up the above system of DE's in a way ammenable to numerical treatment."
   ]
  },
  {
   "cell_type": "markdown",
   "metadata": {
    "deletable": true,
    "editable": true
   },
   "source": [
    "### No accretion\n",
    "\n",
    "Define dimensionless $(x, y, j^x, j^y, {\\cal P}, w, \\tau)$ quantities such that\n",
    "\\begin{align}\n",
    "M &= \\alpha x\\\\\n",
    "M_c &= \\alpha y \\\\\n",
    "J &= \\beta j^x\\\\\n",
    "J_c &= \\beta j^y\\\\\n",
    "P_{gw} &= \\gamma {\\cal P}\\\\\n",
    "\\omega &= w \\mu\\\\\n",
    "t &= \\epsilon \\tau\\, .\n",
    "\\end{align}\n",
    "We will make sure these are dimensionless by defining the dimensionful factors\n",
    "\\begin{align}\n",
    "\\alpha &= M_0 \\\\\n",
    "\\beta &= M_0 c^2 \\mu^{-1} \\\\\n",
    "\\gamma &= M_0 c^2 \\mu \\\\\n",
    "\\epsilon &= \\mu^{-1}\\, ,\n",
    "\\end{align}\n",
    "and letting $\\mu = \\hbar/(m_b c^2)$ be the Compton frequency associated with the boson rest mass, $m_b$.\n",
    "We will also let $M_0$ be the *initial* black-hole mass.\n",
    "Note that then we have:\n",
    "\\begin{align}\n",
    "a &= \\frac{c j_x \\epsilon}{x} \\\\\n",
    "\\chi &= \\frac{j_x}{x^2} \\frac{\\epsilon}{T_0}\\, ,\n",
    "\\end{align}\n",
    "where we have defined the horizon crossing time $T_0 = G M_0/c^3$.\n",
    "Also note that the SR condition is saturated when\n",
    "\\begin{equation}\n",
    "\\left( \\frac{2}{m} \\frac{T_0}{\\epsilon}\\right)^2 = \\frac{j_x}{x^2\\left(mx-j_x\\right)}\n",
    "\\end{equation}\n",
    "\n",
    "With the above notation, the BHB evolution equations become:\n",
    "\\begin{align}\n",
    "x' &= -2 w_I y\\\\\n",
    "x' + y' &= -{\\cal P}\\\\\n",
    "(j^x)' &= -2 m w_I w_R^{-1} y\\\\\n",
    "(j^x)' + (j^y)' &= -m w_R^{-1} {\\cal P}\n",
    "\\end{align}\n",
    "for $m$ the boson magnetic quantum number ($m=1$ for dominant scalar level), and where the prime denotes ${\\rm d}/{\\rm d}\\tau$.\n",
    "We may turn these into finite-difference equations to obtain:\n",
    "\\begin{align}\n",
    "x_{i+1} &= x_i -2 w^I_i y_i \\delta \\tau \\\\\n",
    "y_{i+1} &= y_i + 2 w^I_i y_i \\delta\\tau -{\\cal P}_i \\delta \\tau\\\\\n",
    "j^x_{i+1} &= j^x_i -2 m (w^I_i/ w^R_i) y_i \\delta \\tau\\\\\n",
    "j^y_{i+1} &= j^y_i + m \\left( 2 w^I_i y_i -  {\\cal P}_i\\right)\\delta \\tau / w^R_i\n",
    "\\end{align}\n",
    "These can be evolved from $(x_0, y_0, j^x_0, j^y_0)$ until the SR spin threshold is reached.\n",
    "The final state can then be converted into physical units using the scalings defined above."
   ]
  },
  {
   "cell_type": "markdown",
   "metadata": {},
   "source": [
    "### Adding back accretion"
   ]
  },
  {
   "cell_type": "markdown",
   "metadata": {
    "deletable": true,
    "editable": true
   },
   "source": [
    "In the presence of accretion, we may define the dimensioless accretion mass and angular momentum rates:\n",
    "\n",
    "\\begin{align}\n",
    "{\\cal M}_a ' &\\equiv c^2 \\gamma^{-1} \\dot{M}_{\\rm Acc} = (M_0 \\mu)^{-1} \\, \\dot{M}_{\\rm Acc} \\\\\n",
    "{\\cal J}_a ' &\\equiv\\, \\epsilon \\beta^{-1} \\dot{J}_{\\rm Acc} = (M_0 c^2)^{-1} \\dot{J}_{\\rm Acc} \\, ,\n",
    "\\end{align}\n",
    "\n",
    "so that the evolution equations become:\n",
    "\n",
    "\\begin{align}\n",
    "x' &= -2 w_I y + {\\cal M}_a '\\\\\n",
    "x' + y' &= -{\\cal P} + {\\cal M}_a '\\\\\n",
    "(j^x)' &= -2 m w_I w_R^{-1} y + {\\cal J}_a' \\\\\n",
    "(j^x)' + (j^y)' &= -m w_R^{-1} {\\cal P} + {\\cal J}_a' \\, .\n",
    "\\end{align}\n",
    "\n",
    "The corresponding finite-difference equations are:\n",
    "\\begin{align}\n",
    "x_{i+1} &= x_i -2 w^I_i y_i \\delta \\tau + {\\cal M}_a' \\delta\\tau  \\\\\n",
    "y_{i+1} &= y_i + 2 w^I_i y_i \\delta\\tau -{\\cal P}_i \\delta \\tau \\\\\n",
    "j^x_{i+1} &= j^x_i -2 m (w^I_i/ w^R_i) y_i \\delta \\tau  + {\\cal J}_a' \\delta\\tau\\\\\n",
    "j^y_{i+1} &= j^y_i + m \\left( 2 w^I_i y_i -  {\\cal P}_i\\right)\\delta \\tau / w^R_i \\, ,\n",
    "\\end{align}\n",
    "\n",
    "assuming that the accretion rate is constant.\n",
    "Note that accretion only affects the BH quantities ($x, j^x$) by construction, because we assumed no direct interaction between the cloud and the accretion disk."
   ]
  },
  {
   "cell_type": "markdown",
   "metadata": {},
   "source": [
    "# Evolving forward"
   ]
  },
  {
   "cell_type": "code",
   "execution_count": 1,
   "metadata": {
    "collapsed": false,
    "editable": true,
    "jupyter": {
     "outputs_hidden": false
    }
   },
   "outputs": [
    {
     "name": "stdout",
     "output_type": "stream",
     "text": [
      "Populating the interactive namespace from numpy and matplotlib\n"
     ]
    }
   ],
   "source": [
    "%pylab inline\n",
    "import gwaxion"
   ]
  },
  {
   "cell_type": "markdown",
   "metadata": {},
   "source": [
    "## Final state"
   ]
  },
  {
   "cell_type": "markdown",
   "metadata": {},
   "source": [
    "The `gwaxion` package can use the above equations (ignoring cloud angular momentum and GW power) to automatically obtain the final (post-superradiance) properities of a given black-hole--boson (BHB) system. Simply make sure this feature is turned on through the `evolve` argument when creating a `BosonCloud` object."
   ]
  },
  {
   "cell_type": "markdown",
   "metadata": {},
   "source": [
    "Here's an example for the $\\ell=m=1$ cloud from pre-superradiance BH with $60\\, M_\\odot$ and $\\chi=0.7$, and a boson such that $\\alpha=0.176$."
   ]
  },
  {
   "cell_type": "code",
   "execution_count": 2,
   "metadata": {},
   "outputs": [],
   "source": [
    "c = gwaxion.BosonCloud.from_parameters(1, 1, 0, evolve=True, m_bh=60,\n",
    "                                       chi_bh=0.7, alpha=0.176)"
   ]
  },
  {
   "cell_type": "markdown",
   "metadata": {},
   "source": [
    "Print some post-superradiance parameters, which will be internally computed using the above DEs."
   ]
  },
  {
   "cell_type": "code",
   "execution_count": 3,
   "metadata": {},
   "outputs": [
    {
     "name": "stdout",
     "output_type": "stream",
     "text": [
      "Final BH mass: 58.89 Msun\n",
      "Final BH spin: 0.617\n",
      "Final BH J: 1.88e+45\n",
      "Final alpha: 0.173\n",
      "Final cloud mass: 1.11 Msun\n"
     ]
    }
   ],
   "source": [
    "l = [\n",
    "    \"Final BH mass: %.2f Msun\" % c.bhb_final.bh.mass_msun,\n",
    "    \"Final BH spin: %.3f\" % c.bhb_final.bh.chi,\n",
    "    \"Final BH J: %.2e\" % c.bhb_final.bh.angular_momentum,\n",
    "    \"Final alpha: %.3f\" % c.bhb_final.alpha,\n",
    "    \"Final cloud mass: %.2f Msun\" % c.mass_msun\n",
    "]\n",
    "print('\\n'.join(l))"
   ]
  },
  {
   "cell_type": "markdown",
   "metadata": {},
   "source": [
    "If the DE evolution is turned off with `evolve=False`, then the code approximates the final BH parameters using Eqs. (25) and (26) in [arXiv:1706.06311](https://arxiv.org/abs/1706.06311), with constant $\\alpha$ corresponding to the initial BH parameters.\n",
    "\n",
    "The result is slightly different:"
   ]
  },
  {
   "cell_type": "code",
   "execution_count": 4,
   "metadata": {
    "collapsed": false,
    "editable": true,
    "jupyter": {
     "outputs_hidden": false
    },
    "scrolled": true
   },
   "outputs": [],
   "source": [
    "c_approx = gwaxion.BosonCloud.from_parameters(1, 1, 0, evolve=False, m_bh=60,\n",
    "                                              chi_bh=0.7, alpha=0.176)"
   ]
  },
  {
   "cell_type": "code",
   "execution_count": 5,
   "metadata": {},
   "outputs": [
    {
     "name": "stdout",
     "output_type": "stream",
     "text": [
      "Final BH mass: 59.21 Msun\n",
      "Final BH spin: 0.624\n",
      "Final BH J: 1.93e+45\n",
      "Final alpha: 0.174\n",
      "Final cloud mass: 0.79 Msun\n"
     ]
    }
   ],
   "source": [
    "l = [\n",
    "    \"Final BH mass: %.2f Msun\" % c_approx.bhb_final.bh.mass_msun,\n",
    "    \"Final BH spin: %.3f\" % c_approx.bhb_final.bh.chi,\n",
    "    \"Final BH J: %.2e\" % c_approx.bhb_final.bh.angular_momentum,\n",
    "    \"Final alpha: %.3f\" % c_approx.bhb_final.alpha,\n",
    "    \"Final cloud mass: %.2f Msun\" % c_approx.mass_msun\n",
    "]\n",
    "print('\\n'.join(l))"
   ]
  },
  {
   "cell_type": "markdown",
   "metadata": {},
   "source": [
    "## Evolution"
   ]
  },
  {
   "cell_type": "markdown",
   "metadata": {},
   "source": [
    "We can study the evolution of the system during the superrandiance process by looking at the properties of the BHB system over time. To do this with `gwaxion` we need to call the DE solver directly."
   ]
  },
  {
   "cell_type": "markdown",
   "metadata": {},
   "source": [
    "We can start from the `BosonCloud` object we defined above, and call the internal method `_evolve_instability()`"
   ]
  },
  {
   "cell_type": "code",
   "execution_count": 6,
   "metadata": {},
   "outputs": [],
   "source": [
    "bhb_final, (xs, jxs, ys, inv_wRs, wIs, sr_conds, times)  = c._evolve_instability()"
   ]
  },
  {
   "cell_type": "markdown",
   "metadata": {},
   "source": [
    "The `bhb_final` object contains the final state of the evolution, and should give the same results as above, e.g."
   ]
  },
  {
   "cell_type": "code",
   "execution_count": 7,
   "metadata": {},
   "outputs": [
    {
     "name": "stdout",
     "output_type": "stream",
     "text": [
      "Final BH mass: 58.89 Msun\n",
      "Final BH spin: 0.617\n",
      "Final BH J: 1.88e+45\n",
      "Final alpha: 0.173\n"
     ]
    }
   ],
   "source": [
    "l = [\n",
    "    \"Final BH mass: %.2f Msun\" % bhb_final.bh.mass_msun,\n",
    "    \"Final BH spin: %.3f\" % bhb_final.bh.chi,\n",
    "    \"Final BH J: %.2e\" % bhb_final.bh.angular_momentum,\n",
    "    \"Final alpha: %.3f\" % bhb_final.alpha,\n",
    "]\n",
    "print('\\n'.join(l))"
   ]
  },
  {
   "cell_type": "markdown",
   "metadata": {},
   "source": [
    "The other outputs contain the quantities computed at each step of the DE evolution: $x$, $j^x$, $y$, $w_R^{-1}$, $w_I$, defined [above](#No-accretion); as well as the \"SR factor\", which vanishes when SR stops; and time."
   ]
  },
  {
   "cell_type": "markdown",
   "metadata": {},
   "source": [
    "For example, as time goes by, the superradiance quickly saturates until it stops:"
   ]
  },
  {
   "cell_type": "code",
   "execution_count": 8,
   "metadata": {
    "collapsed": false,
    "deletable": true,
    "editable": true,
    "jupyter": {
     "outputs_hidden": false
    }
   },
   "outputs": [
    {
     "data": {
      "image/png": "[encoded data removed]",
      "text/plain": [
       "<Figure size 432x288 with 1 Axes>"
      ]
     },
     "metadata": {
      "needs_background": "light"
     },
     "output_type": "display_data"
    }
   ],
   "source": [
    "scatter(times, sr_conds, marker='.')\n",
    "ylabel('SR factor');\n",
    "xlabel('Time (s)');"
   ]
  },
  {
   "cell_type": "markdown",
   "metadata": {},
   "source": [
    "As this happens, the cloud grows in mass at the expense of the BH:"
   ]
  },
  {
   "cell_type": "code",
   "execution_count": 9,
   "metadata": {
    "collapsed": false,
    "editable": true,
    "jupyter": {
     "outputs_hidden": false
    }
   },
   "outputs": [
    {
     "data": {
      "image/png": "[encoded data removed]",
      "text/plain": [
       "<Figure size 432x288 with 1 Axes>"
      ]
     },
     "metadata": {
      "needs_background": "light"
     },
     "output_type": "display_data"
    }
   ],
   "source": [
    "plot(times, ys/xs)\n",
    "axvline(6E9, ls='--', c='k')\n",
    "axvline(6E9+1500*c.number_growth_time, ls='--', c='k')\n",
    "xlabel('Time (s)');\n",
    "ylabel(r'$M_c/M_{\\rm BH}$');"
   ]
  },
  {
   "cell_type": "markdown",
   "metadata": {},
   "source": [
    "Note that the timesteps are not equally separated, since the solver adapts the interval according to the evolution of the system:"
   ]
  },
  {
   "cell_type": "code",
   "execution_count": 10,
   "metadata": {
    "collapsed": false,
    "deletable": true,
    "editable": true,
    "jupyter": {
     "outputs_hidden": false
    }
   },
   "outputs": [
    {
     "data": {
      "image/png": "[encoded data removed]",
      "text/plain": [
       "<Figure size 432x288 with 1 Axes>"
      ]
     },
     "metadata": {
      "needs_background": "light"
     },
     "output_type": "display_data"
    }
   ],
   "source": [
    "plot(times)\n",
    "xlabel('Steps');\n",
    "ylabel('Time (s)');"
   ]
  },
  {
   "cell_type": "code",
   "execution_count": null,
   "metadata": {},
   "outputs": [],
   "source": []
  }
 ],
 "metadata": {
  "kernelspec": {
   "display_name": "Python 3",
   "language": "python",
   "name": "python3"
  },
  "language_info": {
   "codemirror_mode": {
    "name": "ipython",
    "version": 3
   },
   "file_extension": ".py",
   "mimetype": "text/x-python",
   "name": "python",
   "nbconvert_exporter": "python",
   "pygments_lexer": "ipython3",
   "version": "3.7.9"
  },
  "toc": {
   "base_numbering": 1,
   "nav_menu": {},
   "number_sections": true,
   "sideBar": true,
   "skip_h1_title": false,
   "title_cell": "Table of Contents",
   "title_sidebar": "Contents",
   "toc_cell": false,
   "toc_position": {},
   "toc_section_display": true,
   "toc_window_display": true
  }
 },
 "nbformat": 4,
 "nbformat_minor": 4
}
