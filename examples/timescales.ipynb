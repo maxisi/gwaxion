{
 "cells": [
  {
   "cell_type": "code",
   "execution_count": 2,
   "metadata": {
    "collapsed": false,
    "deletable": true,
    "editable": true
   },
   "outputs": [],
   "source": [
    "import numpy as np\n",
    "import matplotlib\n",
    "from matplotlib import pyplot as plt\n",
    "from matplotlib import ticker\n",
    "from gwaxion import physics\n",
    "import pandas as pd\n",
    "import lal\n",
    "\n",
    "mplparams = {\n",
    "    'text.usetex': True,  # use LaTeX for all text\n",
    "    'axes.linewidth': 1,  # set axes linewidths to 0.5\n",
    "    'axes.grid': False,  # add a grid\n",
    "    'axes.labelweight': 'normal',\n",
    "    'font.family': 'serif',\n",
    "    'font.size': 24,\n",
    "    'font.serif': 'Computer Modern Roman'\n",
    "}\n",
    "matplotlib.rcParams.update(mplparams)"
   ]
  },
  {
   "cell_type": "code",
   "execution_count": 3,
   "metadata": {
    "collapsed": true,
    "deletable": true,
    "editable": true
   },
   "outputs": [],
   "source": [
    "# scalar timescales (approximate formulas from paper)\n",
    "\n",
    "def tinst(m, alpha, chi):\n",
    "    #return 25. * lal.DAYSID_SI * (10*lal.MSUN_SI/m) * (0.1/alpha)**9 / chi\n",
    "    # The above was incorrect!\n",
    "    return 27* lal.DAYSID_SI * (m/ (10*lal.MSUN_SI)) * (0.1/alpha)**9 / chi\n",
    "\n",
    "def tgw(m, alpha, chi):\n",
    "    #return (6.5E4) * lal.YRSID_SI * (10*lal.MSUN_SI/m) * (0.1/alpha)**15 / chi\n",
    "    # The above was incorrect!\n",
    "    return (6.5E4) * lal.YRSID_SI * (m/(10*lal.MSUN_SI)) * (0.1/alpha)**15 / chi\n"
   ]
  },
  {
   "cell_type": "markdown",
   "metadata": {
    "deletable": true,
    "editable": true
   },
   "source": [
    "## GW150914-like remnant"
   ]
  },
  {
   "cell_type": "code",
   "execution_count": 4,
   "metadata": {
    "collapsed": true,
    "deletable": true,
    "editable": true
   },
   "outputs": [],
   "source": [
    "mbh_ex = 60\n",
    "chi_ex = 0.7"
   ]
  },
  {
   "cell_type": "code",
   "execution_count": 5,
   "metadata": {
    "collapsed": false,
    "deletable": true,
    "editable": true
   },
   "outputs": [
    {
     "name": "stdout",
     "output_type": "stream",
     "text": [
      "1.42824582823\n",
      "115.684866515\n"
     ]
    }
   ],
   "source": [
    "print tinst(mbh_ex*physics.MSUN_SI, 0.176, chi_ex) / lal.DAYSID_SI\n",
    "print tgw(mbh_ex*physics.MSUN_SI, 0.176, chi_ex) / lal.YRSID_SI"
   ]
  },
  {
   "cell_type": "code",
   "execution_count": 6,
   "metadata": {
    "collapsed": false,
    "deletable": true,
    "editable": true
   },
   "outputs": [
    {
     "name": "stdout",
     "output_type": "stream",
     "text": [
      "231.428571429\n",
      "557142.857143\n"
     ]
    }
   ],
   "source": [
    "print tinst(mbh_ex*physics.MSUN_SI, 0.1, chi_ex)/lal.DAYSID_SI\n",
    "print tgw(mbh_ex*physics.MSUN_SI, 0.1, chi_ex)/lal.YRSID_SI"
   ]
  },
  {
   "cell_type": "markdown",
   "metadata": {
    "deletable": true,
    "editable": true
   },
   "source": [
    "### Comparison\n",
    "\n",
    "Let's compare the above analytic approximation to the expression in the `gwaxion` package."
   ]
  },
  {
   "cell_type": "code",
   "execution_count": 7,
   "metadata": {
    "collapsed": false,
    "deletable": true,
    "editable": true
   },
   "outputs": [
    {
     "name": "stderr",
     "output_type": "stream",
     "text": [
      "/Users/maxisi/custompy/lib/python2.7/site-packages/gwaxion/physics.py:411: RuntimeWarning: divide by zero encountered in double_scalars\n",
      "  self.reduced_compton_wavelength = HBAR_SI / (mass*C_SI)\n",
      "/Users/maxisi/custompy/lib/python2.7/site-packages/gwaxion/physics.py:1076: RuntimeWarning: divide by zero encountered in double_scalars\n",
      "  self.nr)\n",
      "/Users/maxisi/custompy/lib/python2.7/site-packages/gwaxion/physics.py:996: RuntimeWarning: divide by zero encountered in double_scalars\n",
      "  epsilon = 1./bhb_0.boson.omega\n",
      "/Users/maxisi/custompy/lib/python2.7/site-packages/gwaxion/physics.py:1006: RuntimeWarning: invalid value encountered in double_scalars\n",
      "  wR_0 = bhb_0.level_omega_re(n) * epsilon\n",
      "/Users/maxisi/custompy/lib/python2.7/site-packages/gwaxion/physics.py:1007: RuntimeWarning: invalid value encountered in double_scalars\n",
      "  wI_0 = bhb_0.level_omega_im(l, m, nr) * epsilon\n"
     ]
    }
   ],
   "source": [
    "alphas = np.linspace(0, 0.2, 100)\n",
    "\n",
    "tgws = []\n",
    "tinsts_amp = []\n",
    "tinsts_num = []\n",
    "\n",
    "for alpha in alphas:\n",
    "    bhb = physics.BlackHoleBoson.from_parameters(m_bh=mbh_ex, chi_bh=chi_ex, alpha=alpha)\n",
    "    c = bhb.cloud(1, 1, 0)\n",
    "    tinsts_amp.append(c.amplitude_growth_time)\n",
    "    tinsts_num.append(c.number_growth_time)\n",
    "    tgws.append(c.get_life_time())"
   ]
  },
  {
   "cell_type": "markdown",
   "metadata": {
    "deletable": true,
    "editable": true
   },
   "source": [
    "#### Instability"
   ]
  },
  {
   "cell_type": "code",
   "execution_count": 8,
   "metadata": {
    "collapsed": false,
    "deletable": true,
    "editable": true
   },
   "outputs": [
    {
     "name": "stderr",
     "output_type": "stream",
     "text": [
      "/Users/maxisi/custompy/lib/python2.7/site-packages/ipykernel/__main__.py:6: RuntimeWarning: divide by zero encountered in divide\n",
      "/Users/maxisi/custompy/lib/python2.7/site-packages/matplotlib/font_manager.py:1331: UserWarning: findfont: Font family [u'serif'] not found. Falling back to DejaVu Sans\n",
      "  (prop.get_family(), self.defaultFamily[fontext]))\n"
     ]
    },
    {
     "data": {
      "image/png": "[encoded data removed]",
      "text/plain": [
       "<Figure size 792x576 with 1 Axes>"
      ]
     },
     "metadata": {},
     "output_type": "display_data"
    }
   ],
   "source": [
    "fig, ax = plt.subplots(1, figsize=(11,8))\n",
    "\n",
    "tinsts_ana = tinst(mbh_ex*physics.MSUN_SI, alphas, chi_ex)\n",
    "\n",
    "ax.plot(alphas, tinsts_ana, label='Closed form', lw=4, c='gray')\n",
    "ax.plot(alphas, tinsts_amp, label='Amplitude', lw=3, ls='--')\n",
    "ax.plot(alphas, tinsts_num, label='Number', lw=3, ls='--')\n",
    "\n",
    "ax.set_xlim(0, 0.2)\n",
    "ax.set_yscale('log')\n",
    "ax.set_ylabel(r'$\\tau$ (s)')\n",
    "ax.set_xlabel(r'$\\alpha$')\n",
    "\n",
    "ax.legend(loc='best')\n",
    "\n",
    "plt.show(fig)"
   ]
  },
  {
   "cell_type": "code",
   "execution_count": 9,
   "metadata": {
    "collapsed": false,
    "deletable": true,
    "editable": true
   },
   "outputs": [
    {
     "name": "stderr",
     "output_type": "stream",
     "text": [
      "/Users/maxisi/custompy/lib/python2.7/site-packages/ipykernel/__main__.py:3: RuntimeWarning: invalid value encountered in subtract\n",
      "  app.launch_new_instance()\n",
      "/Users/maxisi/custompy/lib/python2.7/site-packages/ipykernel/__main__.py:4: RuntimeWarning: invalid value encountered in subtract\n"
     ]
    },
    {
     "data": {
      "image/png": "[encoded data removed]",
      "text/plain": [
       "<Figure size 792x576 with 1 Axes>"
      ]
     },
     "metadata": {},
     "output_type": "display_data"
    }
   ],
   "source": [
    "fig, ax = plt.subplots(1, figsize=(11,8))\n",
    "\n",
    "ax.plot(alphas, (tinsts_amp - tinsts_ana)/tinsts_amp, label='Amplitude', lw=3, ls='--')\n",
    "ax.plot(alphas, (tinsts_num - tinsts_ana)/tinsts_num, label='Number', lw=3, ls='--')\n",
    "\n",
    "ax.set_xlim(0, 0.2)\n",
    "ax.set_yscale('log')\n",
    "ax.set_ylabel(r'$\\delta\\tau/\\tau$')\n",
    "ax.set_xlabel(r'$\\alpha$')\n",
    "\n",
    "ax.legend(loc='best')\n",
    "\n",
    "plt.show(fig)"
   ]
  },
  {
   "cell_type": "markdown",
   "metadata": {
    "deletable": true,
    "editable": true
   },
   "source": [
    "#### Duration"
   ]
  },
  {
   "cell_type": "code",
   "execution_count": 10,
   "metadata": {
    "collapsed": false,
    "deletable": true,
    "editable": true
   },
   "outputs": [
    {
     "ename": "NameError",
     "evalue": "name 'chi' is not defined",
     "output_type": "error",
     "traceback": [
      "\u001b[0;31m---------------------------------------------------------------------------\u001b[0m",
      "\u001b[0;31mNameError\u001b[0m                                 Traceback (most recent call last)",
      "\u001b[0;32m<ipython-input-10-32b9e62990d3>\u001b[0m in \u001b[0;36m<module>\u001b[0;34m()\u001b[0m\n\u001b[1;32m      1\u001b[0m \u001b[0mfig\u001b[0m\u001b[0;34m,\u001b[0m \u001b[0max\u001b[0m \u001b[0;34m=\u001b[0m \u001b[0mplt\u001b[0m\u001b[0;34m.\u001b[0m\u001b[0msubplots\u001b[0m\u001b[0;34m(\u001b[0m\u001b[0;36m1\u001b[0m\u001b[0;34m,\u001b[0m \u001b[0mfigsize\u001b[0m\u001b[0;34m=\u001b[0m\u001b[0;34m(\u001b[0m\u001b[0;36m11\u001b[0m\u001b[0;34m,\u001b[0m\u001b[0;36m8\u001b[0m\u001b[0;34m)\u001b[0m\u001b[0;34m)\u001b[0m\u001b[0;34m\u001b[0m\u001b[0m\n\u001b[1;32m      2\u001b[0m \u001b[0;34m\u001b[0m\u001b[0m\n\u001b[0;32m----> 3\u001b[0;31m \u001b[0mtgws_ana\u001b[0m \u001b[0;34m=\u001b[0m \u001b[0mtgw\u001b[0m\u001b[0;34m(\u001b[0m\u001b[0mmbh_ex\u001b[0m\u001b[0;34m*\u001b[0m\u001b[0mphysics\u001b[0m\u001b[0;34m.\u001b[0m\u001b[0mMSUN_SI\u001b[0m\u001b[0;34m,\u001b[0m \u001b[0malphas\u001b[0m\u001b[0;34m,\u001b[0m \u001b[0mchi\u001b[0m\u001b[0;34m)\u001b[0m\u001b[0;34m\u001b[0m\u001b[0m\n\u001b[0m\u001b[1;32m      4\u001b[0m \u001b[0max\u001b[0m\u001b[0;34m.\u001b[0m\u001b[0mplot\u001b[0m\u001b[0;34m(\u001b[0m\u001b[0malphas\u001b[0m\u001b[0;34m,\u001b[0m \u001b[0mtgws_ana\u001b[0m\u001b[0;34m,\u001b[0m \u001b[0mlabel\u001b[0m\u001b[0;34m=\u001b[0m\u001b[0;34m'Closed form'\u001b[0m\u001b[0;34m,\u001b[0m \u001b[0mlw\u001b[0m\u001b[0;34m=\u001b[0m\u001b[0;36m4\u001b[0m\u001b[0;34m,\u001b[0m \u001b[0mc\u001b[0m\u001b[0;34m=\u001b[0m\u001b[0;34m'gray'\u001b[0m\u001b[0;34m)\u001b[0m\u001b[0;34m\u001b[0m\u001b[0m\n\u001b[1;32m      5\u001b[0m \u001b[0max\u001b[0m\u001b[0;34m.\u001b[0m\u001b[0mplot\u001b[0m\u001b[0;34m(\u001b[0m\u001b[0malphas\u001b[0m\u001b[0;34m,\u001b[0m \u001b[0mtgws\u001b[0m\u001b[0;34m,\u001b[0m \u001b[0mlabel\u001b[0m\u001b[0;34m=\u001b[0m\u001b[0;34m'Numeric'\u001b[0m\u001b[0;34m,\u001b[0m \u001b[0mlw\u001b[0m\u001b[0;34m=\u001b[0m\u001b[0;36m3\u001b[0m\u001b[0;34m,\u001b[0m \u001b[0mls\u001b[0m\u001b[0;34m=\u001b[0m\u001b[0;34m'--'\u001b[0m\u001b[0;34m)\u001b[0m\u001b[0;34m\u001b[0m\u001b[0m\n",
      "\u001b[0;31mNameError\u001b[0m: name 'chi' is not defined"
     ]
    }
   ],
   "source": [
    "fig, ax = plt.subplots(1, figsize=(11,8))\n",
    "\n",
    "tgws_ana = tgw(mbh_ex*physics.MSUN_SI, alphas, chi)\n",
    "ax.plot(alphas, tgws_ana, label='Closed form', lw=4, c='gray')\n",
    "ax.plot(alphas, tgws, label='Numeric', lw=3, ls='--')\n",
    "\n",
    "ax.set_xlim(0, 0.2)\n",
    "ax.set_yscale('log')\n",
    "ax.set_ylabel(r'$\\tau$ (s)')\n",
    "ax.set_xlabel(r'$\\alpha$')\n",
    "\n",
    "ax.legend(loc='best')\n",
    "\n",
    "plt.show(fig)"
   ]
  },
  {
   "cell_type": "code",
   "execution_count": null,
   "metadata": {
    "collapsed": false,
    "deletable": true,
    "editable": true
   },
   "outputs": [],
   "source": [
    "fig, ax = plt.subplots(1, figsize=(11,8))\n",
    "\n",
    "ax.plot(alphas, (tgws - tgws_ana)/tgws, lw=3, ls='--')\n",
    "\n",
    "ax.set_xlim(0, 0.2)\n",
    "ax.set_yscale('log')\n",
    "ax.set_ylabel(r'$\\delta\\tau/\\tau$')\n",
    "ax.set_xlabel(r'$\\alpha$')\n",
    "\n",
    "plt.show(fig)"
   ]
  },
  {
   "cell_type": "markdown",
   "metadata": {
    "deletable": true,
    "editable": true
   },
   "source": [
    "### Paper plot"
   ]
  },
  {
   "cell_type": "code",
   "execution_count": null,
   "metadata": {
    "collapsed": false,
    "deletable": true,
    "editable": true,
    "scrolled": false
   },
   "outputs": [],
   "source": [
    "mbh_ex = 60\n",
    "mbh = mbh_ex*lal.MSUN_SI\n",
    "chi = 0.7\n",
    "alphas = np.linspace(0, 0.2, 100)\n",
    "\n",
    "fig, ax = plt.subplots(1, figsize=(11,8))\n",
    "ax2 = ax.twiny()\n",
    "\n",
    "ax.plot(alphas, np.array(tinsts_num)/lal.YRSID_SI, label=r'Growth ($\\tau_{\\rm inst}$)', lw=4, c='coral')\n",
    "ax.plot(alphas, np.array(tgws)/lal.YRSID_SI, label=r'Duration ($\\tau_{\\rm GW}$)', lw=4, c='purple')\n",
    "\n",
    "# x_text = 0.105\n",
    "ax.axhline(1, ls=':', c='k', lw=4, alpha=0.5)\n",
    "# ax.text(x_text, 2, r'$1\\, $yr',rotation=0, fontsize=20, color='gray', ha='center')\n",
    "\n",
    "# day = physics.DAYSID_SI / physics.YRSID_SI\n",
    "# ax.axhline(day, ls=':', c='k', lw=1, alpha=0.5)\n",
    "# ax.text(x_text, day,r'$1\\, $day',rotation=0, fontsize=16, color='gray', ha='center')\n",
    "\n",
    "# ax.axhline(100, ls=':', c='k', lw=2, alpha=0.5)\n",
    "ax.axhline(lal.DAYSID_SI/lal.YRSID_SI, ls=':', c='k', lw=3, alpha=0.5)\n",
    "\n",
    "ax.axvline(0.179, ls='--', c='gray', lw=4)\n",
    "\n",
    "ax.set_xlim(0.1, 0.2)\n",
    "ax.set_ylim(1E-2, 1E7)\n",
    "ax.set_yscale('log')\n",
    "ax.set_ylabel(r'$\\tau$ (yr)', fontsize=30)\n",
    "ax.set_xlabel(r'$\\alpha$', fontsize=30)\n",
    "\n",
    "ax.annotate(r'$M_i=60 M_\\odot$'+'\\n'+r'$\\chi_i=0.7$', xy=(0.3, 0.5), xycoords=\"axes fraction\", \n",
    "            ha='center', va='center', fontsize=40, color='gray')\n",
    "\n",
    "ax.legend(loc='upper right', edgecolor='w')\n",
    "\n",
    "# add boson mass scale\n",
    "def mu_alpha(alpha):\n",
    "    return physics.Alpha(alpha=alpha, m_bh=mbh_ex).m_b_ev\n",
    "mu_ticks = mu_alpha(ax.get_xticks())/1E-13\n",
    "ax2.set_xticks(mu_ticks)\n",
    "ax2.set_xticklabels(['%.1f' % x for x in mu_ticks])\n",
    "ax2.set_xlim(mu_alpha(np.array(ax.get_xlim()))/1E-13)\n",
    "ax2.set_xlabel(r'$\\mu$ {\\huge ($10^{-13}$eV)}', fontsize=28)\n",
    "ax2.tick_params(labelsize=18) \n",
    "\n",
    "ax.grid(True, ls=':')\n",
    "\n",
    "fig.savefig('plot_tau_alpha.pdf', bbox_inches='tight')\n",
    "\n",
    "plt.show()\n",
    "plt.close()"
   ]
  },
  {
   "cell_type": "code",
   "execution_count": null,
   "metadata": {
    "collapsed": false,
    "deletable": true,
    "editable": true
   },
   "outputs": [],
   "source": [
    "lal.DAYSID_SI/lal.YRSID_SI"
   ]
  },
  {
   "cell_type": "markdown",
   "metadata": {
    "deletable": true,
    "editable": true
   },
   "source": [
    "Properties at peak:"
   ]
  },
  {
   "cell_type": "code",
   "execution_count": null,
   "metadata": {
    "collapsed": false,
    "deletable": true,
    "editable": true
   },
   "outputs": [],
   "source": [
    "bhb = physics.BlackHoleBoson.from_parameters(m_bh=mbh_ex, chi_bh=chi, alpha=0.179)\n",
    "c = bhb.cloud(1, 1, 0)\n",
    "print \"Growth time: %.2f days\" % (c.number_growth_time / physics.DAYSID_SI)\n",
    "print \"Growth time: %.2f years\" % (c.get_life_time() / physics.YRSID_SI)"
   ]
  },
  {
   "cell_type": "markdown",
   "metadata": {
    "deletable": true,
    "editable": true
   },
   "source": [
    "## Mass-spin plane"
   ]
  },
  {
   "cell_type": "code",
   "execution_count": null,
   "metadata": {
    "collapsed": false,
    "deletable": true,
    "editable": true
   },
   "outputs": [],
   "source": [
    "reload(physics)"
   ]
  },
  {
   "cell_type": "code",
   "execution_count": null,
   "metadata": {
    "collapsed": false,
    "deletable": true,
    "editable": true
   },
   "outputs": [],
   "source": [
    "import multiprocessing\n",
    "\n",
    "n_mass = 100\n",
    "n_alpha = 100\n",
    "\n",
    "mbhs_array = np.logspace(0, 3, n_mass)\n",
    "alphas_array = np.linspace(0.01, 0.2, n_alpha)\n",
    "\n",
    "a_m_list = []\n",
    "for a in alphas_array:\n",
    "    for m in mbhs_array:\n",
    "        a_m_list.append([a, m])\n",
    "        \n",
    "# simple wrapper to get h0, fgw\n",
    "def get_h0f(a_m):\n",
    "    alpha, mbh = a_m\n",
    "    return physics.get_gw(alpha, m_bh=mbh, chi_bh=0.7, lgw=2, l=1, m=1, nr=0, distance=5E6*physics.PC_SI, times=True)\n",
    "\n",
    "pool = multiprocessing.Pool(8)\n",
    "outputs = pool.map(get_h0f, a_m_list)\n",
    "\n",
    "h0s, fs, Tis, Tgws = np.array(outputs).T\n",
    "alphas, mbhs = np.array(a_m_list).T"
   ]
  },
  {
   "cell_type": "code",
   "execution_count": null,
   "metadata": {
    "collapsed": false,
    "deletable": true,
    "editable": true
   },
   "outputs": [],
   "source": [
    "# get maximum amplitude per mass\n",
    "# h0s, fgws = physics.h0_scalar_brito(mbhs_array, alphas_array, chi_i=chi, d=5E6*lal.PC_SI)\n",
    "\n",
    "df1 = pd.DataFrame({'alpha': alphas, 'mbh': mbhs, 'h0': h0s, 'fgw': fs, 'tinst': Tis, 'tgw': Tgws})\n",
    "# df1 = df1[df1['tinst']>0].copy()\n",
    "\n",
    "grouped = df1.groupby('mbh')\n",
    "amaxs = []\n",
    "for mbh in mbhs_array.flatten():\n",
    "    df_mbh = grouped.get_group(mbh)\n",
    "    amaxs.append(df_mbh['alpha'][df_mbh['h0']==df_mbh['h0'].max()].iloc[0])"
   ]
  },
  {
   "cell_type": "code",
   "execution_count": null,
   "metadata": {
    "collapsed": false,
    "deletable": true,
    "editable": true
   },
   "outputs": [],
   "source": [
    "#tinsts = tinst(mbhs*lal.MSUN_SI, alphas, chi)/lal.YRSID_SI\n",
    "\n",
    "# from matplotlib.mlab import griddata\n",
    "# tinsts = griddata(df1['mbh'], df1['alpha'], df1['tinst'] / physics.YRSID_SI, mbhs_array, alphas_array, interp='linear')\n",
    "# no need for the above because we already have a grid\n",
    "\n",
    "X = df1['mbh'].values.reshape(n_alpha, n_mass)\n",
    "Y = df1['alpha'].values.reshape(n_alpha, n_mass)\n",
    "Z = df1['tinst'].values.reshape(n_alpha, n_mass) / lal.YRSID_SI\n",
    "\n",
    "norm = matplotlib.colors.LogNorm(vmin=Z.min(), vmax=Z.max())\n",
    "\n",
    "fig, ax = plt.subplots(1, figsize=(11,8))\n",
    "ax.set_xscale('log')\n",
    "\n",
    "cm = ax.contourf(X, Y, Z, cmap='magma', locator=ticker.LogLocator(numticks=24,base=10), norm=norm)\n",
    "\n",
    "cs = ax.contour(X, Y, Z, levels = [lal.DAYSID_SI/lal.YRSID_SI,1], colors=('white',), linestyles=('-','-'), \n",
    "                linewidths=(1,3))\n",
    "\n",
    "strs = ['1 day', '1yr']\n",
    "fmt = {l: s for l, s in zip(cs.levels, strs)}\n",
    "plt.clabel(cs, cs.levels[::1], inline=True, fmt=fmt, fontsize=20)\n",
    "\n",
    "#cb_ticks = np.logspace(-30, -24, 7)# np.ceil(np.log10(h0s_ma[~np.isnan(h0s_ma)].max())), 7)\n",
    "cb = plt.colorbar(cm, norm=norm, label=r'$\\tau_{\\rm inst}$ (yr)')#, ticks=cb_ticks)\n",
    "cb.ax.tick_params(labelsize=18) \n",
    "\n",
    "ax.plot(mbhs_array.flatten(), amaxs, '--', color='gray', lw=2)\n",
    "\n",
    "ax.axvline(mbh_ex, ls=':', c='w', lw=2)\n",
    "\n",
    "yticks = np.arange(0, 0.25, 0.05)[1:]\n",
    "ax.set_yticks(yticks)\n",
    "\n",
    "\n",
    "ax.set_ylabel(r'$\\alpha$')\n",
    "ax.set_xlabel(r'$M_i$ $(M_\\odot)$')\n",
    "\n",
    "ax.tick_params(axis='both', color='0.5', which='both', width=2, direction='in')\n",
    "ax.tick_params(axis='both', color='0.5', length=10, direction='in')\n",
    "\n",
    "ax.annotate(r'$\\chi=0.7$', xy=(0.05, 0.05), xycoords=\"axes fraction\", \n",
    "            ha='left', va='bottom', fontsize=30, color='0.4')\n",
    "\n",
    "fig.savefig('cmap_alpha_mbh_tinst.pdf', bbox_inches='tight')\n",
    "\n",
    "plt.show()\n",
    "plt.close()"
   ]
  },
  {
   "cell_type": "code",
   "execution_count": null,
   "metadata": {
    "collapsed": false,
    "deletable": true,
    "editable": true
   },
   "outputs": [],
   "source": [
    "Z.min()"
   ]
  },
  {
   "cell_type": "code",
   "execution_count": null,
   "metadata": {
    "collapsed": false,
    "deletable": true,
    "editable": true,
    "scrolled": true
   },
   "outputs": [],
   "source": [
    "# THE CODE BELOW WORKS, but requires more samples\n",
    "\n",
    "# norm = matplotlib.colors.LogNorm(vmin=tinsts.min(), vmax=tinsts.max())\n",
    "\n",
    "# fig, ax = plt.subplots(1, figsize=(11,8))\n",
    "\n",
    "# cm = ax.hexbin(df1['mbh'], df1['alpha'], df1['tinst']/ lal.YRSID_SI, cmap='magma', norm=norm, xscale='log')\n",
    "\n",
    "# ax.set_xscale('log')\n",
    "\n",
    "# cs = ax.contour(X, Y, Z, levels = [0.0001,1], colors=('white',),linestyles=('-','-'), linewidths=(1,3))\n",
    "\n",
    "# strs = ['1 h', '1 yr']\n",
    "# fmt = {l: s for l, s in zip(cs.levels, strs)}\n",
    "# plt.clabel(cs, cs.levels[::1], inline=True, fmt=fmt, fontsize=20)\n",
    "\n",
    "# #cb_ticks = np.logspace(-30, -24, 7)# np.ceil(np.log10(h0s_ma[~np.isnan(h0s_ma)].max())), 7)\n",
    "# cb = plt.colorbar(cm, norm=norm, label=r'$\\tau_{\\rm inst}$ (yr)')#, ticks=cb_ticks)\n",
    "\n",
    "# ax.plot(mbhs_array.flatten(), amaxs, '--', color='gray', lw=2)\n",
    "\n",
    "# ax.axvline(mbh_ex, ls=':', c='w', lw=2)\n",
    "\n",
    "# yticks = np.arange(0, 0.25, 0.05)[1:]\n",
    "# ax.set_yticks(yticks)\n",
    "\n",
    "# ax.set_xscale('log')\n",
    "# ax.set_ylabel(r'$\\alpha$')\n",
    "# ax.set_xlabel(r'$M$ $(M_\\odot)$')\n",
    "\n",
    "# ax.tick_params(axis='both', color='0.5', which='both', width=2, direction='in')\n",
    "# ax.tick_params(axis='both', color='0.5', length=10, direction='in')\n",
    "\n",
    "# ax.annotate(r'$\\chi=0.7$', xy=(0.05, 0.05), xycoords=\"axes fraction\", \n",
    "#             ha='left', va='bottom', fontsize=30, color='0.5')\n",
    "\n",
    "# #fig.savefig('cmap_alpha_mbh_tinst.pdf', bbox_inches='tight')\n",
    "\n",
    "# plt.show()\n",
    "# plt.close()"
   ]
  },
  {
   "cell_type": "code",
   "execution_count": null,
   "metadata": {
    "collapsed": false,
    "deletable": true,
    "editable": true
   },
   "outputs": [],
   "source": [
    "# X = mbhs.reshape(n_alpha, n_mass)\n",
    "# Y = alphas.reshape(n_alpha, n_mass)\n",
    "# tgws = tgw(X*lal.MSUN_SI, Y, chi)\n",
    "# Z = tgws/lal.YRSID_SI\n",
    "\n",
    "X = df1['mbh'].values.reshape(n_alpha, n_mass)\n",
    "Y = df1['alpha'].values.reshape(n_alpha, n_mass)\n",
    "Z = df1['tgw'].values.reshape(n_alpha, n_mass) / lal.YRSID_SI\n",
    "\n",
    "norm = matplotlib.colors.LogNorm(vmin=10, vmax=Z.max())\n",
    "\n",
    "fig, ax = plt.subplots(1, figsize=(11,8))\n",
    "ax.set_xscale('log')\n",
    "\n",
    "cm = ax.contourf(X, Y, Z, cmap='magma', norm=norm, locator=ticker.LogLocator(numticks=26,base=10))\n",
    "cb = plt.colorbar(cm, norm=norm, label=r'$\\tau_{\\rm GW}$ (yr)')#, ticks=cb_ticks)\n",
    "cb.ax.tick_params(labelsize=18) \n",
    "\n",
    "# cs = ax.contour(X, Y, Z, levels = [1E2], colors=('white',),linestyles=('-',), linewidths=(3,))\n",
    "# strs = ['100yr']\n",
    "# fmt = {l: s for l, s in zip(cs.levels, strs)}\n",
    "# plt.clabel(cs, cs.levels[::1], inline=True, fmt=fmt, fontsize=20)\n",
    "\n",
    "ax.axvline(mbh_ex, ls=':', c='w', lw=2)\n",
    "\n",
    "ax.plot(mbhs_array.flatten(), amaxs, '--', color='gray', lw=2)\n",
    "\n",
    "ax.set_ylabel(r'$\\alpha$')\n",
    "ax.set_xlabel(r'$M_i$ $(M_\\odot)$')\n",
    "\n",
    "yticks = np.arange(0, 0.25, 0.05)[1:]\n",
    "ax.set_yticks(yticks)\n",
    "\n",
    "ax.tick_params(axis='both', color='0.5', which='both', width=2, direction='in')\n",
    "ax.tick_params(axis='both', color='0.5', length=10, direction='in')\n",
    "\n",
    "ax.annotate(r'$\\chi=0.7$', xy=(0.05, 0.05), xycoords=\"axes fraction\", \n",
    "            ha='left', va='bottom', fontsize=30, color='0.4')\n",
    "\n",
    "fig.savefig('cmap_alpha_mbh_tgw.pdf', bbox_inches='tight')\n",
    "\n",
    "plt.show()\n",
    "plt.close()"
   ]
  },
  {
   "cell_type": "code",
   "execution_count": null,
   "metadata": {
    "collapsed": true,
    "deletable": true,
    "editable": true
   },
   "outputs": [],
   "source": []
  }
 ],
 "metadata": {
  "kernelspec": {
   "display_name": "Python 2",
   "language": "python",
   "name": "python2"
  },
  "language_info": {
   "codemirror_mode": {
    "name": "ipython",
    "version": 2
   },
   "file_extension": ".py",
   "mimetype": "text/x-python",
   "name": "python",
   "nbconvert_exporter": "python",
   "pygments_lexer": "ipython2",
   "version": "2.7.10"
  },
  "toc": {
   "base_numbering": 1,
   "nav_menu": {},
   "number_sections": true,
   "sideBar": true,
   "skip_h1_title": false,
   "title_cell": "Table of Contents",
   "title_sidebar": "Contents",
   "toc_cell": false,
   "toc_position": {},
   "toc_section_display": true,
   "toc_window_display": false
  }
 },
 "nbformat": 4,
 "nbformat_minor": 2
}
