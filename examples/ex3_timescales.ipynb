{
 "cells": [
  {
   "cell_type": "markdown",
   "metadata": {},
   "source": [
    "# Boson cloud timescales"
   ]
  },
  {
   "cell_type": "code",
   "execution_count": 1,
   "metadata": {},
   "outputs": [
    {
     "name": "stdout",
     "output_type": "stream",
     "text": [
      "Populating the interactive namespace from numpy and matplotlib\n"
     ]
    }
   ],
   "source": [
    "%pylab inline\n",
    "import gwaxion\n",
    "from matplotlib import ticker\n",
    "\n",
    "DAYSID_SI = 86164.09053133354\n",
    "YRSID_SI = 31558149.7635456"
   ]
  },
  {
   "cell_type": "markdown",
   "metadata": {},
   "source": [
    "We will look at the two key timescales governing the evolution of a boson cloud around a black hole (BH): the superradiance instability timescale, and the gravitational-wave dissipation timescale.\n",
    "\n",
    "For concreteness, let's look at a BH consistent with the GW150914 remnant, with $M = 60\\, M_\\odot$ and $\\chi = 0.7$."
   ]
  },
  {
   "cell_type": "code",
   "execution_count": 2,
   "metadata": {
    "editable": true
   },
   "outputs": [],
   "source": [
    "mbh = 60\n",
    "chi = 0.7"
   ]
  },
  {
   "cell_type": "markdown",
   "metadata": {
    "deletable": true,
    "editable": true
   },
   "source": [
    "## Instability"
   ]
  },
  {
   "cell_type": "markdown",
   "metadata": {},
   "source": [
    "Let's first focus on the $e$-folding time of the cloud superradiant growth. We can obtain a quick estimate using closed-form approximations from [arXiv:1706.06311](https://arxiv.org/abs/1706.06311), e.g. for two example values of the boson mass (i.e. two values of $\\alpha$):"
   ]
  },
  {
   "cell_type": "code",
   "execution_count": 3,
   "metadata": {
    "collapsed": false,
    "deletable": true,
    "editable": true,
    "jupyter": {
     "outputs_hidden": false
    }
   },
   "outputs": [
    {
     "name": "stdout",
     "output_type": "stream",
     "text": [
      "Instability timescale\n",
      "---------------------\n",
      "alpha = 0.100 :\t231.4 days\n",
      "alpha = 0.176 :\t1.4 days\n"
     ]
    }
   ],
   "source": [
    "print('Instability timescale\\n---------------------')\n",
    "for a in [0.1, 0.176]:\n",
    "    print('alpha = %.3f :\\t%.1f days' % (a, gwaxion.tinst_approx(mbh, a, chi) / DAYSID_SI))"
   ]
  },
  {
   "cell_type": "markdown",
   "metadata": {
    "deletable": true,
    "editable": true
   },
   "source": [
    "Let's compare this analytic approximation to numerical results, in which we evolve the cloud using differential equations as in [arXiv:1411.0686](http://stacks.iop.org/0264-9381/32/i=13/a=134001?key=crossref.8a4e2e36ca36fb28e1d0a6868573e646).\n",
    "\n",
    "Note that `gwaxion` provides both `amplitude_growth_time` and `number_growth_time`, which respectively refer to the field amplitude and occupation number, and differ by a factor of two."
   ]
  },
  {
   "cell_type": "code",
   "execution_count": 4,
   "metadata": {
    "collapsed": false,
    "deletable": true,
    "editable": true,
    "jupyter": {
     "outputs_hidden": false
    }
   },
   "outputs": [
    {
     "name": "stderr",
     "output_type": "stream",
     "text": [
      "/Users/maxisi/opt/miniconda3/envs/gwaxion/lib/python3.7/site-packages/gwaxion/physics.py:411: RuntimeWarning: divide by zero encountered in double_scalars\n",
      "  self.reduced_compton_wavelength = HBAR_SI / (mass*C_SI)\n",
      "/Users/maxisi/opt/miniconda3/envs/gwaxion/lib/python3.7/site-packages/gwaxion/physics.py:1113: RuntimeWarning: divide by zero encountered in double_scalars\n",
      "  self.nr)\n"
     ]
    }
   ],
   "source": [
    "# create an array of alphas\n",
    "alphas = np.linspace(0, 0.2, 100)\n",
    "\n",
    "# for each of those values, compute the instability timescale numerically\n",
    "tinsts_amp = []\n",
    "tinsts_num = []\n",
    "for a in alphas:\n",
    "    bhb = gwaxion.BlackHoleBoson.from_parameters(m_bh=mbh, chi_bh=chi, alpha=a)\n",
    "    c = bhb.cloud(1, 1, 0)\n",
    "    tinsts_amp.append(c.amplitude_growth_time)\n",
    "    tinsts_num.append(c.number_growth_time)\n",
    "#     tgws.append(c.get_life_time())"
   ]
  },
  {
   "cell_type": "code",
   "execution_count": 6,
   "metadata": {
    "collapsed": false,
    "deletable": true,
    "editable": true,
    "jupyter": {
     "outputs_hidden": false
    }
   },
   "outputs": [
    {
     "name": "stderr",
     "output_type": "stream",
     "text": [
      "/Users/maxisi/opt/miniconda3/envs/gwaxion/lib/python3.7/site-packages/gwaxion/physics.py:192: RuntimeWarning: divide by zero encountered in true_divide\n",
      "  t =  27. * DAYSID_SI * (m/(10*MSUN_SI)) * (0.1/alpha)**9 / chi\n"
     ]
    },
    {
     "data": {
      "image/png": "[encoded data removed]",
      "text/plain": [
       "<Figure size 432x288 with 1 Axes>"
      ]
     },
     "metadata": {
      "needs_background": "light"
     },
     "output_type": "display_data"
    }
   ],
   "source": [
    "tinsts_ana = gwaxion.tinst_approx(mbh, alphas, chi)\n",
    "\n",
    "plot(alphas, tinsts_ana, label='Closed-form approximation', lw=3, c='gray', alpha=0.5)\n",
    "plot(alphas, tinsts_amp, label='Field amplitude', lw=2, ls='--')\n",
    "plot(alphas, tinsts_num, label='Occupation number', lw=2, ls='--')\n",
    "\n",
    "xlim(0, 0.2);\n",
    "yscale('log');\n",
    "ylabel(r'$\\tau$ (s)');\n",
    "xlabel(r'$\\alpha$');\n",
    "\n",
    "legend(loc='best');"
   ]
  },
  {
   "cell_type": "markdown",
   "metadata": {},
   "source": [
    "The closed-form expression underestimates the instability time, especially for higher values of $\\alpha$."
   ]
  },
  {
   "cell_type": "markdown",
   "metadata": {
    "editable": true
   },
   "source": [
    "## Dissipation"
   ]
  },
  {
   "cell_type": "markdown",
   "metadata": {},
   "source": [
    "Let's now look at the $e$-folding time of the cloud dissipation through gravitational-wave emission. As above, we can obtain a quick estimate using closed-form approximations from [arXiv:1706.06311](https://arxiv.org/abs/1706.06311), e.g. for two example values of the boson mass (i.e. two values of $\\alpha$):"
   ]
  },
  {
   "cell_type": "code",
   "execution_count": 7,
   "metadata": {
    "collapsed": false,
    "editable": true,
    "jupyter": {
     "outputs_hidden": false
    }
   },
   "outputs": [
    {
     "name": "stdout",
     "output_type": "stream",
     "text": [
      "Dissipation timescale\n",
      "---------------------\n",
      "alpha = 0.100 :\t557142.9 years\n",
      "alpha = 0.176 :\t115.7 years\n"
     ]
    }
   ],
   "source": [
    "print('Dissipation timescale\\n---------------------')\n",
    "for a in [0.1, 0.176]:\n",
    "    print('alpha = %.3f :\\t%.1f years' % (a, gwaxion.tgw_approx(mbh, a, chi) / YRSID_SI))"
   ]
  },
  {
   "cell_type": "markdown",
   "metadata": {
    "editable": true
   },
   "source": [
    "Let's compare this analytic approximation to numerical results, based on the estimates for the GW power from [arXiv:1706.06311](https://arxiv.org/abs/1706.06311). This can be obtained from a `BosonCloud` object through the `get_life_time()` method."
   ]
  },
  {
   "cell_type": "code",
   "execution_count": 8,
   "metadata": {
    "collapsed": false,
    "editable": true,
    "jupyter": {
     "outputs_hidden": false
    }
   },
   "outputs": [
    {
     "name": "stderr",
     "output_type": "stream",
     "text": [
      "/Users/maxisi/opt/miniconda3/envs/gwaxion/lib/python3.7/site-packages/gwaxion/physics.py:411: RuntimeWarning: divide by zero encountered in double_scalars\n",
      "  self.reduced_compton_wavelength = HBAR_SI / (mass*C_SI)\n",
      "/Users/maxisi/opt/miniconda3/envs/gwaxion/lib/python3.7/site-packages/gwaxion/physics.py:1029: RuntimeWarning: divide by zero encountered in double_scalars\n",
      "  epsilon = 1./bhb_0.boson.omega\n",
      "/Users/maxisi/opt/miniconda3/envs/gwaxion/lib/python3.7/site-packages/gwaxion/physics.py:1113: RuntimeWarning: divide by zero encountered in double_scalars\n",
      "  self.nr)\n",
      "/Users/maxisi/opt/miniconda3/envs/gwaxion/lib/python3.7/site-packages/gwaxion/physics.py:1039: RuntimeWarning: invalid value encountered in double_scalars\n",
      "  wR_0 = bhb_0.level_omega_re(n) * epsilon\n",
      "/Users/maxisi/opt/miniconda3/envs/gwaxion/lib/python3.7/site-packages/gwaxion/physics.py:1040: RuntimeWarning: invalid value encountered in double_scalars\n",
      "  wI_0 = bhb_0.level_omega_im(l, m, nr) * epsilon\n",
      "/Users/maxisi/opt/miniconda3/envs/gwaxion/lib/python3.7/site-packages/gwaxion/physics.py:1042: RuntimeWarning: invalid value encountered in double_scalars\n",
      "  dimless_m_accretion_rate = m_accretion_rate * C_SI**2 / gamma\n",
      "/Users/maxisi/opt/miniconda3/envs/gwaxion/lib/python3.7/site-packages/gwaxion/physics.py:1043: RuntimeWarning: invalid value encountered in double_scalars\n",
      "  dimless_j_accretion_rate = j_accretion_rate * epsilon / beta\n"
     ]
    }
   ],
   "source": [
    "# create an array of alphas\n",
    "alphas = np.linspace(0, 0.2, 100)\n",
    "\n",
    "# for each of those values, compute the instability timescale numerically\n",
    "tgws = []\n",
    "for a in alphas:\n",
    "    bhb = gwaxion.BlackHoleBoson.from_parameters(m_bh=mbh, chi_bh=chi, alpha=a)\n",
    "    c = bhb.cloud(1, 1, 0)\n",
    "    tgws.append(c.get_life_time())"
   ]
  },
  {
   "cell_type": "code",
   "execution_count": 9,
   "metadata": {
    "collapsed": false,
    "editable": true,
    "jupyter": {
     "outputs_hidden": false
    }
   },
   "outputs": [
    {
     "name": "stderr",
     "output_type": "stream",
     "text": [
      "/Users/maxisi/opt/miniconda3/envs/gwaxion/lib/python3.7/site-packages/gwaxion/physics.py:198: RuntimeWarning: divide by zero encountered in true_divide\n",
      "  t = (6.5E4) * YRSID_SI * (m/(10*MSUN_SI)) * (0.1/alpha)**15 / chi\n"
     ]
    },
    {
     "data": {
      "image/png": "[encoded data removed]",
      "text/plain": [
       "<Figure size 432x288 with 1 Axes>"
      ]
     },
     "metadata": {
      "needs_background": "light"
     },
     "output_type": "display_data"
    }
   ],
   "source": [
    "tgws_ana = gwaxion.tgw_approx(mbh, alphas, chi)\n",
    "\n",
    "plot(alphas, tgws_ana, label='Closed-form approximation', lw=3, c='gray', alpha=0.5)\n",
    "plot(alphas, tgws, label='Numerical result', lw=2, ls='--')\n",
    "\n",
    "xlim(0, 0.2);\n",
    "yscale('log');\n",
    "ylabel(r'$\\tau$ (s)');\n",
    "xlabel(r'$\\alpha$');\n",
    "\n",
    "legend(loc='best');"
   ]
  },
  {
   "cell_type": "code",
   "execution_count": null,
   "metadata": {},
   "outputs": [],
   "source": []
  }
 ],
 "metadata": {
  "kernelspec": {
   "display_name": "Python 3",
   "language": "python",
   "name": "python3"
  },
  "language_info": {
   "codemirror_mode": {
    "name": "ipython",
    "version": 3
   },
   "file_extension": ".py",
   "mimetype": "text/x-python",
   "name": "python",
   "nbconvert_exporter": "python",
   "pygments_lexer": "ipython3",
   "version": "3.7.9"
  },
  "toc": {
   "base_numbering": 1,
   "nav_menu": {},
   "number_sections": true,
   "sideBar": true,
   "skip_h1_title": false,
   "title_cell": "Table of Contents",
   "title_sidebar": "Contents",
   "toc_cell": false,
   "toc_position": {},
   "toc_section_display": true,
   "toc_window_display": false
  }
 },
 "nbformat": 4,
 "nbformat_minor": 4
}
