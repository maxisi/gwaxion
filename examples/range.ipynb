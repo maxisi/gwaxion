{
 "cells": [
  {
   "cell_type": "code",
   "execution_count": 2,
   "metadata": {
    "collapsed": false,
    "deletable": true,
    "editable": true
   },
   "outputs": [
    {
     "name": "stderr",
     "output_type": "stream",
     "text": [
      "/home/misi/.local/lib/python2.7/site-packages/pandas/__init__.py:25: RuntimeWarning: numpy.dtype size changed, may indicate binary incompatibility. Expected 96, got 88\n",
      "  from pandas import hashtable, tslib, lib\n",
      "/home/misi/.local/lib/python2.7/site-packages/pandas/__init__.py:25: RuntimeWarning: numpy.ufunc size changed, may indicate binary incompatibility. Expected 192, got 176\n",
      "  from pandas import hashtable, tslib, lib\n",
      "/home/misi/.local/lib/python2.7/site-packages/pandas/core/common.py:13: RuntimeWarning: numpy.dtype size changed, may indicate binary incompatibility. Expected 96, got 88\n",
      "  import pandas.algos as algos\n",
      "/home/misi/.local/lib/python2.7/site-packages/pandas/core/common.py:13: RuntimeWarning: numpy.ufunc size changed, may indicate binary incompatibility. Expected 192, got 176\n",
      "  import pandas.algos as algos\n",
      "/home/misi/.local/lib/python2.7/site-packages/pandas/indexes/base.py:9: RuntimeWarning: numpy.dtype size changed, may indicate binary incompatibility. Expected 96, got 88\n",
      "  import pandas.index as _index\n",
      "/home/misi/.local/lib/python2.7/site-packages/pandas/indexes/base.py:9: RuntimeWarning: numpy.ufunc size changed, may indicate binary incompatibility. Expected 192, got 176\n",
      "  import pandas.index as _index\n",
      "/home/misi/.local/lib/python2.7/site-packages/pandas/tseries/index.py:36: RuntimeWarning: numpy.dtype size changed, may indicate binary incompatibility. Expected 96, got 88\n",
      "  import pandas._period as period\n",
      "/home/misi/.local/lib/python2.7/site-packages/pandas/tseries/index.py:36: RuntimeWarning: numpy.ufunc size changed, may indicate binary incompatibility. Expected 192, got 176\n",
      "  import pandas._period as period\n",
      "/home/misi/.local/lib/python2.7/site-packages/pandas/sparse/array.py:18: RuntimeWarning: numpy.dtype size changed, may indicate binary incompatibility. Expected 96, got 88\n",
      "  from pandas._sparse import SparseIndex, BlockIndex, IntIndex\n",
      "/home/misi/.local/lib/python2.7/site-packages/pandas/sparse/array.py:18: RuntimeWarning: numpy.ufunc size changed, may indicate binary incompatibility. Expected 192, got 176\n",
      "  from pandas._sparse import SparseIndex, BlockIndex, IntIndex\n",
      "/home/misi/.local/lib/python2.7/site-packages/pandas/io/parsers.py:30: RuntimeWarning: numpy.dtype size changed, may indicate binary incompatibility. Expected 96, got 88\n",
      "  import pandas.parser as _parser\n",
      "/home/misi/.local/lib/python2.7/site-packages/pandas/io/parsers.py:30: RuntimeWarning: numpy.ufunc size changed, may indicate binary incompatibility. Expected 192, got 176\n",
      "  import pandas.parser as _parser\n",
      "/home/misi/.local/lib/python2.7/site-packages/scipy/linalg/basic.py:17: RuntimeWarning: numpy.dtype size changed, may indicate binary incompatibility. Expected 96, got 88\n",
      "  from ._solve_toeplitz import levinson\n",
      "/home/misi/.local/lib/python2.7/site-packages/scipy/linalg/__init__.py:207: RuntimeWarning: numpy.dtype size changed, may indicate binary incompatibility. Expected 96, got 88\n",
      "  from ._decomp_update import *\n",
      "/home/misi/.local/lib/python2.7/site-packages/scipy/special/__init__.py:640: RuntimeWarning: numpy.dtype size changed, may indicate binary incompatibility. Expected 96, got 88\n",
      "  from ._ufuncs import *\n",
      "/home/misi/.local/lib/python2.7/site-packages/scipy/special/_ellip_harm.py:7: RuntimeWarning: numpy.dtype size changed, may indicate binary incompatibility. Expected 96, got 88\n",
      "  from ._ellip_harm_2 import _ellipsoid, _ellipsoid_norm\n",
      "/home/misi/.local/lib/python2.7/site-packages/scipy/interpolate/_bsplines.py:10: RuntimeWarning: numpy.dtype size changed, may indicate binary incompatibility. Expected 96, got 88\n",
      "  from . import _bspl\n",
      "/home/misi/.local/lib/python2.7/site-packages/scipy/sparse/lil.py:19: RuntimeWarning: numpy.dtype size changed, may indicate binary incompatibility. Expected 96, got 88\n",
      "  from . import _csparsetools\n",
      "/home/misi/.local/lib/python2.7/site-packages/scipy/sparse/csgraph/__init__.py:165: RuntimeWarning: numpy.dtype size changed, may indicate binary incompatibility. Expected 96, got 88\n",
      "  from ._shortest_path import shortest_path, floyd_warshall, dijkstra,\\\n",
      "/home/misi/.local/lib/python2.7/site-packages/scipy/sparse/csgraph/_validation.py:5: RuntimeWarning: numpy.dtype size changed, may indicate binary incompatibility. Expected 96, got 88\n",
      "  from ._tools import csgraph_to_dense, csgraph_from_dense,\\\n",
      "/home/misi/.local/lib/python2.7/site-packages/scipy/sparse/csgraph/__init__.py:167: RuntimeWarning: numpy.dtype size changed, may indicate binary incompatibility. Expected 96, got 88\n",
      "  from ._traversal import breadth_first_order, depth_first_order, \\\n",
      "/home/misi/.local/lib/python2.7/site-packages/scipy/sparse/csgraph/__init__.py:169: RuntimeWarning: numpy.dtype size changed, may indicate binary incompatibility. Expected 96, got 88\n",
      "  from ._min_spanning_tree import minimum_spanning_tree\n",
      "/home/misi/.local/lib/python2.7/site-packages/scipy/sparse/csgraph/__init__.py:170: RuntimeWarning: numpy.dtype size changed, may indicate binary incompatibility. Expected 96, got 88\n",
      "  from ._reordering import reverse_cuthill_mckee, maximum_bipartite_matching, \\\n",
      "/home/misi/.local/lib/python2.7/site-packages/scipy/spatial/__init__.py:95: RuntimeWarning: numpy.dtype size changed, may indicate binary incompatibility. Expected 96, got 88\n",
      "  from .ckdtree import *\n",
      "/home/misi/.local/lib/python2.7/site-packages/scipy/spatial/__init__.py:96: RuntimeWarning: numpy.dtype size changed, may indicate binary incompatibility. Expected 96, got 88\n",
      "  from .qhull import *\n",
      "/home/misi/.local/lib/python2.7/site-packages/scipy/spatial/_spherical_voronoi.py:18: RuntimeWarning: numpy.dtype size changed, may indicate binary incompatibility. Expected 96, got 88\n",
      "  from . import _voronoi\n",
      "/home/misi/.local/lib/python2.7/site-packages/scipy/spatial/distance.py:122: RuntimeWarning: numpy.dtype size changed, may indicate binary incompatibility. Expected 96, got 88\n",
      "  from . import _hausdorff\n",
      "/home/misi/.local/lib/python2.7/site-packages/scipy/optimize/_trlib/__init__.py:1: RuntimeWarning: numpy.dtype size changed, may indicate binary incompatibility. Expected 96, got 88\n",
      "  from ._trlib import TRLIBQuadraticSubproblem\n",
      "/home/misi/.local/lib/python2.7/site-packages/scipy/optimize/_numdiff.py:10: RuntimeWarning: numpy.dtype size changed, may indicate binary incompatibility. Expected 96, got 88\n",
      "  from ._group_columns import group_dense, group_sparse\n",
      "/home/misi/.local/lib/python2.7/site-packages/h5py/__init__.py:36: RuntimeWarning: numpy.dtype size changed, may indicate binary incompatibility. Expected 96, got 88\n",
      "  from ._conv import register_converters as _register_converters\n",
      "/home/misi/.local/lib/python2.7/site-packages/h5py/__init__.py:45: RuntimeWarning: numpy.dtype size changed, may indicate binary incompatibility. Expected 96, got 88\n",
      "  from . import h5a, h5d, h5ds, h5f, h5fd, h5g, h5r, h5s, h5t, h5p, h5z\n",
      "/home/misi/.local/lib/python2.7/site-packages/h5py/_hl/group.py:22: RuntimeWarning: numpy.dtype size changed, may indicate binary incompatibility. Expected 96, got 88\n",
      "  from .. import h5g, h5i, h5o, h5r, h5t, h5l, h5p\n",
      "/home/misi/.local/lib/python2.7/site-packages/scipy/io/matlab/mio4.py:18: RuntimeWarning: numpy.dtype size changed, may indicate binary incompatibility. Expected 96, got 88\n",
      "  from .mio_utils import squeeze_element, chars_to_strings\n",
      "/home/misi/.local/lib/python2.7/site-packages/scipy/io/matlab/mio5.py:98: RuntimeWarning: numpy.dtype size changed, may indicate binary incompatibility. Expected 96, got 88\n",
      "  from .mio5_utils import VarReader5\n",
      "/home/misi/.local/lib/python2.7/site-packages/scipy/signal/__init__.py:313: RuntimeWarning: numpy.dtype size changed, may indicate binary incompatibility. Expected 96, got 80\n",
      "  from ._max_len_seq import max_len_seq\n",
      "/home/misi/.local/lib/python2.7/site-packages/scipy/signal/__init__.py:313: RuntimeWarning: numpy.ufunc size changed, may indicate binary incompatibility. Expected 192, got 144\n",
      "  from ._max_len_seq import max_len_seq\n",
      "/home/misi/.local/lib/python2.7/site-packages/scipy/signal/_upfirdn.py:36: RuntimeWarning: numpy.dtype size changed, may indicate binary incompatibility. Expected 96, got 88\n",
      "  from ._upfirdn_apply import _output_len, _apply\n",
      "/home/misi/.local/lib/python2.7/site-packages/scipy/ndimage/measurements.py:36: RuntimeWarning: numpy.dtype size changed, may indicate binary incompatibility. Expected 96, got 88\n",
      "  from . import _ni_label\n",
      "/home/misi/.local/lib/python2.7/site-packages/scipy/signal/spectral.py:10: RuntimeWarning: numpy.dtype size changed, may indicate binary incompatibility. Expected 96, got 88\n",
      "  from ._spectral import _lombscargle\n",
      "/home/misi/.local/lib/python2.7/site-packages/scipy/stats/_continuous_distns.py:18: RuntimeWarning: numpy.dtype size changed, may indicate binary incompatibility. Expected 96, got 88\n",
      "  from . import _stats\n",
      "/home/misi/.local/lib/python2.7/site-packages/scipy/signal/_peak_finding.py:13: RuntimeWarning: numpy.dtype size changed, may indicate binary incompatibility. Expected 96, got 88\n",
      "  from ._peak_finding_utils import (_argmaxima1d, _select_by_peak_distance,\n"
     ]
    }
   ],
   "source": [
    "import os\n",
    "import numpy as np\n",
    "import matplotlib\n",
    "from matplotlib import pyplot as plt\n",
    "import pandas as pd\n",
    "from matplotlib import ticker\n",
    "from scipy.interpolate import interp1d\n",
    "\n",
    "from gwaxion import physics\n",
    "from gwaxion.horizon import find_horizon_range\n",
    "\n",
    "mplparams = {\n",
    "    'text.usetex': True,  # use LaTeX for all text\n",
    "    'axes.linewidth': 1,  # set axes linewidths to 0.5\n",
    "    'axes.grid': False,  # add a grid\n",
    "    'axes.labelweight': 'normal',\n",
    "    'font.family': 'serif',\n",
    "    'font.size': 24,\n",
    "    'font.serif': 'Computer Modern Roman'\n",
    "}\n",
    "matplotlib.rcParams.update(mplparams)"
   ]
  },
  {
   "cell_type": "code",
   "execution_count": 3,
   "metadata": {
    "collapsed": false
   },
   "outputs": [],
   "source": [
    "from matplotlib import cm"
   ]
  },
  {
   "cell_type": "markdown",
   "metadata": {},
   "source": [
    "## Colormap"
   ]
  },
  {
   "cell_type": "code",
   "execution_count": 4,
   "metadata": {
    "collapsed": false
   },
   "outputs": [
    {
     "name": "stderr",
     "output_type": "stream",
     "text": [
      "/home/misi/.local/lib/python2.7/site-packages/tables/__init__.py:93: RuntimeWarning: numpy.dtype size changed, may indicate binary incompatibility. Expected 96, got 88\n",
      "  from .utilsextension import (\n",
      "/home/misi/.local/lib/python2.7/site-packages/tables/file.py:35: RuntimeWarning: numpy.dtype size changed, may indicate binary incompatibility. Expected 96, got 88\n",
      "  from . import hdf5extension\n",
      "/home/misi/.local/lib/python2.7/site-packages/tables/link.py:33: RuntimeWarning: numpy.dtype size changed, may indicate binary incompatibility. Expected 96, got 88\n",
      "  from . import linkextension\n",
      "/home/misi/.local/lib/python2.7/site-packages/tables/table.py:28: RuntimeWarning: numpy.dtype size changed, may indicate binary incompatibility. Expected 96, got 88\n",
      "  from . import tableextension\n",
      "/home/misi/.local/lib/python2.7/site-packages/tables/index.py:33: RuntimeWarning: numpy.dtype size changed, may indicate binary incompatibility. Expected 96, got 88\n",
      "  from . import indexesextension\n"
     ]
    }
   ],
   "source": [
    "# create an array of BH masses\n",
    "\n",
    "n_mass = 5000\n",
    "n_chi = 1000\n",
    "n_alpha = 2000\n",
    "\n",
    "distance = 5E6 * physics.PC_SI\n",
    "\n",
    "mbhs_array = np.linspace(1, 1E4, n_mass)\n",
    "chis_array = np.linspace(1E-4, 1, n_chi)\n",
    "\n",
    "alphas = np.linspace(0, 0.5, n_alpha)\n",
    "\n",
    "df_list = []\n",
    "\n",
    "\n",
    "dfpath = 'peak.hdf5'\n",
    "if os.path.exists(dfpath):\n",
    "    df_max = pd.read_hdf(dfpath, 'table', mode='r')\n",
    "else:\n",
    "    rows = []\n",
    "    for mbh in mbhs_array:\n",
    "        for chi in chis_array:\n",
    "            h0s, fgws = physics.h0_scalar_brito(mbh, alphas, chi_i=chi, d=distance)\n",
    "            hmax = np.nanmax(h0s)\n",
    "            fmax = fgws[h0s==hmax][0]\n",
    "            amax = alphas[h0s==hmax][0]\n",
    "            rows.append({'mbh': mbh, 'chi': chi, 'h0': hmax, 'fgw': fmax, 'alpha': amax})\n",
    "    df_max = pd.DataFrame(rows)\n",
    "    df_max.to_hdf('peak.hdf5', 'table', mode='w')"
   ]
  },
  {
   "cell_type": "code",
   "execution_count": 5,
   "metadata": {
    "collapsed": false
   },
   "outputs": [
    {
     "name": "stdout",
     "output_type": "stream",
     "text": [
      "     alpha       chi        fgw            h0  mbh\n",
      "0  0.00025  0.000100  16.164330 -2.084442e-49  1.0\n",
      "1  0.00025  0.001101  16.164334  2.324040e-50  1.0\n",
      "2  0.00050  0.002102  32.328668  2.983916e-48  1.0\n",
      "3  0.00075  0.003103  48.493001  5.114043e-47  1.0\n",
      "4  0.00075  0.004104  48.493038  5.568913e-46  1.0\n",
      "            alpha       chi       fgw            h0      mbh\n",
      "4999995  0.325163  0.995996  2.133077  2.110833e-22  10000.0\n",
      "4999996  0.325913  0.996997  2.138113  2.135254e-22  10000.0\n",
      "4999997  0.326913  0.997998  2.144597  2.159968e-22  10000.0\n",
      "4999998  0.327914  0.998999  2.151085  2.184978e-22  10000.0\n",
      "4999999  0.328664  1.000000  2.156135  2.210290e-22  10000.0\n"
     ]
    }
   ],
   "source": [
    "print df_max.head()\n",
    "print df_max.tail()"
   ]
  },
  {
   "cell_type": "code",
   "execution_count": 6,
   "metadata": {
    "collapsed": false
   },
   "outputs": [
    {
     "name": "stdout",
     "output_type": "stream",
     "text": [
      "-2.082565311167164e-46\n",
      "2.2083002202496464e-23\n"
     ]
    }
   ],
   "source": [
    "h0_bound = df_max[(df_max['mbh']>10) & (df_max['mbh']<1E3)]['h0']\n",
    "print h0_bound.min()\n",
    "print h0_bound.max()"
   ]
  },
  {
   "cell_type": "code",
   "execution_count": 7,
   "metadata": {
    "collapsed": false
   },
   "outputs": [],
   "source": [
    "# # colormap for peak h0 vs chi vs M\n",
    "\n",
    "# h0s = df_max['h0']\n",
    "# hmax_ma = np.ma.masked_array(h0s, mask=(h0s<=0)|(np.isnan(h0s)))\n",
    "\n",
    "# hmin, hmax = 1E-30, hmax_ma.max()\n",
    "# norm = matplotlib.colors.LogNorm(vmin=hmin, vmax=hmax)\n",
    "\n",
    "# fig, ax = plt.subplots(1, figsize=(11,8))\n",
    "\n",
    "# # plot contours\n",
    "# cm = ax.hexbin(df_max['mbh'], df_max['chi'], C=hmax_ma, cmap='magma', norm=norm,  xscale='log')\n",
    "\n",
    "# # plot vertical line at 60 Msun\n",
    "# ax.axvline(60, c='w', ls=':', lw=2)\n",
    "# ax.axhline(0.7, c='w', ls=':', lw=2)\n",
    "\n",
    "# # add colorbar\n",
    "# #b_ticks = np.logspace(hmin, hmax, 7) # np.ceil(np.log10(h0s_ma[~np.isnan(h0s_ma)].max())), 7)\n",
    "# cb = plt.colorbar(cm, norm=norm, label=r'Peak $h_0$ (5 Mpc)')#, ticks=cb_ticks)\n",
    "# cb.ax.tick_params(labelsize=18) \n",
    "\n",
    "# plt.ylabel(r'$\\chi$')\n",
    "# plt.xlabel(r'$M$ $(M_\\odot)$')\n",
    "# ax.patch.set_facecolor(\"grey\")\n",
    "\n",
    "# plt.xlim(30, 1E4)\n",
    "# plt.ylim(0, 1)\n",
    "\n",
    "# ax.tick_params(axis='both', color='0.4', which='both', width=2)\n",
    "# ax.tick_params(axis='both', length=10)\n",
    "\n",
    "# cm.set_rasterized(True)\n",
    "\n",
    "# fig.savefig('cmap_chi_mbh_h0max.pdf', bbox_inches='tight', dpi=400)\n",
    "\n",
    "# plt.show()\n",
    "# plt.close()\n"
   ]
  },
  {
   "cell_type": "code",
   "execution_count": 8,
   "metadata": {
    "collapsed": false
   },
   "outputs": [],
   "source": [
    "# # colormap for peak fgw vs chi vs M\n",
    "\n",
    "# fs = df_max['fgw']\n",
    "# fmax_ma = np.ma.masked_array(fs, mask=(fs<=0)|(np.isnan(fs)))\n",
    "\n",
    "# fmin, fmax = fmax_ma.min(), fmax_ma.max()\n",
    "# norm = matplotlib.colors.LogNorm(vmin=fmin, vmax=fmax)\n",
    "\n",
    "# fig, ax = plt.subplots(1, figsize=(11,8))\n",
    "\n",
    "# # plot contours\n",
    "# cm = ax.hexbin(df_max['mbh'], df_max['chi'], C=fmax_ma, cmap='magma', norm=norm,  xscale='log')\n",
    "\n",
    "# # plot vertical line at 60 Msun\n",
    "# ax.axvline(60, c='w', ls=':', lw=2)\n",
    "# ax.axhline(0.7, c='w', ls=':', lw=2)\n",
    "\n",
    "# # add colorbar\n",
    "# #b_ticks = np.logspace(hmin, hmax, 7) # np.ceil(np.log10(h0s_ma[~np.isnan(h0s_ma)].max())), 7)\n",
    "# cb = plt.colorbar(cm, norm=norm, label=r'Peak $f_{\\rm GW}$ (Hz)')#, ticks=cb_ticks)\n",
    "# cb.ax.tick_params(labelsize=18) \n",
    "\n",
    "# plt.ylabel(r'$\\chi$')\n",
    "# plt.xlabel(r'$M$ $(M_\\odot)$')\n",
    "# ax.patch.set_facecolor(\"grey\")\n",
    "\n",
    "# plt.xlim(30, 1E4)\n",
    "# plt.ylim(0, 1)\n",
    "\n",
    "# ax.tick_params(axis='both', color='0.4', which='both', width=2)\n",
    "# ax.tick_params(axis='both', length=10)\n",
    "\n",
    "# cm.set_rasterized(True)\n",
    "\n",
    "# fig.savefig('cmap_chi_mbh_fmax.pdf', bbox_inches='tight', dpi=400)\n",
    "\n",
    "# plt.show()\n",
    "# plt.close()"
   ]
  },
  {
   "cell_type": "markdown",
   "metadata": {},
   "source": [
    "## Range\n",
    "\n",
    "The range is the source distance for which the peak amplitude at Earth is equal to our \"minimum detectable\" one:\n",
    "\n",
    "$d_{\\rm max} = \\frac{h^{\\rm max}_0}{h^{95}_0} d_{\\rm ref} $ and $h^{95}_0(f) = h^{95}_{\\rm ref} \\sqrt{\\frac{S_{\\rm ref}}{S(f)}} \\sqrt{\\frac{T_{\\rm ref}}{T}}$"
   ]
  },
  {
   "cell_type": "code",
   "execution_count": 9,
   "metadata": {
    "collapsed": false
   },
   "outputs": [
    {
     "name": "stdout",
     "output_type": "stream",
     "text": [
      "Reference values:\n",
      "\tDistance: 5.0e+06 PC\n",
      "\tObservation time: 8.0e+01\n",
      "\th95: 4.7e-26\n",
      "\tASD: 4.0e-24\n"
     ]
    }
   ],
   "source": [
    "# From Lilli: 95% detection efficiency h0 is 4.7e-26 at 201.2 Hz and an ASD of 4E-24 Sqrt[Hz], for T=80 days\n",
    "\n",
    "h95ref = 4.7E-26\n",
    "f95ref = 201.2\n",
    "asd95ref = 4E-24\n",
    "\n",
    "from lal import DAYSID_SI\n",
    "Tref = 80*DAYSID_SI\n",
    "\n",
    "print \"Reference values:\"\n",
    "print \"\\tDistance: %.1e PC\" % (distance/physics.PC_SI)\n",
    "print \"\\tObservation time: %.1e\" % (Tref / DAYSID_SI)\n",
    "print \"\\th95: %.1e\" % h95ref\n",
    "print \"\\tASD: %.1e\" % asd95ref\n",
    "\n",
    "def horizon(h0, f, T=Tref, href=h95ref, asdref=asd95ref, Tref=Tref, psd=None, asd=None, dref=distance):\n",
    "    asd = asd if asd is not None else np.array([psd(freq)**0.5 for freq in np.array(f)])\n",
    "    h95 = href * (asdref/asd) * (Tref/T)**0.5\n",
    "    return h0 * dref / h95\n",
    "    "
   ]
  },
  {
   "cell_type": "markdown",
   "metadata": {},
   "source": [
    "### aLIGO design"
   ]
  },
  {
   "cell_type": "code",
   "execution_count": 10,
   "metadata": {
    "collapsed": false
   },
   "outputs": [
    {
     "name": "stderr",
     "output_type": "stream",
     "text": [
      "/home/misi/.local/lib/python2.7/site-packages/matplotlib/font_manager.py:1331: UserWarning: findfont: Font family [u'serif'] not found. Falling back to DejaVu Sans\n",
      "  (prop.get_family(), self.defaultFamily[fontext]))\n"
     ]
    },
    {
     "data": {
      "image/png": "[encoded data removed]",
      "text/plain": [
       "<Figure size 432x288 with 1 Axes>"
      ]
     },
     "metadata": {},
     "output_type": "display_data"
    }
   ],
   "source": [
    "from lalsimulation import SimNoisePSDaLIGOZeroDetHighPower\n",
    "\n",
    "flow = 1\n",
    "fhig = 1E5\n",
    "freqs = np.linspace(flow, fhig, 5000)\n",
    "\n",
    "psd = np.array([SimNoisePSDaLIGOZeroDetHighPower(f) for f in freqs])\n",
    "asd = psd**0.5\n",
    "\n",
    "psd_interp = interp1d(freqs, psd)\n",
    "\n",
    "fig, ax = plt.subplots(1)\n",
    "ax.plot(freqs, asd)\n",
    "ax.set_xscale('log')\n",
    "ax.set_yscale('log')\n",
    "ax.set_xlim(flow, fhig)\n",
    "ax.set_xlabel(r'$f$ (Hz)')\n",
    "ax.set_ylabel(r'ASD')\n",
    "plt.show(fig)"
   ]
  },
  {
   "cell_type": "code",
   "execution_count": 11,
   "metadata": {
    "collapsed": false
   },
   "outputs": [],
   "source": [
    "# dfm = df_max[(df_max['h0']>0) & (~np.isnan(df_max['h0']) & (df_max['fgw']>0))].copy()\n",
    "\n",
    "# dfm['dmax_design'] = horizon(dfm['h0'], dfm['fgw'], psd=SimNoisePSDaLIGOZeroDetHighPower)\n",
    "\n",
    "# print dfm['dmax_design'].min()\n",
    "# print dfm['dmax_design'].max()"
   ]
  },
  {
   "cell_type": "code",
   "execution_count": 12,
   "metadata": {
    "collapsed": false
   },
   "outputs": [],
   "source": [
    "## get git root dir\n",
    "import subprocess\n",
    "cmd = 'git rev-parse --show-toplevel'\n",
    "call = subprocess.Popen(cmd.split(), stdout=subprocess.PIPE)\n",
    "gitdir, err = call.communicate()\n",
    "if err:\n",
    "    print err\n",
    "    raise Exception('An error occurred while looking for root git dir')\n",
    "\n",
    "# NOTE: could install the .dat files as package data, but seems like overkill\n",
    "infodir = gitdir.strip() + '/etc/distancetool_data/'\n",
    "\n",
    "#sampled universal antenna power pattern for code sped up\n",
    "w_sample, P_sample= np.genfromtxt(infodir+\"/Pw_single.dat\",unpack=True)\n",
    "P = interp1d(w_sample, P_sample, bounds_error=False, fill_value=0.0)\n"
   ]
  },
  {
   "cell_type": "code",
   "execution_count": 14,
   "metadata": {
    "collapsed": false
   },
   "outputs": [
    {
     "ename": "KeyboardInterrupt",
     "evalue": "",
     "output_type": "error",
     "traceback": [
      "\u001b[0;31m---------------------------------------------------------------------------\u001b[0m",
      "\u001b[0;31mKeyboardInterrupt\u001b[0m                         Traceback (most recent call last)",
      "\u001b[0;32m<ipython-input-14-bba6599aea58>\u001b[0m in \u001b[0;36m<module>\u001b[0;34m()\u001b[0m\n\u001b[1;32m      5\u001b[0m \u001b[0mhorizons_mpc\u001b[0m \u001b[0;34m=\u001b[0m \u001b[0;34m[\u001b[0m\u001b[0;34m]\u001b[0m\u001b[0;34m\u001b[0m\u001b[0m\n\u001b[1;32m      6\u001b[0m \u001b[0;32mfor\u001b[0m \u001b[0mmbh\u001b[0m \u001b[0;32min\u001b[0m \u001b[0mmbhs_horizon\u001b[0m\u001b[0;34m:\u001b[0m\u001b[0;34m\u001b[0m\u001b[0m\n\u001b[0;32m----> 7\u001b[0;31m     \u001b[0mhorizons_mpc\u001b[0m\u001b[0;34m.\u001b[0m\u001b[0mappend\u001b[0m\u001b[0;34m(\u001b[0m\u001b[0mfind_horizon_range\u001b[0m\u001b[0;34m(\u001b[0m\u001b[0;36m0.5\u001b[0m\u001b[0;34m*\u001b[0m\u001b[0mmbh\u001b[0m\u001b[0;34m,\u001b[0m \u001b[0;36m0.5\u001b[0m\u001b[0;34m*\u001b[0m\u001b[0mmbh\u001b[0m\u001b[0;34m,\u001b[0m \u001b[0mP\u001b[0m\u001b[0;34m=\u001b[0m\u001b[0mP\u001b[0m\u001b[0;34m,\u001b[0m \u001b[0minterpolate_psd\u001b[0m\u001b[0;34m=\u001b[0m\u001b[0mpsd_interp\u001b[0m\u001b[0;34m,\u001b[0m \u001b[0mfmin\u001b[0m\u001b[0;34m=\u001b[0m\u001b[0;36m30\u001b[0m\u001b[0;34m,\u001b[0m \u001b[0mfmax\u001b[0m\u001b[0;34m=\u001b[0m\u001b[0mfhig\u001b[0m\u001b[0;34m)\u001b[0m\u001b[0;34m[\u001b[0m\u001b[0;36m0\u001b[0m\u001b[0;34m]\u001b[0m\u001b[0;34m)\u001b[0m\u001b[0;34m\u001b[0m\u001b[0m\n\u001b[0m",
      "\u001b[0;32m/home/misi/.local/lib/python2.7/site-packages/gwaxion/horizon.pyc\u001b[0m in \u001b[0;36mfind_horizon_range\u001b[0;34m(m1, m2, asdfile, interpolate_psd, asd, approx, P, fmin, fmax)\u001b[0m\n\u001b[1;32m    206\u001b[0m                                                   \u001b[0mcd\u001b[0m\u001b[0;34m.\u001b[0m\u001b[0mluminosity_distance\u001b[0m\u001b[0;34m(\u001b[0m\u001b[0mz\u001b[0m\u001b[0;34m[\u001b[0m\u001b[0mi\u001b[0m\u001b[0;34m]\u001b[0m\u001b[0;34m,\u001b[0m\u001b[0;34m**\u001b[0m\u001b[0mcosmo\u001b[0m\u001b[0;34m)\u001b[0m\u001b[0;34m,\u001b[0m\u001b[0;34m\u001b[0m\u001b[0m\n\u001b[1;32m    207\u001b[0m                                                   \u001b[0mfmin\u001b[0m\u001b[0;34m=\u001b[0m\u001b[0mfmin\u001b[0m\u001b[0;34m,\u001b[0m \u001b[0mfref\u001b[0m\u001b[0;34m=\u001b[0m\u001b[0mfref\u001b[0m\u001b[0;34m,\u001b[0m \u001b[0mdf\u001b[0m\u001b[0;34m=\u001b[0m\u001b[0mdf\u001b[0m\u001b[0;34m,\u001b[0m\u001b[0;34m\u001b[0m\u001b[0m\n\u001b[0;32m--> 208\u001b[0;31m                                                   approx=approx)\n\u001b[0m\u001b[1;32m    209\u001b[0m     \u001b[0mfsel\u001b[0m\u001b[0;34m=\u001b[0m\u001b[0mlogical_and\u001b[0m\u001b[0;34m(\u001b[0m\u001b[0mfreqs\u001b[0m\u001b[0;34m>\u001b[0m\u001b[0mminimum_freq\u001b[0m\u001b[0;34m,\u001b[0m\u001b[0mfreqs\u001b[0m\u001b[0;34m<\u001b[0m\u001b[0mmaximum_freq\u001b[0m\u001b[0;34m)\u001b[0m\u001b[0;34m\u001b[0m\u001b[0m\n\u001b[1;32m    210\u001b[0m     \u001b[0mpsd_interp\u001b[0m \u001b[0;34m=\u001b[0m \u001b[0minterpolate_psd\u001b[0m\u001b[0;34m(\u001b[0m\u001b[0mfreqs\u001b[0m\u001b[0;34m[\u001b[0m\u001b[0mfsel\u001b[0m\u001b[0;34m]\u001b[0m\u001b[0;34m)\u001b[0m\u001b[0;34m\u001b[0m\u001b[0m\n",
      "\u001b[0;32m/home/misi/.local/lib/python2.7/site-packages/gwaxion/horizon.pyc\u001b[0m in \u001b[0;36mget_htildes\u001b[0;34m(m1, m2, dist, phase, df, s1x, s1y, s1z, s2x, s2y, s2z, fmin, fmax, fref, iota, amp_order, phase_order, approx)\u001b[0m\n\u001b[1;32m     87\u001b[0m                                                  \u001b[0mamplitude_order\u001b[0m\u001b[0;34m=\u001b[0m\u001b[0mamp_order\u001b[0m\u001b[0;34m,\u001b[0m\u001b[0;34m\u001b[0m\u001b[0m\n\u001b[1;32m     88\u001b[0m                                                  \u001b[0mf_min\u001b[0m\u001b[0;34m=\u001b[0m\u001b[0mfmin\u001b[0m\u001b[0;34m,\u001b[0m \u001b[0mf_max\u001b[0m\u001b[0;34m=\u001b[0m\u001b[0mfmax\u001b[0m\u001b[0;34m,\u001b[0m\u001b[0;34m\u001b[0m\u001b[0m\n\u001b[0;32m---> 89\u001b[0;31m                                                  f_ref=fref)\n\u001b[0m\u001b[1;32m     90\u001b[0m \u001b[0;34m\u001b[0m\u001b[0m\n\u001b[1;32m     91\u001b[0m   \u001b[0;31m# hplus_tilde, hcross_tilde = ls.SimInspiralChooseFDWaveform(m1=m1*lal.MSUN_SI,\u001b[0m\u001b[0;34m\u001b[0m\u001b[0;34m\u001b[0m\u001b[0m\n",
      "\u001b[0;32m/home/misi/.local/lib/python2.7/site-packages/PyCBC-3b6f5b-py2.7-linux-x86_64.egg/pycbc/waveform/waveform.pyc\u001b[0m in \u001b[0;36mget_fd_waveform\u001b[0;34m(template, **kwargs)\u001b[0m\n\u001b[1;32m    499\u001b[0m         \u001b[0;32mpass\u001b[0m\u001b[0;34m\u001b[0m\u001b[0m\n\u001b[1;32m    500\u001b[0m \u001b[0;34m\u001b[0m\u001b[0m\n\u001b[0;32m--> 501\u001b[0;31m     \u001b[0;32mreturn\u001b[0m \u001b[0mwav_gen\u001b[0m\u001b[0;34m[\u001b[0m\u001b[0minput_params\u001b[0m\u001b[0;34m[\u001b[0m\u001b[0;34m'approximant'\u001b[0m\u001b[0;34m]\u001b[0m\u001b[0;34m]\u001b[0m\u001b[0;34m(\u001b[0m\u001b[0;34m**\u001b[0m\u001b[0minput_params\u001b[0m\u001b[0;34m)\u001b[0m\u001b[0;34m\u001b[0m\u001b[0m\n\u001b[0m\u001b[1;32m    502\u001b[0m \u001b[0;34m\u001b[0m\u001b[0m\n\u001b[1;32m    503\u001b[0m get_fd_waveform.__doc__ = get_fd_waveform.__doc__.format(\n",
      "\u001b[0;32m/home/misi/.local/lib/python2.7/site-packages/PyCBC-3b6f5b-py2.7-linux-x86_64.egg/pycbc/waveform/waveform.pyc\u001b[0m in \u001b[0;36m_lalsim_fd_waveform\u001b[0;34m(**p)\u001b[0m\n\u001b[1;32m    197\u001b[0m \u001b[0;34m\u001b[0m\u001b[0m\n\u001b[1;32m    198\u001b[0m \u001b[0;32mdef\u001b[0m \u001b[0m_lalsim_fd_waveform\u001b[0m\u001b[0;34m(\u001b[0m\u001b[0;34m**\u001b[0m\u001b[0mp\u001b[0m\u001b[0;34m)\u001b[0m\u001b[0;34m:\u001b[0m\u001b[0;34m\u001b[0m\u001b[0m\n\u001b[0;32m--> 199\u001b[0;31m     \u001b[0mlal_pars\u001b[0m \u001b[0;34m=\u001b[0m \u001b[0m_check_lal_pars\u001b[0m\u001b[0;34m(\u001b[0m\u001b[0mp\u001b[0m\u001b[0;34m)\u001b[0m\u001b[0;34m\u001b[0m\u001b[0m\n\u001b[0m\u001b[1;32m    200\u001b[0m     hp1, hc1 = lalsimulation.SimInspiralChooseFDWaveform(\n\u001b[1;32m    201\u001b[0m                \u001b[0mfloat\u001b[0m\u001b[0;34m(\u001b[0m\u001b[0mpnutils\u001b[0m\u001b[0;34m.\u001b[0m\u001b[0msolar_mass_to_kg\u001b[0m\u001b[0;34m(\u001b[0m\u001b[0mp\u001b[0m\u001b[0;34m[\u001b[0m\u001b[0;34m'mass1'\u001b[0m\u001b[0;34m]\u001b[0m\u001b[0;34m)\u001b[0m\u001b[0;34m)\u001b[0m\u001b[0;34m,\u001b[0m\u001b[0;34m\u001b[0m\u001b[0m\n",
      "\u001b[0;32m/home/misi/.local/lib/python2.7/site-packages/PyCBC-3b6f5b-py2.7-linux-x86_64.egg/pycbc/waveform/waveform.pyc\u001b[0m in \u001b[0;36m_check_lal_pars\u001b[0;34m(p)\u001b[0m\n\u001b[1;32m     90\u001b[0m         \u001b[0mlalsimulation\u001b[0m\u001b[0;34m.\u001b[0m\u001b[0mSimInspiralWaveformParamsInsertPNPhaseOrder\u001b[0m\u001b[0;34m(\u001b[0m\u001b[0mlal_pars\u001b[0m\u001b[0;34m,\u001b[0m\u001b[0mint\u001b[0m\u001b[0;34m(\u001b[0m\u001b[0mp\u001b[0m\u001b[0;34m[\u001b[0m\u001b[0;34m'phase_order'\u001b[0m\u001b[0;34m]\u001b[0m\u001b[0;34m)\u001b[0m\u001b[0;34m)\u001b[0m\u001b[0;34m\u001b[0m\u001b[0m\n\u001b[1;32m     91\u001b[0m     \u001b[0;32mif\u001b[0m \u001b[0mp\u001b[0m\u001b[0;34m[\u001b[0m\u001b[0;34m'amplitude_order'\u001b[0m\u001b[0;34m]\u001b[0m\u001b[0;34m!=\u001b[0m\u001b[0;34m-\u001b[0m\u001b[0;36m1\u001b[0m\u001b[0;34m:\u001b[0m\u001b[0;34m\u001b[0m\u001b[0m\n\u001b[0;32m---> 92\u001b[0;31m         \u001b[0mlalsimulation\u001b[0m\u001b[0;34m.\u001b[0m\u001b[0mSimInspiralWaveformParamsInsertPNAmplitudeOrder\u001b[0m\u001b[0;34m(\u001b[0m\u001b[0mlal_pars\u001b[0m\u001b[0;34m,\u001b[0m\u001b[0mint\u001b[0m\u001b[0;34m(\u001b[0m\u001b[0mp\u001b[0m\u001b[0;34m[\u001b[0m\u001b[0;34m'amplitude_order'\u001b[0m\u001b[0;34m]\u001b[0m\u001b[0;34m)\u001b[0m\u001b[0;34m)\u001b[0m\u001b[0;34m\u001b[0m\u001b[0m\n\u001b[0m\u001b[1;32m     93\u001b[0m     \u001b[0;32mif\u001b[0m \u001b[0mp\u001b[0m\u001b[0;34m[\u001b[0m\u001b[0;34m'spin_order'\u001b[0m\u001b[0;34m]\u001b[0m\u001b[0;34m!=\u001b[0m\u001b[0;34m-\u001b[0m\u001b[0;36m1\u001b[0m\u001b[0;34m:\u001b[0m\u001b[0;34m\u001b[0m\u001b[0m\n\u001b[1;32m     94\u001b[0m         \u001b[0mlalsimulation\u001b[0m\u001b[0;34m.\u001b[0m\u001b[0mSimInspiralWaveformParamsInsertPNSpinOrder\u001b[0m\u001b[0;34m(\u001b[0m\u001b[0mlal_pars\u001b[0m\u001b[0;34m,\u001b[0m\u001b[0mint\u001b[0m\u001b[0;34m(\u001b[0m\u001b[0mp\u001b[0m\u001b[0;34m[\u001b[0m\u001b[0;34m'spin_order'\u001b[0m\u001b[0;34m]\u001b[0m\u001b[0;34m)\u001b[0m\u001b[0;34m)\u001b[0m\u001b[0;34m\u001b[0m\u001b[0m\n",
      "\u001b[0;31mKeyboardInterrupt\u001b[0m: "
     ]
    }
   ],
   "source": [
    "# get horizon\n",
    "\n",
    "mbhs_horizon = np.logspace(np.log10(mbhs_array.min()), np.log10(mbhs_array.max()), 5)\n",
    "\n",
    "horizons_mpc = []\n",
    "for mbh in mbhs_horizon:\n",
    "    horizons_mpc.append(find_horizon_range(0.5*mbh, 0.5*mbh, P=P, interpolate_psd=psd_interp, fmin=30, fmax=fhig)[0])"
   ]
  },
  {
   "cell_type": "code",
   "execution_count": null,
   "metadata": {
    "collapsed": false
   },
   "outputs": [],
   "source": [
    "horizons_mpc"
   ]
  },
  {
   "cell_type": "code",
   "execution_count": null,
   "metadata": {
    "collapsed": false
   },
   "outputs": [],
   "source": [
    "# # colormap for peak h0 vs chi vs M\n",
    "\n",
    "# from matplotlib import ticker\n",
    "\n",
    "# #d = np.ma.masked_array(dfm['dmax_design'], dfm['dmax_design']<1E-3)\n",
    "# d = dfm['dmax_design'] / (1E6 * physics.PC_SI)\n",
    "# dmin, dmax = 1E-2, d.max()\n",
    "# norm = matplotlib.colors.LogNorm(vmin=dmin, vmax=dmax)\n",
    "\n",
    "# fig, ax = plt.subplots(1, figsize=(11,8))\n",
    "\n",
    "# # plot contours\n",
    "# cm = ax.hexbin(dfm['mbh'], dfm['chi'], C=d, cmap='magma', norm=norm,  xscale='log')\n",
    "\n",
    "# # plot vertical line at 60 Msun\n",
    "# ax.axvline(60, c='w', ls=':', lw=2)\n",
    "# ax.axhline(0.7, c='w', ls=':', lw=2)\n",
    "\n",
    "# # add colorbar\n",
    "# #b_ticks = np.logspace(hmin, hmax, 7) # np.ceil(np.log10(h0s_ma[~np.isnan(h0s_ma)].max())), 7)\n",
    "# cb = plt.colorbar(cm, norm=norm, label=r'aLIGO design range (Mpc)')#, ticks=cb_ticks)\n",
    "# cb.ax.tick_params(labelsize=18) \n",
    "\n",
    "# plt.ylabel(r'$\\chi$')\n",
    "# plt.xlabel(r'$M$ $(M_\\odot)$')\n",
    "# ax.patch.set_facecolor(\"grey\")\n",
    "\n",
    "# plt.xlim(30, 1E4)\n",
    "# plt.ylim(0, 1)\n",
    "\n",
    "# ax.tick_params(axis='both', color='0.4', which='both', width=2)\n",
    "# ax.tick_params(axis='both', length=10)\n",
    "\n",
    "# cm.set_rasterized(True)\n",
    "\n",
    "# fig.savefig('cmap_chi_mbh_range-design.pdf', bbox_inches='tight', dpi=400)\n",
    "\n",
    "# plt.show()\n",
    "# plt.close()"
   ]
  },
  {
   "cell_type": "code",
   "execution_count": null,
   "metadata": {
    "collapsed": false
   },
   "outputs": [],
   "source": []
  },
  {
   "cell_type": "markdown",
   "metadata": {},
   "source": [
    "### 3G detectors"
   ]
  },
  {
   "cell_type": "code",
   "execution_count": null,
   "metadata": {
    "collapsed": false
   },
   "outputs": [],
   "source": [
    "# load Voyager ASD\n",
    "vals = np.loadtxt('noise_curves_T1500293-v10/voyager.txt')\n",
    "freqs, asd_voy_array = vals[:,0], vals[:,1]\n",
    "\n",
    "# create interpolant\n",
    "asdv = interp1d(freqs, asd_voy_array)\n",
    "\n",
    "fmin, fmax = freqs.min(), freqs.max()\n",
    "\n",
    "asd = asdv(freqs)\n",
    "\n",
    "fig, ax = plt.subplots(1)\n",
    "ax.plot(freqs, asd)\n",
    "ax.set_xscale('log')\n",
    "ax.set_yscale('log')\n",
    "ax.set_xlim(fmin, fmax)\n",
    "ax.set_xlabel(r'$f$ (Hz)')\n",
    "ax.set_ylabel(r'ASD')\n",
    "plt.show(fig)\n",
    "\n",
    "print fmin, fmax"
   ]
  },
  {
   "cell_type": "code",
   "execution_count": null,
   "metadata": {
    "collapsed": false
   },
   "outputs": [],
   "source": [
    "# remove freqs outside interp range\n",
    "dfmv = dfm[(dfm['fgw']>fmin) & (dfm['fgw']<fmax)].copy()\n",
    "dfmv['dmax_voyager'] = horizon(dfmv['h0'], dfmv['fgw'], asd=asdv(dfmv['fgw'].values))\n",
    "\n",
    "print dfmv['dmax_voyager'].min()\n",
    "print dfmv['dmax_voyager'].max()"
   ]
  },
  {
   "cell_type": "code",
   "execution_count": null,
   "metadata": {
    "collapsed": false
   },
   "outputs": [],
   "source": [
    "# # colormap for peak h0 vs chi vs M\n",
    "\n",
    "# from matplotlib import ticker\n",
    "\n",
    "# #d = np.ma.masked_array(dfm['dmax_design'], dfm['dmax_design']<1E-3)\n",
    "# d = dfmv['dmax_voyager'] / (1E6 * physics.PC_SI)\n",
    "# dmin, dmax = 1E-2, d.max()\n",
    "# norm = matplotlib.colors.LogNorm(vmin=dmin, vmax=dmax)\n",
    "\n",
    "# fig, ax = plt.subplots(1, figsize=(11,8))\n",
    "\n",
    "# # plot contours\n",
    "# cm = ax.hexbin(dfmv['mbh'], dfmv['chi'], C=d, cmap='magma', norm=norm,  xscale='log')\n",
    "\n",
    "# # plot vertical line at 60 Msun\n",
    "# ax.axvline(60, c='w', ls=':', lw=2)\n",
    "# ax.axhline(0.7, c='w', ls=':', lw=2)\n",
    "\n",
    "# # add colorbar\n",
    "# #b_ticks = np.logspace(hmin, hmax, 7) # np.ceil(np.log10(h0s_ma[~np.isnan(h0s_ma)].max())), 7)\n",
    "# cb = plt.colorbar(cm, norm=norm, label=r'aLIGO design range (Mpc)')#, ticks=cb_ticks)\n",
    "# cb.ax.tick_params(labelsize=18) \n",
    "\n",
    "# plt.ylabel(r'$\\chi$')\n",
    "# plt.xlabel(r'$M$ $(M_\\odot)$')\n",
    "# ax.patch.set_facecolor(\"grey\")\n",
    "\n",
    "# plt.xlim(10, 1E3)\n",
    "# plt.ylim(0, 1)\n",
    "\n",
    "# ax.tick_params(axis='both', color='0.4', which='both', width=2)\n",
    "# ax.tick_params(axis='both', length=10)\n",
    "\n",
    "# cm.set_rasterized(True)\n",
    "\n",
    "# #fig.savefig('cmap_chi_mbh_h0max.pdf', bbox_inches='tight', dpi=400)\n",
    "\n",
    "# plt.show()\n",
    "# plt.close()"
   ]
  },
  {
   "cell_type": "code",
   "execution_count": null,
   "metadata": {
    "collapsed": true
   },
   "outputs": [],
   "source": []
  }
 ],
 "metadata": {
  "kernelspec": {
   "display_name": "Python 2",
   "language": "python",
   "name": "python2"
  },
  "language_info": {
   "codemirror_mode": {
    "name": "ipython",
    "version": 2
   },
   "file_extension": ".py",
   "mimetype": "text/x-python",
   "name": "python",
   "nbconvert_exporter": "python",
   "pygments_lexer": "ipython2",
   "version": "2.7.10"
  }
 },
 "nbformat": 4,
 "nbformat_minor": 2
}
