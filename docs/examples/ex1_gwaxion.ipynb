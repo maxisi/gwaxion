{
 "cells": [
  {
   "cell_type": "markdown",
   "metadata": {},
   "source": [
    "# GWs from bosons around black holes"
   ]
  },
  {
   "cell_type": "code",
   "execution_count": 1,
   "metadata": {},
   "outputs": [
    {
     "name": "stdout",
     "output_type": "stream",
     "text": [
      "Populating the interactive namespace from numpy and matplotlib\n"
     ]
    }
   ],
   "source": [
    "%pylab inline\n",
    "import gwaxion"
   ]
  },
  {
   "cell_type": "markdown",
   "metadata": {},
   "source": [
    "## Black holes and bosons\n",
    "\n",
    "Let's create a black-hole--boson system starting from a given BH mass ($M = 50 M_\\odot$), initial dimensionless BH spin ($\\chi=0.9$) and a fine structure constant ($\\alpha = 0.2$):"
   ]
  },
  {
   "cell_type": "code",
   "execution_count": 2,
   "metadata": {
    "jupyter": {
     "outputs_hidden": false
    }
   },
   "outputs": [],
   "source": [
    "bhb = gwaxion.BlackHoleBoson.from_parameters(m_bh=50, alpha=0.2, chi_bh=0.9)"
   ]
  },
  {
   "cell_type": "markdown",
   "metadata": {},
   "source": [
    "By default, the code assumes the boson is a scalar, but we could have specified a different spin-weight via the argument `spin`. Let's now print some properties of the system.\n",
    "\n",
    "First, the BHB system contains a **black-hole** (`BlackHole`) with the following properties:"
   ]
  },
  {
   "cell_type": "code",
   "execution_count": 3,
   "metadata": {
    "jupyter": {
     "outputs_hidden": false
    }
   },
   "outputs": [
    {
     "name": "stdout",
     "output_type": "stream",
     "text": [
      "\n",
      "The initial black-hole has a mass of 50.0 MSUN (9.9e+31 kg).\n",
      "It also has a dimensionless spin of chi=0.90, which corresponds to an angular momentum J=2.0e+45 Js, and Kerr parameter a=6.6e+04 m.\n",
      "The outer radius is 1.1e+05 m, with a horizon angular frequency of 1272.1 rad/s.\n"
     ]
    }
   ],
   "source": [
    "print(\"\\nThe initial black-hole has a mass of %.1f MSUN (%.1e kg).\"\n",
    "      % (bhb.bh.mass_msun, bhb.bh.mass))\n",
    "print(\"It also has a dimensionless spin of chi=%.2f, which corresponds to an \"\n",
    "      \"angular momentum J=%.1e Js, and Kerr parameter a=%.1e m.\"\n",
    "      % (bhb.bh.chi, bhb.bh.angular_momentum, bhb.bh.a))\n",
    "print(\"The outer radius is %.1e m, with a horizon angular frequency of %.1f rad/s.\"\n",
    "      % (bhb.bh.rp, bhb.bh.omega_horizon))"
   ]
  },
  {
   "cell_type": "markdown",
   "metadata": {},
   "source": [
    "Had we wanted to, we could have created a standalone black-hole by doing `bh = physics.BlackHole(50, chi=0.9, msun=True)`.\n",
    "\n",
    "The BHB system also contains a **boson** (in this case, a scalar):"
   ]
  },
  {
   "cell_type": "code",
   "execution_count": 4,
   "metadata": {
    "jupyter": {
     "outputs_hidden": false
    }
   },
   "outputs": [
    {
     "name": "stdout",
     "output_type": "stream",
     "text": [
      "The boson has a rest-mass of 1e-48 kg, which corresponds to an energy of 5.3e-13 eV. Its spin is 0.\n"
     ]
    }
   ],
   "source": [
    "print(\"The boson has a rest-mass of %1.e kg, which corresponds to an energy of \"\n",
    "      \"%.1e eV. Its spin is %i.\" % \n",
    "      (bhb.boson.mass, bhb.boson.energy_ev, bhb.boson.spin))"
   ]
  },
  {
   "cell_type": "markdown",
   "metadata": {},
   "source": [
    "Together, the black-hole--boson system has a finestructure constant given by the ratio of the gravitational radius ($r_g=GM/c^2$) to the boson's reduced Compton wavelength [$\\lambda_C = \\hbar / (\\mu c)$]. In this case this is:"
   ]
  },
  {
   "cell_type": "code",
   "execution_count": 5,
   "metadata": {
    "jupyter": {
     "outputs_hidden": false
    }
   },
   "outputs": [
    {
     "data": {
      "text/plain": [
       "0.20000000000000004"
      ]
     },
     "execution_count": 5,
     "metadata": {},
     "output_type": "execute_result"
    }
   ],
   "source": [
    "bhb.alpha"
   ]
  },
  {
   "cell_type": "markdown",
   "metadata": {},
   "source": [
    "Which is what we requested when we constructed the BHB system in the first place."
   ]
  },
  {
   "cell_type": "markdown",
   "metadata": {},
   "source": [
    "## Energy levels\n",
    "\n",
    "Let's compute the growth rate for a bunch of energy levels with quantum numbers $(l, m, n_r)$:"
   ]
  },
  {
   "cell_type": "code",
   "execution_count": 6,
   "metadata": {
    "jupyter": {
     "outputs_hidden": false
    }
   },
   "outputs": [
    {
     "name": "stdout",
     "output_type": "stream",
     "text": [
      "(l, m, nr, growth rate in Hz)\n",
      "----------------------------\n",
      "(0, 0, 0, -1.5e+00)\n",
      "(0, 0, 1, -1.9e-01)\n",
      "(0, 0, 2, -5.5e-02)\n",
      "(1, 0, 0, -1.3e-05)\n",
      "(1, 0, 1, -4.5e-06)\n",
      "(1, 0, 2, -2.0e-06)\n",
      "(1, 1, 0, 4.2e-06)\n",
      "(1, 1, 1, 1.5e-06)\n",
      "(1, 1, 2, 6.5e-07)\n",
      "(2, 0, 0, -4.9e-12)\n",
      "(2, 0, 1, -2.9e-12)\n",
      "(2, 0, 2, -1.7e-12)\n",
      "(2, 1, 0, 1.3e-12)\n",
      "(2, 1, 1, 7.5e-13)\n",
      "(2, 1, 2, 4.4e-13)\n",
      "(2, 2, 0, 7.0e-11)\n",
      "(2, 2, 1, 4.2e-11)\n",
      "(2, 2, 2, 2.5e-11)\n"
     ]
    }
   ],
   "source": [
    "print(\"(l, m, nr, growth rate in Hz)\")\n",
    "print(\"----------------------------\")\n",
    "for l in range(0, 3):\n",
    "    for m in range(0, l+1):\n",
    "        for nr in range(0, 3):\n",
    "            print(\"(%i, %i, %i, %.1e)\" % (l, m, nr, bhb.level_omega_im(l, m, nr)))"
   ]
  },
  {
   "cell_type": "markdown",
   "metadata": {},
   "source": [
    "Clearly the $l=m=1$ mode grows very fast. We could have also directly checked whether the $m=1$ mode satisfies the superradiant condition $\\mu < m \\Omega$:"
   ]
  },
  {
   "cell_type": "code",
   "execution_count": 7,
   "metadata": {
    "jupyter": {
     "outputs_hidden": false
    }
   },
   "outputs": [
    {
     "data": {
      "text/plain": [
       "True"
      ]
     },
     "execution_count": 7,
     "metadata": {},
     "output_type": "execute_result"
    }
   ],
   "source": [
    "bhb.is_superradiant(1)"
   ]
  },
  {
   "cell_type": "markdown",
   "metadata": {},
   "source": [
    "We can also directly ask for the fastest growing level:"
   ]
  },
  {
   "cell_type": "code",
   "execution_count": 8,
   "metadata": {
    "jupyter": {
     "outputs_hidden": false
    }
   },
   "outputs": [
    {
     "data": {
      "text/plain": [
       "(1, 1, 0, 4.174052907537487e-06)"
      ]
     },
     "execution_count": 8,
     "metadata": {},
     "output_type": "execute_result"
    }
   ],
   "source": [
    "bhb.max_growth_rate()"
   ]
  },
  {
   "cell_type": "markdown",
   "metadata": {},
   "source": [
    "The energy of a given level is given by $E_n = E_0(1-\\frac{\\alpha^2}{2n^2})$, where $E_0=mc^2$ and $n$ is the principal quantum number. For the $l=1, n_r=0$ level this is:"
   ]
  },
  {
   "cell_type": "code",
   "execution_count": 9,
   "metadata": {
    "jupyter": {
     "outputs_hidden": false
    }
   },
   "outputs": [
    {
     "name": "stdout",
     "output_type": "stream",
     "text": [
      "5.32e-13 eV\n"
     ]
    }
   ],
   "source": [
    "l, nr = (1, 0)\n",
    "print(\"%.2e eV\" % bhb.level_energy(l + nr + 1))"
   ]
  },
  {
   "cell_type": "markdown",
   "metadata": {},
   "source": [
    "## Clouds\n",
    "\n",
    "We can now add a cloud to our BHB system to populate the largest growing level:"
   ]
  },
  {
   "cell_type": "code",
   "execution_count": 10,
   "metadata": {},
   "outputs": [],
   "source": [
    "cloud = bhb.best_cloud()"
   ]
  },
  {
   "cell_type": "markdown",
   "metadata": {},
   "source": [
    "The system now has one cloud with $(l=1, m=1, n_r=0)$:"
   ]
  },
  {
   "cell_type": "code",
   "execution_count": 11,
   "metadata": {
    "jupyter": {
     "outputs_hidden": false
    }
   },
   "outputs": [
    {
     "data": {
      "text/plain": [
       "{(1, 1, 0): <gwaxion.physics.BosonCloud at 0x7fe4ecad3310>}"
      ]
     },
     "execution_count": 11,
     "metadata": {},
     "output_type": "execute_result"
    }
   ],
   "source": [
    "bhb.clouds"
   ]
  },
  {
   "cell_type": "markdown",
   "metadata": {},
   "source": [
    "We could have equivalently added this cloud by doing `bhb.cloud(1, 1, 0)` which would retrieve (or create) the desired cloud, but using `bhb.best_cloud()` we don't have to know the quantum numbers of the best cloud a priori.\n",
    "\n",
    "Let's print some properties of the cloud:"
   ]
  },
  {
   "cell_type": "code",
   "execution_count": 12,
   "metadata": {
    "jupyter": {
     "outputs_hidden": false
    }
   },
   "outputs": [
    {
     "name": "stdout",
     "output_type": "stream",
     "text": [
      "\n",
      "After superradiant growth, the cloud has mass 3.3 MSUN (6.5e+30 kg).\n",
      "This is 6.6%  of the original BH mass.\n"
     ]
    }
   ],
   "source": [
    "mass_fraction = cloud.mass / cloud.bhb_initial.bh.mass\n",
    "print(\"\\nAfter superradiant growth, the cloud has mass %.1f MSUN (%.1e kg).\"\n",
    "      % (cloud.mass_msun, cloud.mass))\n",
    "print(\"This is %.1f%%  of the original BH mass.\" % (mass_fraction*100))"
   ]
  },
  {
   "cell_type": "markdown",
   "metadata": {},
   "source": [
    "Note that the cloud object contains a pointer to the original BlackHoleBoson system under `cloud.bhb_initial`. It also has a similar object for the black hole that remains after superradiant growth:"
   ]
  },
  {
   "cell_type": "code",
   "execution_count": 13,
   "metadata": {
    "jupyter": {
     "outputs_hidden": false
    }
   },
   "outputs": [
    {
     "name": "stdout",
     "output_type": "stream",
     "text": [
      "The mass and spin of the final black hole are: (46.7 MSUN, 0.65)\n"
     ]
    }
   ],
   "source": [
    "print(\"The mass and spin of the final black hole are: (%.1f MSUN, %.2f)\"\\\n",
    "      % (cloud.bhb_final.bh.mass_msun, cloud.bhb_final.bh.chi))"
   ]
  },
  {
   "cell_type": "markdown",
   "metadata": {},
   "source": [
    "## Gravitational waves"
   ]
  },
  {
   "cell_type": "markdown",
   "metadata": {},
   "source": [
    "After the superradiant stage is over, the cloud will emit GWs at a frequency of"
   ]
  },
  {
   "cell_type": "code",
   "execution_count": 14,
   "metadata": {
    "jupyter": {
     "outputs_hidden": false
    }
   },
   "outputs": [
    {
     "name": "stdout",
     "output_type": "stream",
     "text": [
      "257.28 Hz\n"
     ]
    }
   ],
   "source": [
    "print(\"%.2f Hz\" % cloud.fgw)"
   ]
  },
  {
   "cell_type": "markdown",
   "metadata": {},
   "source": [
    "We can also easily obtain the corresponding waveform, Eqs. (39) and (40) in Brito et al. (2017):"
   ]
  },
  {
   "cell_type": "code",
   "execution_count": 15,
   "metadata": {
    "jupyter": {
     "outputs_hidden": false
    }
   },
   "outputs": [
    {
     "data": {
      "text/plain": [
       "<matplotlib.legend.Legend at 0x7fe4ecb152d0>"
      ]
     },
     "execution_count": 15,
     "metadata": {},
     "output_type": "execute_result"
    },
    {
     "data": {
      "image/png": "[encoded data removed]",
      "text/plain": [
       "<Figure size 432x288 with 1 Axes>"
      ]
     },
     "metadata": {
      "needs_background": "light"
     },
     "output_type": "display_data"
    }
   ],
   "source": [
    "# Create a waveform and plot it\n",
    "hp, hc = cloud.gw().hp, cloud.gw().hc\n",
    "inclination = np.pi/4\n",
    "time = np.arange(0, 0.05, 1E-4)\n",
    "\n",
    "plot(time, hp(inclination, 0, time), label=r'$+$', color='dodgerblue', lw=2, alpha=0.7)\n",
    "plot(time, hc(inclination, 0, time), label=r'$\\times$', color='darkorange', lw=2, alpha=0.7)\n",
    "xlabel(\"Time (s)\");\n",
    "ylabel(r\"$h(t)$\");\n",
    "title(\"GWs from BH (%.f MSUN) and scalar (%.1e eV)\"\n",
    "          % (cloud.bhb_final.bh.mass_msun, cloud.bhb_final.boson.energy_ev));\n",
    "legend(loc='upper right')"
   ]
  },
  {
   "cell_type": "markdown",
   "metadata": {},
   "source": [
    "This folds in all the proper spheroidal harmonics and numerical factors."
   ]
  },
  {
   "cell_type": "code",
   "execution_count": null,
   "metadata": {},
   "outputs": [],
   "source": []
  }
 ],
 "metadata": {
  "kernelspec": {
   "display_name": "gwaxion",
   "language": "python",
   "name": "gwaxion"
  },
  "language_info": {
   "codemirror_mode": {
    "name": "ipython",
    "version": 3
   },
   "file_extension": ".py",
   "mimetype": "text/x-python",
   "name": "python",
   "nbconvert_exporter": "python",
   "pygments_lexer": "ipython3",
   "version": "3.7.9"
  },
  "toc": {
   "base_numbering": 1,
   "nav_menu": {},
   "number_sections": true,
   "sideBar": true,
   "skip_h1_title": false,
   "title_cell": "Table of Contents",
   "title_sidebar": "Contents",
   "toc_cell": false,
   "toc_position": {},
   "toc_section_display": true,
   "toc_window_display": false
  }
 },
 "nbformat": 4,
 "nbformat_minor": 4
}
